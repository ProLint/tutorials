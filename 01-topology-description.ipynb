{
 "cells": [
  {
   "cell_type": "markdown",
   "metadata": {},
   "source": [
    "## `prolintpy`:  loading data and topology description"
   ]
  },
  {
   "cell_type": "markdown",
   "metadata": {},
   "source": [
    "`prolintpy` relies on `MDTraj` to read input data files, as such, it is the only module that has to be imported alongside `prolintpy`: "
   ]
  },
  {
   "cell_type": "code",
   "execution_count": 1,
   "metadata": {},
   "outputs": [],
   "source": [
    "import mdtraj as md\n",
    "import prolintpy as pl"
   ]
  },
  {
   "cell_type": "markdown",
   "metadata": {},
   "source": [
    "Load the data using MDTraj"
   ]
  },
  {
   "cell_type": "code",
   "execution_count": 2,
   "metadata": {},
   "outputs": [],
   "source": [
    "t = md.load('./data/test_data_1.xtc', top='./data/test_data_1.gro')"
   ]
  },
  {
   "cell_type": "code",
   "execution_count": 3,
   "metadata": {},
   "outputs": [
    {
     "data": {
      "text/plain": [
       "<mdtraj.Trajectory with 17 frames, 23820 atoms, 3240 residues, and unitcells at 0x25aad61e400>"
      ]
     },
     "execution_count": 3,
     "metadata": {},
     "output_type": "execute_result"
    }
   ],
   "source": [
    "t"
   ]
  },
  {
   "cell_type": "markdown",
   "metadata": {},
   "source": [
    " "
   ]
  },
  {
   "cell_type": "markdown",
   "metadata": {},
   "source": [
    "## Load the data to prolintpy and define the protein and lipid topology"
   ]
  },
  {
   "cell_type": "markdown",
   "metadata": {},
   "source": [
    "We first specify the resolution of the input data and indicate if we want to combine the proteins (only applicable if there are more than one protein in the system). \n",
    "<br>Combining proteins will result in the calculated metrics being averages of all copies. "
   ]
  },
  {
   "cell_type": "code",
   "execution_count": 4,
   "metadata": {},
   "outputs": [],
   "source": [
    "resolution = \"martini\"\n",
    "combine_proteins = False\n",
    "lipids = pl.Lipids(t.topology, resolution=resolution)\n",
    "proteins = pl.Proteins(t.topology, resolution=resolution).system_proteins(merge=combine_proteins)"
   ]
  },
  {
   "cell_type": "markdown",
   "metadata": {},
   "source": [
    "  "
   ]
  },
  {
   "cell_type": "markdown",
   "metadata": {},
   "source": [
    "## Extract information about the input system"
   ]
  },
  {
   "cell_type": "markdown",
   "metadata": {},
   "source": [
    "Get all the lipid residues in the system"
   ]
  },
  {
   "cell_type": "code",
   "execution_count": 5,
   "metadata": {},
   "outputs": [
    {
     "data": {
      "text/plain": [
       "array(['POPE', 'POPS', 'CHOL'], dtype=object)"
      ]
     },
     "execution_count": 5,
     "metadata": {},
     "output_type": "execute_result"
    }
   ],
   "source": [
    "lipids.lipid_names()"
   ]
  },
  {
   "cell_type": "markdown",
   "metadata": {},
   "source": [
    "Get the names of the different lipids as well as their count"
   ]
  },
  {
   "cell_type": "code",
   "execution_count": 6,
   "metadata": {},
   "outputs": [
    {
     "data": {
      "text/plain": [
       "{'POPE': 652, 'POPS': 652, 'CHOL': 652}"
      ]
     },
     "execution_count": 6,
     "metadata": {},
     "output_type": "execute_result"
    }
   ],
   "source": [
    "lipids.lipid_count()"
   ]
  },
  {
   "cell_type": "markdown",
   "metadata": {},
   "source": [
    "Get a pandas DataFrame for the defined systems"
   ]
  },
  {
   "cell_type": "code",
   "execution_count": 7,
   "metadata": {},
   "outputs": [
    {
     "data": {
      "text/html": [
       "<div>\n",
       "<style scoped>\n",
       "    .dataframe tbody tr th:only-of-type {\n",
       "        vertical-align: middle;\n",
       "    }\n",
       "\n",
       "    .dataframe tbody tr th {\n",
       "        vertical-align: top;\n",
       "    }\n",
       "\n",
       "    .dataframe thead th {\n",
       "        text-align: right;\n",
       "    }\n",
       "</style>\n",
       "<table border=\"1\" class=\"dataframe\">\n",
       "  <thead>\n",
       "    <tr style=\"text-align: right;\">\n",
       "      <th></th>\n",
       "      <th>serial</th>\n",
       "      <th>name</th>\n",
       "      <th>element</th>\n",
       "      <th>resSeq</th>\n",
       "      <th>resName</th>\n",
       "      <th>chainID</th>\n",
       "      <th>segmentID</th>\n",
       "    </tr>\n",
       "  </thead>\n",
       "  <tbody>\n",
       "    <tr>\n",
       "      <th>2956</th>\n",
       "      <td>2957</td>\n",
       "      <td>NH3</td>\n",
       "      <td>N</td>\n",
       "      <td>1285</td>\n",
       "      <td>POPE</td>\n",
       "      <td>0</td>\n",
       "      <td></td>\n",
       "    </tr>\n",
       "    <tr>\n",
       "      <th>2957</th>\n",
       "      <td>2958</td>\n",
       "      <td>PO4</td>\n",
       "      <td>P</td>\n",
       "      <td>1285</td>\n",
       "      <td>POPE</td>\n",
       "      <td>0</td>\n",
       "      <td></td>\n",
       "    </tr>\n",
       "    <tr>\n",
       "      <th>2958</th>\n",
       "      <td>2959</td>\n",
       "      <td>GL1</td>\n",
       "      <td>VS</td>\n",
       "      <td>1285</td>\n",
       "      <td>POPE</td>\n",
       "      <td>0</td>\n",
       "      <td></td>\n",
       "    </tr>\n",
       "    <tr>\n",
       "      <th>2959</th>\n",
       "      <td>2960</td>\n",
       "      <td>GL2</td>\n",
       "      <td>VS</td>\n",
       "      <td>1285</td>\n",
       "      <td>POPE</td>\n",
       "      <td>0</td>\n",
       "      <td></td>\n",
       "    </tr>\n",
       "    <tr>\n",
       "      <th>2960</th>\n",
       "      <td>2961</td>\n",
       "      <td>C1A</td>\n",
       "      <td>C</td>\n",
       "      <td>1285</td>\n",
       "      <td>POPE</td>\n",
       "      <td>0</td>\n",
       "      <td></td>\n",
       "    </tr>\n",
       "  </tbody>\n",
       "</table>\n",
       "</div>"
      ],
      "text/plain": [
       "      serial name element  resSeq resName  chainID segmentID\n",
       "2956    2957  NH3       N    1285    POPE        0          \n",
       "2957    2958  PO4       P    1285    POPE        0          \n",
       "2958    2959  GL1      VS    1285    POPE        0          \n",
       "2959    2960  GL2      VS    1285    POPE        0          \n",
       "2960    2961  C1A       C    1285    POPE        0          "
      ]
     },
     "execution_count": 7,
     "metadata": {},
     "output_type": "execute_result"
    }
   ],
   "source": [
    "lipids.ldf.head()"
   ]
  },
  {
   "cell_type": "markdown",
   "metadata": {},
   "source": [
    "Retrieve the residue IDs of all cholesterol lipids"
   ]
  },
  {
   "cell_type": "code",
   "execution_count": 8,
   "metadata": {},
   "outputs": [
    {
     "data": {
      "text/plain": [
       "array([1937, 1938, 1939, 1940, 1941, 1942, 1943, 1944, 1945, 1946, 1947,\n",
       "       1948, 1949, 1950, 1951, 1952, 1953, 1954, 1955, 1956, 1957, 1958,\n",
       "       1959, 1960, 1961, 1962, 1963, 1964, 1965, 1966, 1967, 1968, 1969,\n",
       "       1970, 1971, 1972, 1973, 1974, 1975, 1976, 1977, 1978, 1979, 1980,\n",
       "       1981, 1982, 1983, 1984, 1985, 1986, 1987, 1988, 1989, 1990, 1991,\n",
       "       1992, 1993, 1994, 1995, 1996, 1997, 1998, 1999, 2000, 2001, 2002,\n",
       "       2003, 2004, 2005, 2006, 2007, 2008, 2009, 2010, 2011, 2012, 2013,\n",
       "       2014, 2015, 2016, 2017, 2018, 2019, 2020, 2021, 2022, 2023, 2024,\n",
       "       2025, 2026, 2027, 2028, 2029, 2030, 2031, 2032, 2033, 2034, 2035,\n",
       "       2036, 2037, 2038, 2039, 2040, 2041, 2042, 2043, 2044, 2045, 2046,\n",
       "       2047, 2048, 2049, 2050, 2051, 2052, 2053, 2054, 2055, 2056, 2057,\n",
       "       2058, 2059, 2060, 2061, 2062, 2063, 2064, 2065, 2066, 2067, 2068,\n",
       "       2069, 2070, 2071, 2072, 2073, 2074, 2075, 2076, 2077, 2078, 2079,\n",
       "       2080, 2081, 2082, 2083, 2084, 2085, 2086, 2087, 2088, 2089, 2090,\n",
       "       2091, 2092, 2093, 2094, 2095, 2096, 2097, 2098, 2099, 2100, 2101,\n",
       "       2102, 2103, 2104, 2105, 2106, 2107, 2108, 2109, 2110, 2111, 2112,\n",
       "       2113, 2114, 2115, 2116, 2117, 2118, 2119, 2120, 2121, 2122, 2123,\n",
       "       2124, 2125, 2126, 2127, 2128, 2129, 2130, 2131, 2132, 2133, 2134,\n",
       "       2135, 2136, 2137, 2138, 2139, 2140, 2141, 2142, 2143, 2144, 2145,\n",
       "       2146, 2147, 2148, 2149, 2150, 2151, 2152, 2153, 2154, 2155, 2156,\n",
       "       2157, 2158, 2159, 2160, 2161, 2162, 2163, 2164, 2165, 2166, 2167,\n",
       "       2168, 2169, 2170, 2171, 2172, 2173, 2174, 2175, 2176, 2177, 2178,\n",
       "       2179, 2180, 2181, 2182, 2183, 2184, 2185, 2186, 2187, 2188, 2189,\n",
       "       2190, 2191, 2192, 2193, 2194, 2195, 2196, 2197, 2198, 2199, 2200,\n",
       "       2201, 2202, 2203, 2204, 2205, 2206, 2207, 2208, 2209, 2210, 2211,\n",
       "       2212, 2213, 2214, 2215, 2216, 2217, 2218, 2219, 2220, 2221, 2222,\n",
       "       2223, 2224, 2225, 2226, 2227, 2228, 2229, 2230, 2231, 2232, 2233,\n",
       "       2234, 2235, 2236, 2237, 2238, 2239, 2240, 2241, 2242, 2243, 2244,\n",
       "       2245, 2246, 2247, 2248, 2249, 2250, 2251, 2252, 2253, 2254, 2255,\n",
       "       2256, 2257, 2258, 2259, 2260, 2261, 2262, 2915, 2916, 2917, 2918,\n",
       "       2919, 2920, 2921, 2922, 2923, 2924, 2925, 2926, 2927, 2928, 2929,\n",
       "       2930, 2931, 2932, 2933, 2934, 2935, 2936, 2937, 2938, 2939, 2940,\n",
       "       2941, 2942, 2943, 2944, 2945, 2946, 2947, 2948, 2949, 2950, 2951,\n",
       "       2952, 2953, 2954, 2955, 2956, 2957, 2958, 2959, 2960, 2961, 2962,\n",
       "       2963, 2964, 2965, 2966, 2967, 2968, 2969, 2970, 2971, 2972, 2973,\n",
       "       2974, 2975, 2976, 2977, 2978, 2979, 2980, 2981, 2982, 2983, 2984,\n",
       "       2985, 2986, 2987, 2988, 2989, 2990, 2991, 2992, 2993, 2994, 2995,\n",
       "       2996, 2997, 2998, 2999, 3000, 3001, 3002, 3003, 3004, 3005, 3006,\n",
       "       3007, 3008, 3009, 3010, 3011, 3012, 3013, 3014, 3015, 3016, 3017,\n",
       "       3018, 3019, 3020, 3021, 3022, 3023, 3024, 3025, 3026, 3027, 3028,\n",
       "       3029, 3030, 3031, 3032, 3033, 3034, 3035, 3036, 3037, 3038, 3039,\n",
       "       3040, 3041, 3042, 3043, 3044, 3045, 3046, 3047, 3048, 3049, 3050,\n",
       "       3051, 3052, 3053, 3054, 3055, 3056, 3057, 3058, 3059, 3060, 3061,\n",
       "       3062, 3063, 3064, 3065, 3066, 3067, 3068, 3069, 3070, 3071, 3072,\n",
       "       3073, 3074, 3075, 3076, 3077, 3078, 3079, 3080, 3081, 3082, 3083,\n",
       "       3084, 3085, 3086, 3087, 3088, 3089, 3090, 3091, 3092, 3093, 3094,\n",
       "       3095, 3096, 3097, 3098, 3099, 3100, 3101, 3102, 3103, 3104, 3105,\n",
       "       3106, 3107, 3108, 3109, 3110, 3111, 3112, 3113, 3114, 3115, 3116,\n",
       "       3117, 3118, 3119, 3120, 3121, 3122, 3123, 3124, 3125, 3126, 3127,\n",
       "       3128, 3129, 3130, 3131, 3132, 3133, 3134, 3135, 3136, 3137, 3138,\n",
       "       3139, 3140, 3141, 3142, 3143, 3144, 3145, 3146, 3147, 3148, 3149,\n",
       "       3150, 3151, 3152, 3153, 3154, 3155, 3156, 3157, 3158, 3159, 3160,\n",
       "       3161, 3162, 3163, 3164, 3165, 3166, 3167, 3168, 3169, 3170, 3171,\n",
       "       3172, 3173, 3174, 3175, 3176, 3177, 3178, 3179, 3180, 3181, 3182,\n",
       "       3183, 3184, 3185, 3186, 3187, 3188, 3189, 3190, 3191, 3192, 3193,\n",
       "       3194, 3195, 3196, 3197, 3198, 3199, 3200, 3201, 3202, 3203, 3204,\n",
       "       3205, 3206, 3207, 3208, 3209, 3210, 3211, 3212, 3213, 3214, 3215,\n",
       "       3216, 3217, 3218, 3219, 3220, 3221, 3222, 3223, 3224, 3225, 3226,\n",
       "       3227, 3228, 3229, 3230, 3231, 3232, 3233, 3234, 3235, 3236, 3237,\n",
       "       3238, 3239, 3240], dtype=int64)"
      ]
     },
     "execution_count": 8,
     "metadata": {},
     "output_type": "execute_result"
    }
   ],
   "source": [
    "lipids.ldf[lipids.ldf.resName == \"CHOL\"].resSeq.unique()"
   ]
  },
  {
   "cell_type": "markdown",
   "metadata": {},
   "source": [
    " "
   ]
  },
  {
   "cell_type": "markdown",
   "metadata": {},
   "source": [
    "List the proteins found in the system and store the first one (the only one here) in a variable. \n",
    "`prolintpy` derives topology information for proteins from the input coordinate file. \n",
    "<br>Two proteins will be considered the same if they are entirely identical (same number of residues, completely identical order and type of atoms/beads). "
   ]
  },
  {
   "cell_type": "code",
   "execution_count": 9,
   "metadata": {},
   "outputs": [
    {
     "data": {
      "text/plain": [
       "[<prolintpy.Protein containing 1 replicate(s) of Protein0 and 1284 beads each>]"
      ]
     },
     "execution_count": 9,
     "metadata": {},
     "output_type": "execute_result"
    }
   ],
   "source": [
    "proteins"
   ]
  },
  {
   "cell_type": "code",
   "execution_count": 10,
   "metadata": {},
   "outputs": [],
   "source": [
    "protein = proteins[0]"
   ]
  },
  {
   "cell_type": "markdown",
   "metadata": {},
   "source": [
    " "
   ]
  },
  {
   "cell_type": "markdown",
   "metadata": {},
   "source": [
    "Get various protein information. Note that to get a dataframe "
   ]
  },
  {
   "cell_type": "code",
   "execution_count": 11,
   "metadata": {},
   "outputs": [],
   "source": [
    "protein.name = \"GIRK\" # Give the protein a better name"
   ]
  },
  {
   "cell_type": "code",
   "execution_count": 12,
   "metadata": {},
   "outputs": [
    {
     "data": {
      "text/plain": [
       "1284"
      ]
     },
     "execution_count": 12,
     "metadata": {},
     "output_type": "execute_result"
    }
   ],
   "source": [
    "protein.n_residues"
   ]
  },
  {
   "cell_type": "code",
   "execution_count": 13,
   "metadata": {},
   "outputs": [
    {
     "name": "stdout",
     "output_type": "stream",
     "text": [
      "1 1284\n"
     ]
    }
   ],
   "source": [
    "print (protein.first_residue, protein.last_residue)"
   ]
  },
  {
   "cell_type": "code",
   "execution_count": 14,
   "metadata": {},
   "outputs": [
    {
     "data": {
      "text/plain": [
       "1"
      ]
     },
     "execution_count": 14,
     "metadata": {},
     "output_type": "execute_result"
    }
   ],
   "source": [
    "protein.counter"
   ]
  },
  {
   "cell_type": "markdown",
   "metadata": {},
   "source": [
    " "
   ]
  },
  {
   "cell_type": "markdown",
   "metadata": {},
   "source": [
    "Get the indices for residues 50, 60, and 70"
   ]
  },
  {
   "cell_type": "code",
   "execution_count": 15,
   "metadata": {},
   "outputs": [
    {
     "name": "stdout",
     "output_type": "stream",
     "text": [
      "Using the available dataframe\n"
     ]
    },
    {
     "data": {
      "text/plain": [
       "[array([124, 125], dtype=int64),\n",
       " array([155, 156, 157, 158, 159], dtype=int64),\n",
       " array([179, 180], dtype=int64)]"
      ]
     },
     "execution_count": 15,
     "metadata": {},
     "output_type": "execute_result"
    }
   ],
   "source": [
    "protein.get_indices([50, 60, 70])"
   ]
  },
  {
   "cell_type": "markdown",
   "metadata": {},
   "source": [
    " "
   ]
  },
  {
   "cell_type": "markdown",
   "metadata": {},
   "source": [
    "### Why `prolintpy` is easy to scale-up "
   ]
  },
  {
   "cell_type": "markdown",
   "metadata": {},
   "source": [
    "If the input system contains only one copy of only one protein type (as in this example) then `proteins` will be a list of only one element. This entails a little bit extra work to get the protein out of the list, but provides much more flexibility in handling more complex system setups. You can use the `counter` option alongside the length of the `proteins` list to extract information about proteins in the system dynamically.\n",
    "\n",
    "For instance, to get a DataFrame representation for each protein in the system dynamically (that is without knowing anything about the composition of the input system), we can do that very easily<br>\n",
    "One way of doing that is the following syntax: "
   ]
  },
  {
   "cell_type": "code",
   "execution_count": 16,
   "metadata": {},
   "outputs": [],
   "source": [
    "def get_dataframes(proteins):\n",
    "    \"\"\"\n",
    "    Takes as input a prolintpy.Protein object and returns a list of DataFrame elements \n",
    "    for each copy of each protein in the system. \n",
    "    \"\"\"\n",
    "    dataframe_list = [protein.dataframe[protein_copy] for protein in proteins for protein_copy in range(protein.counter)]\n",
    "    return dataframe_list"
   ]
  },
  {
   "cell_type": "code",
   "execution_count": 17,
   "metadata": {},
   "outputs": [
    {
     "data": {
      "text/plain": [
       "[      serial name element  resSeq resName  chainID segmentID\n",
       " 0          1   BB       B       1     ARG        0          \n",
       " 1          2  SC1       S       1     ARG        0          \n",
       " 2          3  SC2       S       1     ARG        0          \n",
       " 3          4   BB       B       2     GLN        0          \n",
       " 4          5  SC1       S       2     GLN        0          \n",
       " 5          6   BB       B       3     ARG        0          \n",
       " 6          7  SC1       S       3     ARG        0          \n",
       " 7          8  SC2       S       3     ARG        0          \n",
       " 8          9   BB       B       4     TYR        0          \n",
       " 9         10  SC1       S       4     TYR        0          \n",
       " 10        11  SC2       S       4     TYR        0          \n",
       " 11        12  SC3       S       4     TYR        0          \n",
       " 12        13   BB       B       5     MET        0          \n",
       " 13        14  SC1       S       5     MET        0          \n",
       " 14        15   BB       B       6     GLU        0          \n",
       " 15        16  SC1       S       6     GLU        0          \n",
       " 16        17   BB       B       7     LYS        0          \n",
       " 17        18  SC1       S       7     LYS        0          \n",
       " 18        19  SC2       S       7     LYS        0          \n",
       " 19        20   BB       B       8     THR        0          \n",
       " 20        21  SC1       S       8     THR        0          \n",
       " 21        22   BB       B       9     GLY        0          \n",
       " 22        23   BB       B      10     LYS        0          \n",
       " 23        24  SC1       S      10     LYS        0          \n",
       " 24        25  SC2       S      10     LYS        0          \n",
       " 25        26   BB       B      11     CYS        0          \n",
       " 26        27  SC1       S      11     CYS        0          \n",
       " 27        28   BB       B      12     ASN        0          \n",
       " 28        29  SC1       S      12     ASN        0          \n",
       " 29        30   BB       B      13     VAL        0          \n",
       " ...      ...  ...     ...     ...     ...      ...       ...\n",
       " 2926    2927  SC3       S    1269     TYR        0          \n",
       " 2927    2928   BB       B    1270     GLU        0          \n",
       " 2928    2929  SC1       S    1270     GLU        0          \n",
       " 2929    2930   BB       B    1271     THR        0          \n",
       " 2930    2931  SC1       S    1271     THR        0          \n",
       " 2931    2932   BB       B    1272     ASN        0          \n",
       " 2932    2933  SC1       S    1272     ASN        0          \n",
       " 2933    2934   BB       B    1273     THR        0          \n",
       " 2934    2935  SC1       S    1273     THR        0          \n",
       " 2935    2936   BB       B    1274     PRO        0          \n",
       " 2936    2937  SC1       S    1274     PRO        0          \n",
       " 2937    2938   BB       B    1275     SER        0          \n",
       " 2938    2939  SC1       S    1275     SER        0          \n",
       " 2939    2940   BB       B    1276     CYS        0          \n",
       " 2940    2941  SC1       S    1276     CYS        0          \n",
       " 2941    2942   BB       B    1277     CYS        0          \n",
       " 2942    2943  SC1       S    1277     CYS        0          \n",
       " 2943    2944   BB       B    1278     ALA        0          \n",
       " 2944    2945   BB       B    1279     LYS        0          \n",
       " 2945    2946  SC1       S    1279     LYS        0          \n",
       " 2946    2947  SC2       S    1279     LYS        0          \n",
       " 2947    2948   BB       B    1280     GLU        0          \n",
       " 2948    2949  SC1       S    1280     GLU        0          \n",
       " 2949    2950   BB       B    1281     LEU        0          \n",
       " 2950    2951  SC1       S    1281     LEU        0          \n",
       " 2951    2952   BB       B    1282     ALA        0          \n",
       " 2952    2953   BB       B    1283     GLU        0          \n",
       " 2953    2954  SC1       S    1283     GLU        0          \n",
       " 2954    2955   BB       B    1284     MET        0          \n",
       " 2955    2956  SC1       S    1284     MET        0          \n",
       " \n",
       " [2956 rows x 7 columns]]"
      ]
     },
     "execution_count": 17,
     "metadata": {},
     "output_type": "execute_result"
    }
   ],
   "source": [
    "# returns a list of DataFrame elements \n",
    "get_dataframes(proteins)"
   ]
  },
  {
   "cell_type": "markdown",
   "metadata": {},
   "source": [
    " "
   ]
  },
  {
   "cell_type": "markdown",
   "metadata": {},
   "source": [
    "# Exercise"
   ]
  },
  {
   "cell_type": "markdown",
   "metadata": {},
   "source": [
    "Test the above commands using a system that contains multiple proteins in different number of copies/replicates. In particular, test the function `get_dataframes()` and how it works for such systems. <br>\n",
    "The test files `test_data_2.xtc`  and `test_data_2.gro` contain a system that has four copies/replicates of one protein type. Note how a very simple function that we wrote allows us to have complete access to the protein topology of system. "
   ]
  },
  {
   "cell_type": "code",
   "execution_count": 18,
   "metadata": {},
   "outputs": [],
   "source": [
    "t = md.load('./data/test_data_2.xtc', top='./data/test_data_2.gro')"
   ]
  },
  {
   "cell_type": "code",
   "execution_count": 19,
   "metadata": {},
   "outputs": [
    {
     "data": {
      "text/plain": [
       "<mdtraj.Trajectory with 26 frames, 59412 atoms, 6026 residues, and unitcells at 0x25ab4e02668>"
      ]
     },
     "execution_count": 19,
     "metadata": {},
     "output_type": "execute_result"
    }
   ],
   "source": [
    "t"
   ]
  },
  {
   "cell_type": "code",
   "execution_count": null,
   "metadata": {},
   "outputs": [],
   "source": []
  }
 ],
 "metadata": {
  "kernelspec": {
   "display_name": "Python 3",
   "language": "python",
   "name": "python3"
  },
  "language_info": {
   "codemirror_mode": {
    "name": "ipython",
    "version": 3
   },
   "file_extension": ".py",
   "mimetype": "text/x-python",
   "name": "python",
   "nbconvert_exporter": "python",
   "pygments_lexer": "ipython3",
   "version": "3.6.6"
  }
 },
 "nbformat": 4,
 "nbformat_minor": 4
}
