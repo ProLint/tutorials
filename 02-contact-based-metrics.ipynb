{
 "cells": [
  {
   "cell_type": "markdown",
   "metadata": {},
   "source": [
    "## Contact-based metrics"
   ]
  },
  {
   "cell_type": "markdown",
   "metadata": {},
   "source": [
    "Import files and build topology description"
   ]
  },
  {
   "cell_type": "code",
   "execution_count": 1,
   "metadata": {},
   "outputs": [],
   "source": [
    "import numpy as np\n",
    "import mdtraj as md\n",
    "import prolintpy as pl"
   ]
  },
  {
   "cell_type": "code",
   "execution_count": 2,
   "metadata": {},
   "outputs": [],
   "source": [
    "t = md.load('./data/test_data_1.xtc', top='./data/test_data_1.gro')"
   ]
  },
  {
   "cell_type": "code",
   "execution_count": 3,
   "metadata": {},
   "outputs": [],
   "source": [
    "resolution = \"martini\"\n",
    "combine_proteins = False\n",
    "lipids = pl.Lipids(t.topology, resolution=resolution, lipid_names=[\"CHOL\", \"POPS\"])\n",
    "proteins = pl.Proteins(t.topology, resolution=resolution).system_proteins(merge=combine_proteins)"
   ]
  },
  {
   "cell_type": "markdown",
   "metadata": {},
   "source": [
    " "
   ]
  },
  {
   "cell_type": "markdown",
   "metadata": {},
   "source": [
    "## Build a prolintpy.ComputeContacts object"
   ]
  },
  {
   "cell_type": "markdown",
   "metadata": {},
   "source": [
    "We use this object for all contact calculations"
   ]
  },
  {
   "cell_type": "code",
   "execution_count": 4,
   "metadata": {},
   "outputs": [],
   "source": [
    "contacts = pl.ComputeContacts(t, proteins, lipids)"
   ]
  },
  {
   "cell_type": "code",
   "execution_count": 5,
   "metadata": {},
   "outputs": [
    {
     "data": {
      "text/plain": [
       "<prolintpy.core.computecontacts.ComputeContacts at 0x24a3ddb77f0>"
      ]
     },
     "execution_count": 5,
     "metadata": {},
     "output_type": "execute_result"
    }
   ],
   "source": [
    "contacts"
   ]
  },
  {
   "cell_type": "markdown",
   "metadata": {},
   "source": [
    " "
   ]
  },
  {
   "cell_type": "markdown",
   "metadata": {},
   "source": [
    "Given a list of residues and a cutoff distance, calculate all neighboring lipids: "
   ]
  },
  {
   "cell_type": "code",
   "execution_count": 6,
   "metadata": {},
   "outputs": [],
   "source": [
    "residues = [*range(85, 130)]\n",
    "cutoff = 0.5 # nm"
   ]
  },
  {
   "cell_type": "code",
   "execution_count": 7,
   "metadata": {},
   "outputs": [
    {
     "name": "stdout",
     "output_type": "stream",
     "text": [
      "Working on protein copy: 0\n"
     ]
    }
   ],
   "source": [
    "# do not supply anything to residues argument in order for all residues to be included\n",
    "result = contacts.compute_neighbors(t, residues=residues, cutoff=cutoff, grouped=False)"
   ]
  },
  {
   "cell_type": "markdown",
   "metadata": {},
   "source": [
    "The output is a nested dictionary: <br>\n",
    "protein name > protein copy > residue ID > prolintpy.LPContacts object"
   ]
  },
  {
   "cell_type": "code",
   "execution_count": 8,
   "metadata": {},
   "outputs": [
    {
     "data": {
      "text/plain": [
       "{'Protein0': {0: {85: <prolintpy.LPContacts for residue 85>,\n",
       "   86: <prolintpy.LPContacts for residue 86>,\n",
       "   87: <prolintpy.LPContacts for residue 87>,\n",
       "   88: <prolintpy.LPContacts for residue 88>,\n",
       "   89: <prolintpy.LPContacts for residue 89>,\n",
       "   90: <prolintpy.LPContacts for residue 90>,\n",
       "   91: <prolintpy.LPContacts for residue 91>,\n",
       "   92: <prolintpy.LPContacts for residue 92>,\n",
       "   93: <prolintpy.LPContacts for residue 93>,\n",
       "   94: <prolintpy.LPContacts for residue 94>,\n",
       "   95: <prolintpy.LPContacts for residue 95>,\n",
       "   96: <prolintpy.LPContacts for residue 96>,\n",
       "   97: <prolintpy.LPContacts for residue 97>,\n",
       "   98: <prolintpy.LPContacts for residue 98>,\n",
       "   99: <prolintpy.LPContacts for residue 99>,\n",
       "   100: <prolintpy.LPContacts for residue 100>,\n",
       "   101: <prolintpy.LPContacts for residue 101>,\n",
       "   102: <prolintpy.LPContacts for residue 102>,\n",
       "   103: <prolintpy.LPContacts for residue 103>,\n",
       "   104: <prolintpy.LPContacts for residue 104>,\n",
       "   105: <prolintpy.LPContacts for residue 105>,\n",
       "   106: <prolintpy.LPContacts for residue 106>,\n",
       "   107: <prolintpy.LPContacts for residue 107>,\n",
       "   108: <prolintpy.LPContacts for residue 108>,\n",
       "   109: <prolintpy.LPContacts for residue 109>,\n",
       "   110: <prolintpy.LPContacts for residue 110>,\n",
       "   111: <prolintpy.LPContacts for residue 111>,\n",
       "   112: <prolintpy.LPContacts for residue 112>,\n",
       "   113: <prolintpy.LPContacts for residue 113>,\n",
       "   114: <prolintpy.LPContacts for residue 114>,\n",
       "   115: <prolintpy.LPContacts for residue 115>,\n",
       "   116: <prolintpy.LPContacts for residue 116>,\n",
       "   117: <prolintpy.LPContacts for residue 117>,\n",
       "   118: <prolintpy.LPContacts for residue 118>,\n",
       "   119: <prolintpy.LPContacts for residue 119>,\n",
       "   120: <prolintpy.LPContacts for residue 120>,\n",
       "   121: <prolintpy.LPContacts for residue 121>,\n",
       "   122: <prolintpy.LPContacts for residue 122>,\n",
       "   123: <prolintpy.LPContacts for residue 123>,\n",
       "   124: <prolintpy.LPContacts for residue 124>,\n",
       "   125: <prolintpy.LPContacts for residue 125>,\n",
       "   126: <prolintpy.LPContacts for residue 126>,\n",
       "   127: <prolintpy.LPContacts for residue 127>,\n",
       "   128: <prolintpy.LPContacts for residue 128>,\n",
       "   129: <prolintpy.LPContacts for residue 129>}}}"
      ]
     },
     "execution_count": 8,
     "metadata": {},
     "output_type": "execute_result"
    }
   ],
   "source": [
    "result"
   ]
  },
  {
   "cell_type": "markdown",
   "metadata": {},
   "source": [
    " "
   ]
  },
  {
   "cell_type": "markdown",
   "metadata": {},
   "source": [
    "Extract contact data for a particular residue"
   ]
  },
  {
   "cell_type": "code",
   "execution_count": 9,
   "metadata": {},
   "outputs": [
    {
     "name": "stdout",
     "output_type": "stream",
     "text": [
      "<prolintpy.LPContacts for residue 85>\n"
     ]
    }
   ],
   "source": [
    "print (result['Protein0'][0][85])"
   ]
  },
  {
   "cell_type": "code",
   "execution_count": 10,
   "metadata": {},
   "outputs": [],
   "source": [
    "contact_r85 = result['Protein0'][0][88]"
   ]
  },
  {
   "cell_type": "code",
   "execution_count": 11,
   "metadata": {},
   "outputs": [
    {
     "data": {
      "text/plain": [
       "<prolintpy.LPContacts for residue 88>"
      ]
     },
     "execution_count": 11,
     "metadata": {},
     "output_type": "execute_result"
    }
   ],
   "source": [
    "contact_r85"
   ]
  },
  {
   "cell_type": "markdown",
   "metadata": {},
   "source": [
    "Not all interactions are equal! Residue 88 interacts with only one cholesterol lipid during the length of the input trajectory. However, it forms several interactions with POPS lipids, even though the input test trajectory is quite short. <br>The output is a dictionary with lipids as keys and the contact duration as dictionary values. The time units here are the same as MDTraj. "
   ]
  },
  {
   "cell_type": "code",
   "execution_count": 12,
   "metadata": {},
   "outputs": [
    {
     "data": {
      "text/plain": [
       "{'POPS': [300000.0, 900000.0, 300000.0, 600000.0, 1200000.0, 300000.0],\n",
       " 'CHOL': [3900000.0]}"
      ]
     },
     "execution_count": 12,
     "metadata": {},
     "output_type": "execute_result"
    }
   ],
   "source": [
    "contact_r85.contacts"
   ]
  },
  {
   "cell_type": "markdown",
   "metadata": {},
   "source": [
    " "
   ]
  },
  {
   "cell_type": "markdown",
   "metadata": {},
   "source": [
    " "
   ]
  },
  {
   "cell_type": "markdown",
   "metadata": {},
   "source": [
    "We can also retrieve the identity of the lipids that form the interactions above. <br>\n",
    "This is very useful if we want to build custom metrics or just in general customize the workflow"
   ]
  },
  {
   "cell_type": "code",
   "execution_count": 13,
   "metadata": {},
   "outputs": [
    {
     "data": {
      "text/plain": [
       "{'POPS': array([1677, 1773, 1817, 1888, 1889, 1934]), 'CHOL': array([2951])}"
      ]
     },
     "execution_count": 13,
     "metadata": {},
     "output_type": "execute_result"
    }
   ],
   "source": [
    "contact_r85.lipids"
   ]
  },
  {
   "cell_type": "markdown",
   "metadata": {},
   "source": [
    " "
   ]
  },
  {
   "cell_type": "markdown",
   "metadata": {},
   "source": [
    "Occupancy is a binary measure so we need to retrieve it separately"
   ]
  },
  {
   "cell_type": "code",
   "execution_count": 14,
   "metadata": {},
   "outputs": [
    {
     "data": {
      "text/plain": [
       "{'POPS': array([1., 1., 1., 1., 0., 0., 1., 0., 1., 1., 1., 0., 1., 1., 1., 1.]),\n",
       " 'CHOL': array([1., 1., 0., 1., 1., 1., 1., 1., 1., 1., 1., 1., 1., 1., 0., 0.])}"
      ]
     },
     "execution_count": 14,
     "metadata": {},
     "output_type": "execute_result"
    }
   ],
   "source": [
    "contact_r85.occupancy"
   ]
  },
  {
   "cell_type": "markdown",
   "metadata": {},
   "source": [
    " "
   ]
  },
  {
   "cell_type": "markdown",
   "metadata": {},
   "source": [
    "Supplying the mdtraj argument to `contacts.compute_neighbors()` will result in the whole MDTraj output being saved to `contact_r85` above, however, the when used it will result in very large object sizes and currently has been disabled. We are planning on removing this option from the source code, but if you would like to revert back this functionality please have a look here: https://github.com/bisejdiu/prolint/blob/main/prolint/core/computecontacts.py#L155"
   ]
  },
  {
   "cell_type": "code",
   "execution_count": 15,
   "metadata": {},
   "outputs": [],
   "source": [
    "# Does not work because it has been disabled. \n",
    "# contact_r85.mdtraj"
   ]
  },
  {
   "cell_type": "markdown",
   "metadata": {},
   "source": [
    " "
   ]
  },
  {
   "cell_type": "markdown",
   "metadata": {},
   "source": [
    "### Customizability "
   ]
  },
  {
   "cell_type": "markdown",
   "metadata": {},
   "source": [
    "Altogether, the `prolintpy` capabilities highlighted above make it clear how easy it is to customize the workflow to your use-case. This is because analysis is not a closed system, and `prolintpy` provides access \n",
    "to its internal data at every step of the way. You can use the `result` dictionary above and loop through the different options without worrying about any of the other features of `prolintpy`. \n",
    "\n",
    "Nevertheless, `prolintpy` provides several helper functions and features which make working with the contact informations above really easy"
   ]
  },
  {
   "cell_type": "markdown",
   "metadata": {},
   "source": [
    " "
   ]
  },
  {
   "cell_type": "markdown",
   "metadata": {},
   "source": [
    "### Helper functions "
   ]
  },
  {
   "cell_type": "markdown",
   "metadata": {},
   "source": [
    "Retrieve contact information for all lipids in the system"
   ]
  },
  {
   "cell_type": "code",
   "execution_count": 16,
   "metadata": {},
   "outputs": [
    {
     "data": {
      "text/plain": [
       "defaultdict(list,\n",
       "            {'POPS': [array([ 300000.,  900000.,  300000.,  600000., 1200000.,  300000.])],\n",
       "             'CHOL': [array([3900000.])]})"
      ]
     },
     "execution_count": 16,
     "metadata": {},
     "output_type": "execute_result"
    }
   ],
   "source": [
    "pl.retrieve_contacts(result, 88, contacts='contacts')"
   ]
  },
  {
   "cell_type": "code",
   "execution_count": 17,
   "metadata": {},
   "outputs": [
    {
     "data": {
      "text/plain": [
       "defaultdict(list,\n",
       "            {'POPS': [array([1., 1., 1., 1., 0., 0., 1., 0., 1., 1., 1., 0., 1., 1., 1., 1.])],\n",
       "             'CHOL': [array([1., 1., 0., 1., 1., 1., 1., 1., 1., 1., 1., 1., 1., 1., 0., 0.])]})"
      ]
     },
     "execution_count": 17,
     "metadata": {},
     "output_type": "execute_result"
    }
   ],
   "source": [
    "pl.retrieve_contacts(result, 88, contacts='occupancy')"
   ]
  },
  {
   "cell_type": "markdown",
   "metadata": {},
   "source": [
    " "
   ]
  },
  {
   "cell_type": "markdown",
   "metadata": {},
   "source": [
    "Retrieve contact information for a specific lipid in the system"
   ]
  },
  {
   "cell_type": "code",
   "execution_count": 18,
   "metadata": {},
   "outputs": [
    {
     "data": {
      "text/plain": [
       "array([3900000.])"
      ]
     },
     "execution_count": 18,
     "metadata": {},
     "output_type": "execute_result"
    }
   ],
   "source": [
    "pl.retrieve_contacts_flat(result, 88, lipid=\"CHOL\", contacts='contacts')"
   ]
  },
  {
   "cell_type": "code",
   "execution_count": 19,
   "metadata": {},
   "outputs": [
    {
     "data": {
      "text/plain": [
       "array([1., 1., 1., 1., 0., 0., 1., 0., 1., 1., 1., 0., 1., 1., 1., 1.])"
      ]
     },
     "execution_count": 19,
     "metadata": {},
     "output_type": "execute_result"
    }
   ],
   "source": [
    "pl.retrieve_contacts_flat(result, 88, lipid=\"POPS\", contacts='occupancy')"
   ]
  },
  {
   "cell_type": "markdown",
   "metadata": {},
   "source": [
    " "
   ]
  },
  {
   "cell_type": "markdown",
   "metadata": {},
   "source": [
    "### Build a pandas DataFrame"
   ]
  },
  {
   "cell_type": "markdown",
   "metadata": {},
   "source": [
    "pandas DataFrame are the most convenient way to manipulate contact information. <br>\n",
    "Building a DataFrame using `prolintpy` is a straightforward process. "
   ]
  },
  {
   "cell_type": "code",
   "execution_count": 20,
   "metadata": {},
   "outputs": [],
   "source": [
    "df = pl.contacts_dataframe(result, proteins, t, radius=cutoff)"
   ]
  },
  {
   "cell_type": "code",
   "execution_count": 21,
   "metadata": {},
   "outputs": [
    {
     "data": {
      "text/html": [
       "<div>\n",
       "<style scoped>\n",
       "    .dataframe tbody tr th:only-of-type {\n",
       "        vertical-align: middle;\n",
       "    }\n",
       "\n",
       "    .dataframe tbody tr th {\n",
       "        vertical-align: top;\n",
       "    }\n",
       "\n",
       "    .dataframe thead th {\n",
       "        text-align: right;\n",
       "    }\n",
       "</style>\n",
       "<table border=\"1\" class=\"dataframe\">\n",
       "  <thead>\n",
       "    <tr style=\"text-align: right;\">\n",
       "      <th></th>\n",
       "      <th>Mean_Duration</th>\n",
       "      <th>Longest_Duration</th>\n",
       "      <th>Sum_of_all_Contacts</th>\n",
       "      <th>Lipid_Number</th>\n",
       "      <th>Normalized_Lipid_Number</th>\n",
       "      <th>Occupancy</th>\n",
       "      <th>Protein</th>\n",
       "      <th>Lipids</th>\n",
       "      <th>Radius</th>\n",
       "      <th>ResID</th>\n",
       "      <th>ResName</th>\n",
       "    </tr>\n",
       "  </thead>\n",
       "  <tbody>\n",
       "    <tr>\n",
       "      <th>0</th>\n",
       "      <td>0.0</td>\n",
       "      <td>0.0</td>\n",
       "      <td>0.0</td>\n",
       "      <td>0.0000</td>\n",
       "      <td>0.0000</td>\n",
       "      <td>0.000000</td>\n",
       "      <td>Protein0</td>\n",
       "      <td>CHOL</td>\n",
       "      <td>0.5</td>\n",
       "      <td>85</td>\n",
       "      <td>ARG</td>\n",
       "    </tr>\n",
       "    <tr>\n",
       "      <th>1</th>\n",
       "      <td>0.0</td>\n",
       "      <td>0.0</td>\n",
       "      <td>0.0</td>\n",
       "      <td>0.0000</td>\n",
       "      <td>0.0000</td>\n",
       "      <td>0.000000</td>\n",
       "      <td>Protein0</td>\n",
       "      <td>CHOL</td>\n",
       "      <td>0.5</td>\n",
       "      <td>86</td>\n",
       "      <td>GLN</td>\n",
       "    </tr>\n",
       "    <tr>\n",
       "      <th>2</th>\n",
       "      <td>0.3</td>\n",
       "      <td>0.3</td>\n",
       "      <td>1.2</td>\n",
       "      <td>0.2500</td>\n",
       "      <td>0.2500</td>\n",
       "      <td>23.529412</td>\n",
       "      <td>Protein0</td>\n",
       "      <td>CHOL</td>\n",
       "      <td>0.5</td>\n",
       "      <td>87</td>\n",
       "      <td>ARG</td>\n",
       "    </tr>\n",
       "    <tr>\n",
       "      <th>3</th>\n",
       "      <td>3.9</td>\n",
       "      <td>3.9</td>\n",
       "      <td>3.9</td>\n",
       "      <td>0.8125</td>\n",
       "      <td>0.8125</td>\n",
       "      <td>76.470588</td>\n",
       "      <td>Protein0</td>\n",
       "      <td>CHOL</td>\n",
       "      <td>0.5</td>\n",
       "      <td>88</td>\n",
       "      <td>TYR</td>\n",
       "    </tr>\n",
       "    <tr>\n",
       "      <th>4</th>\n",
       "      <td>0.0</td>\n",
       "      <td>0.0</td>\n",
       "      <td>0.0</td>\n",
       "      <td>0.0000</td>\n",
       "      <td>0.0000</td>\n",
       "      <td>0.000000</td>\n",
       "      <td>Protein0</td>\n",
       "      <td>CHOL</td>\n",
       "      <td>0.5</td>\n",
       "      <td>89</td>\n",
       "      <td>MET</td>\n",
       "    </tr>\n",
       "  </tbody>\n",
       "</table>\n",
       "</div>"
      ],
      "text/plain": [
       "   Mean_Duration  Longest_Duration  Sum_of_all_Contacts  Lipid_Number  \\\n",
       "0            0.0               0.0                  0.0        0.0000   \n",
       "1            0.0               0.0                  0.0        0.0000   \n",
       "2            0.3               0.3                  1.2        0.2500   \n",
       "3            3.9               3.9                  3.9        0.8125   \n",
       "4            0.0               0.0                  0.0        0.0000   \n",
       "\n",
       "   Normalized_Lipid_Number  Occupancy   Protein Lipids  Radius  ResID ResName  \n",
       "0                   0.0000   0.000000  Protein0   CHOL     0.5     85     ARG  \n",
       "1                   0.0000   0.000000  Protein0   CHOL     0.5     86     GLN  \n",
       "2                   0.2500  23.529412  Protein0   CHOL     0.5     87     ARG  \n",
       "3                   0.8125  76.470588  Protein0   CHOL     0.5     88     TYR  \n",
       "4                   0.0000   0.000000  Protein0   CHOL     0.5     89     MET  "
      ]
     },
     "execution_count": 21,
     "metadata": {},
     "output_type": "execute_result"
    }
   ],
   "source": [
    "df.head()"
   ]
  },
  {
   "cell_type": "markdown",
   "metadata": {},
   "source": [
    "Sort by the most interacting residues in terms of the Longest_Duration metric"
   ]
  },
  {
   "cell_type": "code",
   "execution_count": 22,
   "metadata": {},
   "outputs": [
    {
     "data": {
      "text/html": [
       "<div>\n",
       "<style scoped>\n",
       "    .dataframe tbody tr th:only-of-type {\n",
       "        vertical-align: middle;\n",
       "    }\n",
       "\n",
       "    .dataframe tbody tr th {\n",
       "        vertical-align: top;\n",
       "    }\n",
       "\n",
       "    .dataframe thead th {\n",
       "        text-align: right;\n",
       "    }\n",
       "</style>\n",
       "<table border=\"1\" class=\"dataframe\">\n",
       "  <thead>\n",
       "    <tr style=\"text-align: right;\">\n",
       "      <th></th>\n",
       "      <th>Mean_Duration</th>\n",
       "      <th>Longest_Duration</th>\n",
       "      <th>Sum_of_all_Contacts</th>\n",
       "      <th>Lipid_Number</th>\n",
       "      <th>Normalized_Lipid_Number</th>\n",
       "      <th>Occupancy</th>\n",
       "      <th>Protein</th>\n",
       "      <th>Lipids</th>\n",
       "      <th>Radius</th>\n",
       "      <th>ResID</th>\n",
       "      <th>ResName</th>\n",
       "    </tr>\n",
       "  </thead>\n",
       "  <tbody>\n",
       "    <tr>\n",
       "      <th>6</th>\n",
       "      <td>1.70</td>\n",
       "      <td>4.5</td>\n",
       "      <td>5.1</td>\n",
       "      <td>1.0625</td>\n",
       "      <td>1.0625</td>\n",
       "      <td>88.235294</td>\n",
       "      <td>Protein0</td>\n",
       "      <td>CHOL</td>\n",
       "      <td>0.5</td>\n",
       "      <td>91</td>\n",
       "      <td>LYS</td>\n",
       "    </tr>\n",
       "    <tr>\n",
       "      <th>3</th>\n",
       "      <td>3.90</td>\n",
       "      <td>3.9</td>\n",
       "      <td>3.9</td>\n",
       "      <td>0.8125</td>\n",
       "      <td>0.8125</td>\n",
       "      <td>76.470588</td>\n",
       "      <td>Protein0</td>\n",
       "      <td>CHOL</td>\n",
       "      <td>0.5</td>\n",
       "      <td>88</td>\n",
       "      <td>TYR</td>\n",
       "    </tr>\n",
       "    <tr>\n",
       "      <th>43</th>\n",
       "      <td>1.95</td>\n",
       "      <td>3.6</td>\n",
       "      <td>3.9</td>\n",
       "      <td>0.8125</td>\n",
       "      <td>0.8125</td>\n",
       "      <td>70.588235</td>\n",
       "      <td>Protein0</td>\n",
       "      <td>CHOL</td>\n",
       "      <td>0.5</td>\n",
       "      <td>128</td>\n",
       "      <td>PHE</td>\n",
       "    </tr>\n",
       "    <tr>\n",
       "      <th>36</th>\n",
       "      <td>1.50</td>\n",
       "      <td>3.0</td>\n",
       "      <td>4.5</td>\n",
       "      <td>0.9375</td>\n",
       "      <td>0.9375</td>\n",
       "      <td>64.705882</td>\n",
       "      <td>Protein0</td>\n",
       "      <td>CHOL</td>\n",
       "      <td>0.5</td>\n",
       "      <td>121</td>\n",
       "      <td>TRP</td>\n",
       "    </tr>\n",
       "    <tr>\n",
       "      <th>40</th>\n",
       "      <td>1.95</td>\n",
       "      <td>3.0</td>\n",
       "      <td>3.9</td>\n",
       "      <td>0.8125</td>\n",
       "      <td>0.8125</td>\n",
       "      <td>58.823529</td>\n",
       "      <td>Protein0</td>\n",
       "      <td>CHOL</td>\n",
       "      <td>0.5</td>\n",
       "      <td>125</td>\n",
       "      <td>LEU</td>\n",
       "    </tr>\n",
       "  </tbody>\n",
       "</table>\n",
       "</div>"
      ],
      "text/plain": [
       "    Mean_Duration  Longest_Duration  Sum_of_all_Contacts  Lipid_Number  \\\n",
       "6            1.70               4.5                  5.1        1.0625   \n",
       "3            3.90               3.9                  3.9        0.8125   \n",
       "43           1.95               3.6                  3.9        0.8125   \n",
       "36           1.50               3.0                  4.5        0.9375   \n",
       "40           1.95               3.0                  3.9        0.8125   \n",
       "\n",
       "    Normalized_Lipid_Number  Occupancy   Protein Lipids  Radius  ResID ResName  \n",
       "6                    1.0625  88.235294  Protein0   CHOL     0.5     91     LYS  \n",
       "3                    0.8125  76.470588  Protein0   CHOL     0.5     88     TYR  \n",
       "43                   0.8125  70.588235  Protein0   CHOL     0.5    128     PHE  \n",
       "36                   0.9375  64.705882  Protein0   CHOL     0.5    121     TRP  \n",
       "40                   0.8125  58.823529  Protein0   CHOL     0.5    125     LEU  "
      ]
     },
     "execution_count": 22,
     "metadata": {},
     "output_type": "execute_result"
    }
   ],
   "source": [
    "df.sort_values('Longest_Duration', ascending=False).head()"
   ]
  },
  {
   "cell_type": "markdown",
   "metadata": {},
   "source": [
    "Get the residue ids and indices of the top 5 residues interacting with cholesterol as measured by the Longest_Duration metric"
   ]
  },
  {
   "cell_type": "code",
   "execution_count": 23,
   "metadata": {},
   "outputs": [
    {
     "name": "stdout",
     "output_type": "stream",
     "text": [
      "Most interacting residues are:  [91, 88, 128, 121, 125, 124, 117, 118, 122, 114]\n",
      "~~~~~~~~~~~~~~~~~~~~~~~~~~~~~~~~~~~~~~~~~~~~~~~~~~~~~~~~~~~~~~~~~~~~~~~~~~~~~~~~"
     ]
    }
   ],
   "source": [
    "top_residues = df[df.Lipids == \"CHOL\"].sort_values('Longest_Duration', ascending=False).ResID.to_list()[:10]\n",
    "print (\"Most interacting residues are: \", top_residues, end=\"\\n\" + '~' * 80)"
   ]
  },
  {
   "cell_type": "code",
   "execution_count": 24,
   "metadata": {},
   "outputs": [
    {
     "data": {
      "text/plain": [
       "['Residue 91 with indices: [225 226 227 228]',\n",
       " 'Residue 88 with indices: [220 221]',\n",
       " 'Residue 128 with indices: [304 305]',\n",
       " 'Residue 121 with indices: [292 293]',\n",
       " 'Residue 125 with indices: [299 300]',\n",
       " 'Residue 124 with indices: [297 298]',\n",
       " 'Residue 117 with indices: [284 285]',\n",
       " 'Residue 118 with indices: [286 287]',\n",
       " 'Residue 122 with indices: [294 295]',\n",
       " 'Residue 114 with indices: [279 280]']"
      ]
     },
     "execution_count": 24,
     "metadata": {},
     "output_type": "execute_result"
    }
   ],
   "source": [
    "[f'Residue {res} with indices: {proteins[0].get_indices([res], suppress=True)[0]}' for res in top_residues]"
   ]
  },
  {
   "cell_type": "code",
   "execution_count": null,
   "metadata": {},
   "outputs": [],
   "source": []
  }
 ],
 "metadata": {
  "kernelspec": {
   "display_name": "Python 3",
   "language": "python",
   "name": "python3"
  },
  "language_info": {
   "codemirror_mode": {
    "name": "ipython",
    "version": 3
   },
   "file_extension": ".py",
   "mimetype": "text/x-python",
   "name": "python",
   "nbconvert_exporter": "python",
   "pygments_lexer": "ipython3",
   "version": "3.6.6"
  }
 },
 "nbformat": 4,
 "nbformat_minor": 4
}
