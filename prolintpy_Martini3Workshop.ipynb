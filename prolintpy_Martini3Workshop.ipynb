{
 "cells": [
  {
   "cell_type": "markdown",
   "id": "31e1e64e-3b51-4b9e-8680-91afd16afd8c",
   "metadata": {},
   "source": [
    "## `prolintpy`: Overview and Tutorial"
   ]
  },
  {
   "cell_type": "markdown",
   "id": "fdb82097-eace-402f-9294-49a47f4643b3",
   "metadata": {},
   "source": [
    "prolintpy is a lightweight python library that aimes to automate the analysis and visualization of Protein-Lipid interactions.\n",
    "\n",
    "It is districbuted as part of the ProLint framework with the aim of bridging the widening gap between data generation and gaining insight on biologically-relevant interactions between lipids and proteins. prolintpy is the library that the ProLint webserver uses on the backend to automate topology generation and analysis of lipid-protein interactions. Nevertheless, prolintpy includes a dedicated interface for the visualization of lipid-protein interactions similar to the webserver which can be accessed through  JupyterLab/Jupyter Notebook.\n",
    "\n",
    "You can use prolintpy for the following:\n",
    "\n",
    "1. Automatically generate a topology description of your system (no tpr file needed)\n",
    "2. Calculate contact-based metrics for lipid-protein interactions\n",
    "3. Calculate 2D and 3D densities (3D densities are work in progress)\n",
    "4. Calculate physics-based properties (in progress)\n",
    "5. Interactively visualize lipid-protein interactions\n"
   ]
  },
  {
   "cell_type": "markdown",
   "id": "0c916a97-03c4-47ba-ae34-dc36aa9a5375",
   "metadata": {},
   "source": [
    "## Section 0: Installation "
   ]
  },
  {
   "cell_type": "code",
   "execution_count": null,
   "id": "3cbf59c0-0785-43fd-88ee-ab21cf5dce8a",
   "metadata": {},
   "outputs": [],
   "source": [
    "# Only Python v3.6 or v3.7 are supported. Python v3.8 may not work.\n",
    "\n",
    "# Method 1\n",
    "pip install prolintpy\n",
    "\n",
    "# Method 2\n",
    "git clone https://github.com/ProLint/prolintpy.git\n",
    "cd prolintpy\n",
    "conda env create -f environment.yml\n",
    "conda activate prolint\n",
    "\n",
    "# Method 3\n",
    "git clone https://github.com/ProLint/prolintpy.git\n",
    "cd prolintpy\n",
    "python setup.py install\n",
    "\n",
    "# Method 4 (if MDTraj causes problem)\n",
    "conda create --name prolint python=3.7\n",
    "conda activate prolint\n",
    "conda install -c conda-forge mdtraj\n",
    "python -m pip install prolintpy"
   ]
  },
  {
   "cell_type": "markdown",
   "id": "9a81f483-ef1d-4b4e-acd2-4bb3f029b964",
   "metadata": {},
   "source": [
    "`prolintpy` relies on `MDTraj` to read input data files, as such, it is the only module that has to be imported alongside `prolintpy`: "
   ]
  },
  {
   "cell_type": "code",
   "execution_count": 1,
   "id": "77b0f5a1-0aef-45cc-8fec-b83469dba1ce",
   "metadata": {},
   "outputs": [
    {
     "data": {
      "application/vnd.jupyter.widget-view+json": {
       "model_id": "821873d05c80415b906c7f04e43b1b53",
       "version_major": 2,
       "version_minor": 0
      },
      "text/plain": []
     },
     "metadata": {},
     "output_type": "display_data"
    }
   ],
   "source": [
    "import numpy as np\n",
    "import mdtraj as md\n",
    "import prolintpy as pl"
   ]
  },
  {
   "cell_type": "markdown",
   "id": "9d48db39-1e7a-471b-825c-ed687419385a",
   "metadata": {},
   "source": [
    "## Section 1: Loading data and topology description"
   ]
  },
  {
   "cell_type": "markdown",
   "id": "0df0c477-8dd6-44b4-b25b-c882d99dbb23",
   "metadata": {},
   "source": [
    "Load the data using MDTraj"
   ]
  },
  {
   "cell_type": "markdown",
   "id": "44c8c5e5-6ccc-4973-b05e-fa7b07231d85",
   "metadata": {},
   "source": [
    "#### Note\n",
    "The system we are loading contains only lipids and protein beads (water and ions have been removed). <br>\n",
    "This is important otherwise prolintpy may treat water as if it were a lipid.\n",
    "\n",
    "The image below shows the system we are going to load and work with. The protein is shown with magenta, lipids are colored with blue (POPS), orange (POPE), and green (CHOL). "
   ]
  },
  {
   "cell_type": "markdown",
   "id": "4948ee26-f7e3-4a19-ac06-c498ff768ff9",
   "metadata": {},
   "source": [
    "<!-- ![title](images/sys_1_front.png)  -->\n",
    "<img src=\"images/sys_1.png\" alt=\"system_front\" style=\"width:1200px;\"/>"
   ]
  },
  {
   "cell_type": "code",
   "execution_count": 2,
   "id": "90d86c52-a99b-494b-bd02-d8692284542a",
   "metadata": {},
   "outputs": [],
   "source": [
    "# MDTraj v1.9.6 seems to have a bug when reading Martini coordinate files. \n",
    "# That why prolintpy currently forces the installation of v1.9.5\n",
    "t = md.load('./data/test_data_1.xtc', top='./data/test_data_1.gro')"
   ]
  },
  {
   "cell_type": "code",
   "execution_count": 3,
   "id": "b28dac51-d68e-43fd-8c04-6c678e0abf04",
   "metadata": {},
   "outputs": [
    {
     "data": {
      "text/plain": [
       "<mdtraj.Trajectory with 17 frames, 23820 atoms, 3240 residues, and unitcells at 0x7fc0592b3350>"
      ]
     },
     "execution_count": 3,
     "metadata": {},
     "output_type": "execute_result"
    }
   ],
   "source": [
    "t"
   ]
  },
  {
   "cell_type": "markdown",
   "id": "0ebcc943-88b4-472c-8992-185e8487e983",
   "metadata": {},
   "source": [
    "### Load the data to prolintpy and define the protein and lipid topology"
   ]
  },
  {
   "cell_type": "markdown",
   "id": "e5d3d659-dd83-4c86-a485-4b5fca9f6ab5",
   "metadata": {},
   "source": [
    "We first specify the resolution of the input data and indicate if we want to combine the proteins (only applicable if there are more than one protein in the system). \n",
    "<br>Combining proteins will result in the calculated metrics being averages of all copies. In our system we only have one protein so we do not need it. "
   ]
  },
  {
   "cell_type": "code",
   "execution_count": 4,
   "id": "c604707e-996e-4d56-a02b-4df8c1dbd8d7",
   "metadata": {},
   "outputs": [],
   "source": [
    "resolution = \"martini\"\n",
    "combine_proteins = False\n",
    "lipids = pl.Lipids(t.topology, resolution=resolution)\n",
    "proteins = pl.Proteins(t.topology, resolution=resolution).system_proteins(merge=combine_proteins)"
   ]
  },
  {
   "cell_type": "markdown",
   "id": "4afe04f5-cea2-4836-8aa5-ca18a876de0f",
   "metadata": {},
   "source": [
    "## Extracting information from the input system"
   ]
  },
  {
   "cell_type": "markdown",
   "id": "48274171-7736-4a86-9a0e-837d04494fbd",
   "metadata": {},
   "source": [
    "Get all the lipid residues in the system"
   ]
  },
  {
   "cell_type": "code",
   "execution_count": 5,
   "id": "b41ec7ee-03ac-4f2b-8fd1-4cef8f441807",
   "metadata": {},
   "outputs": [
    {
     "data": {
      "text/plain": [
       "array(['POPE', 'POPS', 'CHOL'], dtype=object)"
      ]
     },
     "execution_count": 5,
     "metadata": {},
     "output_type": "execute_result"
    }
   ],
   "source": [
    "lipids.lipid_names()"
   ]
  },
  {
   "cell_type": "markdown",
   "id": "a21b234d-3b33-40c0-b6f6-107c1f4904b5",
   "metadata": {},
   "source": [
    "Get the names of the different lipids as well as their count"
   ]
  },
  {
   "cell_type": "code",
   "execution_count": 6,
   "id": "2a62f2d4-9e7c-4212-aec2-b7d855f7d6fd",
   "metadata": {},
   "outputs": [
    {
     "data": {
      "text/plain": [
       "{'POPE': 652, 'POPS': 652, 'CHOL': 652}"
      ]
     },
     "execution_count": 6,
     "metadata": {},
     "output_type": "execute_result"
    }
   ],
   "source": [
    "lipids.lipid_count()"
   ]
  },
  {
   "cell_type": "markdown",
   "id": "6a641ad7-eb41-481d-9d19-4f467a864f10",
   "metadata": {},
   "source": [
    "Get a pandas DataFrame for the defined systems"
   ]
  },
  {
   "cell_type": "code",
   "execution_count": 7,
   "id": "f180e974-eae4-4725-a0db-5e537fce3b9d",
   "metadata": {},
   "outputs": [
    {
     "data": {
      "text/html": [
       "<div>\n",
       "<style scoped>\n",
       "    .dataframe tbody tr th:only-of-type {\n",
       "        vertical-align: middle;\n",
       "    }\n",
       "\n",
       "    .dataframe tbody tr th {\n",
       "        vertical-align: top;\n",
       "    }\n",
       "\n",
       "    .dataframe thead th {\n",
       "        text-align: right;\n",
       "    }\n",
       "</style>\n",
       "<table border=\"1\" class=\"dataframe\">\n",
       "  <thead>\n",
       "    <tr style=\"text-align: right;\">\n",
       "      <th></th>\n",
       "      <th>serial</th>\n",
       "      <th>name</th>\n",
       "      <th>element</th>\n",
       "      <th>resSeq</th>\n",
       "      <th>resName</th>\n",
       "      <th>chainID</th>\n",
       "      <th>segmentID</th>\n",
       "    </tr>\n",
       "  </thead>\n",
       "  <tbody>\n",
       "    <tr>\n",
       "      <th>2956</th>\n",
       "      <td>2957</td>\n",
       "      <td>NH3</td>\n",
       "      <td>N</td>\n",
       "      <td>1285</td>\n",
       "      <td>POPE</td>\n",
       "      <td>0</td>\n",
       "      <td></td>\n",
       "    </tr>\n",
       "    <tr>\n",
       "      <th>2957</th>\n",
       "      <td>2958</td>\n",
       "      <td>PO4</td>\n",
       "      <td>P</td>\n",
       "      <td>1285</td>\n",
       "      <td>POPE</td>\n",
       "      <td>0</td>\n",
       "      <td></td>\n",
       "    </tr>\n",
       "    <tr>\n",
       "      <th>2958</th>\n",
       "      <td>2959</td>\n",
       "      <td>GL1</td>\n",
       "      <td>VS</td>\n",
       "      <td>1285</td>\n",
       "      <td>POPE</td>\n",
       "      <td>0</td>\n",
       "      <td></td>\n",
       "    </tr>\n",
       "    <tr>\n",
       "      <th>2959</th>\n",
       "      <td>2960</td>\n",
       "      <td>GL2</td>\n",
       "      <td>VS</td>\n",
       "      <td>1285</td>\n",
       "      <td>POPE</td>\n",
       "      <td>0</td>\n",
       "      <td></td>\n",
       "    </tr>\n",
       "    <tr>\n",
       "      <th>2960</th>\n",
       "      <td>2961</td>\n",
       "      <td>C1A</td>\n",
       "      <td>C</td>\n",
       "      <td>1285</td>\n",
       "      <td>POPE</td>\n",
       "      <td>0</td>\n",
       "      <td></td>\n",
       "    </tr>\n",
       "  </tbody>\n",
       "</table>\n",
       "</div>"
      ],
      "text/plain": [
       "      serial name element  resSeq resName  chainID segmentID\n",
       "2956    2957  NH3       N    1285    POPE        0          \n",
       "2957    2958  PO4       P    1285    POPE        0          \n",
       "2958    2959  GL1      VS    1285    POPE        0          \n",
       "2959    2960  GL2      VS    1285    POPE        0          \n",
       "2960    2961  C1A       C    1285    POPE        0          "
      ]
     },
     "execution_count": 7,
     "metadata": {},
     "output_type": "execute_result"
    }
   ],
   "source": [
    "lipids.ldf.head()"
   ]
  },
  {
   "cell_type": "markdown",
   "id": "86ab6346-62a7-4937-b087-e22bcc34e890",
   "metadata": {},
   "source": [
    "Retrieve the residue IDs of all cholesterol lipids"
   ]
  },
  {
   "cell_type": "code",
   "execution_count": 8,
   "id": "51f59df4-e597-44bf-8dfd-e622de045e27",
   "metadata": {},
   "outputs": [
    {
     "data": {
      "text/plain": [
       "array([1937, 1938, 1939, 1940, 1941, 1942, 1943, 1944, 1945, 1946, 1947,\n",
       "       1948, 1949, 1950, 1951, 1952, 1953, 1954, 1955, 1956, 1957, 1958,\n",
       "       1959, 1960, 1961, 1962, 1963, 1964, 1965, 1966, 1967, 1968, 1969,\n",
       "       1970, 1971, 1972, 1973, 1974, 1975, 1976, 1977, 1978, 1979, 1980,\n",
       "       1981, 1982, 1983, 1984, 1985, 1986, 1987, 1988, 1989, 1990, 1991,\n",
       "       1992, 1993, 1994, 1995, 1996, 1997, 1998, 1999, 2000, 2001, 2002,\n",
       "       2003, 2004, 2005, 2006, 2007, 2008, 2009, 2010, 2011, 2012, 2013,\n",
       "       2014, 2015, 2016, 2017, 2018, 2019, 2020, 2021, 2022, 2023, 2024,\n",
       "       2025, 2026, 2027, 2028, 2029, 2030, 2031, 2032, 2033, 2034, 2035,\n",
       "       2036, 2037, 2038, 2039, 2040, 2041, 2042, 2043, 2044, 2045, 2046,\n",
       "       2047, 2048, 2049, 2050, 2051, 2052, 2053, 2054, 2055, 2056, 2057,\n",
       "       2058, 2059, 2060, 2061, 2062, 2063, 2064, 2065, 2066, 2067, 2068,\n",
       "       2069, 2070, 2071, 2072, 2073, 2074, 2075, 2076, 2077, 2078, 2079,\n",
       "       2080, 2081, 2082, 2083, 2084, 2085, 2086, 2087, 2088, 2089, 2090,\n",
       "       2091, 2092, 2093, 2094, 2095, 2096, 2097, 2098, 2099, 2100, 2101,\n",
       "       2102, 2103, 2104, 2105, 2106, 2107, 2108, 2109, 2110, 2111, 2112,\n",
       "       2113, 2114, 2115, 2116, 2117, 2118, 2119, 2120, 2121, 2122, 2123,\n",
       "       2124, 2125, 2126, 2127, 2128, 2129, 2130, 2131, 2132, 2133, 2134,\n",
       "       2135, 2136, 2137, 2138, 2139, 2140, 2141, 2142, 2143, 2144, 2145,\n",
       "       2146, 2147, 2148, 2149, 2150, 2151, 2152, 2153, 2154, 2155, 2156,\n",
       "       2157, 2158, 2159, 2160, 2161, 2162, 2163, 2164, 2165, 2166, 2167,\n",
       "       2168, 2169, 2170, 2171, 2172, 2173, 2174, 2175, 2176, 2177, 2178,\n",
       "       2179, 2180, 2181, 2182, 2183, 2184, 2185, 2186, 2187, 2188, 2189,\n",
       "       2190, 2191, 2192, 2193, 2194, 2195, 2196, 2197, 2198, 2199, 2200,\n",
       "       2201, 2202, 2203, 2204, 2205, 2206, 2207, 2208, 2209, 2210, 2211,\n",
       "       2212, 2213, 2214, 2215, 2216, 2217, 2218, 2219, 2220, 2221, 2222,\n",
       "       2223, 2224, 2225, 2226, 2227, 2228, 2229, 2230, 2231, 2232, 2233,\n",
       "       2234, 2235, 2236, 2237, 2238, 2239, 2240, 2241, 2242, 2243, 2244,\n",
       "       2245, 2246, 2247, 2248, 2249, 2250, 2251, 2252, 2253, 2254, 2255,\n",
       "       2256, 2257, 2258, 2259, 2260, 2261, 2262, 2915, 2916, 2917, 2918,\n",
       "       2919, 2920, 2921, 2922, 2923, 2924, 2925, 2926, 2927, 2928, 2929,\n",
       "       2930, 2931, 2932, 2933, 2934, 2935, 2936, 2937, 2938, 2939, 2940,\n",
       "       2941, 2942, 2943, 2944, 2945, 2946, 2947, 2948, 2949, 2950, 2951,\n",
       "       2952, 2953, 2954, 2955, 2956, 2957, 2958, 2959, 2960, 2961, 2962,\n",
       "       2963, 2964, 2965, 2966, 2967, 2968, 2969, 2970, 2971, 2972, 2973,\n",
       "       2974, 2975, 2976, 2977, 2978, 2979, 2980, 2981, 2982, 2983, 2984,\n",
       "       2985, 2986, 2987, 2988, 2989, 2990, 2991, 2992, 2993, 2994, 2995,\n",
       "       2996, 2997, 2998, 2999, 3000, 3001, 3002, 3003, 3004, 3005, 3006,\n",
       "       3007, 3008, 3009, 3010, 3011, 3012, 3013, 3014, 3015, 3016, 3017,\n",
       "       3018, 3019, 3020, 3021, 3022, 3023, 3024, 3025, 3026, 3027, 3028,\n",
       "       3029, 3030, 3031, 3032, 3033, 3034, 3035, 3036, 3037, 3038, 3039,\n",
       "       3040, 3041, 3042, 3043, 3044, 3045, 3046, 3047, 3048, 3049, 3050,\n",
       "       3051, 3052, 3053, 3054, 3055, 3056, 3057, 3058, 3059, 3060, 3061,\n",
       "       3062, 3063, 3064, 3065, 3066, 3067, 3068, 3069, 3070, 3071, 3072,\n",
       "       3073, 3074, 3075, 3076, 3077, 3078, 3079, 3080, 3081, 3082, 3083,\n",
       "       3084, 3085, 3086, 3087, 3088, 3089, 3090, 3091, 3092, 3093, 3094,\n",
       "       3095, 3096, 3097, 3098, 3099, 3100, 3101, 3102, 3103, 3104, 3105,\n",
       "       3106, 3107, 3108, 3109, 3110, 3111, 3112, 3113, 3114, 3115, 3116,\n",
       "       3117, 3118, 3119, 3120, 3121, 3122, 3123, 3124, 3125, 3126, 3127,\n",
       "       3128, 3129, 3130, 3131, 3132, 3133, 3134, 3135, 3136, 3137, 3138,\n",
       "       3139, 3140, 3141, 3142, 3143, 3144, 3145, 3146, 3147, 3148, 3149,\n",
       "       3150, 3151, 3152, 3153, 3154, 3155, 3156, 3157, 3158, 3159, 3160,\n",
       "       3161, 3162, 3163, 3164, 3165, 3166, 3167, 3168, 3169, 3170, 3171,\n",
       "       3172, 3173, 3174, 3175, 3176, 3177, 3178, 3179, 3180, 3181, 3182,\n",
       "       3183, 3184, 3185, 3186, 3187, 3188, 3189, 3190, 3191, 3192, 3193,\n",
       "       3194, 3195, 3196, 3197, 3198, 3199, 3200, 3201, 3202, 3203, 3204,\n",
       "       3205, 3206, 3207, 3208, 3209, 3210, 3211, 3212, 3213, 3214, 3215,\n",
       "       3216, 3217, 3218, 3219, 3220, 3221, 3222, 3223, 3224, 3225, 3226,\n",
       "       3227, 3228, 3229, 3230, 3231, 3232, 3233, 3234, 3235, 3236, 3237,\n",
       "       3238, 3239, 3240])"
      ]
     },
     "execution_count": 8,
     "metadata": {},
     "output_type": "execute_result"
    }
   ],
   "source": [
    "lipids.ldf[lipids.ldf.resName == \"CHOL\"].resSeq.unique()"
   ]
  },
  {
   "cell_type": "markdown",
   "id": "058f333a-774f-48a0-b971-f856303144e2",
   "metadata": {},
   "source": [
    "List the proteins found in the system and store the first one (the only one here) in a variable. \n",
    "`prolintpy` derives topology information for proteins from the input coordinate file. \n",
    "<br>Two proteins will be considered the same if they are entirely identical (same number of residues, completely identical order and type of atoms/beads). "
   ]
  },
  {
   "cell_type": "code",
   "execution_count": 9,
   "id": "d5efc227-1a99-4eac-b2e5-b752ea5456e6",
   "metadata": {},
   "outputs": [
    {
     "data": {
      "text/plain": [
       "[<prolintpy.Protein containing 1 replicate(s) of Protein0 and 1284 beads each>]"
      ]
     },
     "execution_count": 9,
     "metadata": {},
     "output_type": "execute_result"
    }
   ],
   "source": [
    "proteins"
   ]
  },
  {
   "cell_type": "code",
   "execution_count": 10,
   "id": "d7a48560-af33-4d18-ba96-dacab6b05134",
   "metadata": {},
   "outputs": [],
   "source": [
    "protein = proteins[0]"
   ]
  },
  {
   "cell_type": "markdown",
   "id": "ea37e450-00b6-4870-81d6-5d293f1b609c",
   "metadata": {},
   "source": [
    "Get various protein information. Note that to get a dataframe "
   ]
  },
  {
   "cell_type": "code",
   "execution_count": 11,
   "id": "7c268efd-6864-4755-b4b8-c0e28773c5db",
   "metadata": {},
   "outputs": [],
   "source": [
    "protein.name = \"MyProtein\" # Give the protein a better name"
   ]
  },
  {
   "cell_type": "code",
   "execution_count": 12,
   "id": "90c29e07-6041-40c0-a9d4-0ffbbaf9373d",
   "metadata": {},
   "outputs": [
    {
     "data": {
      "text/plain": [
       "1284"
      ]
     },
     "execution_count": 12,
     "metadata": {},
     "output_type": "execute_result"
    }
   ],
   "source": [
    "protein.n_residues"
   ]
  },
  {
   "cell_type": "code",
   "execution_count": 13,
   "id": "2bae215c-e29f-46c9-92af-fd354d9d43d0",
   "metadata": {},
   "outputs": [
    {
     "name": "stdout",
     "output_type": "stream",
     "text": [
      "1 1284\n"
     ]
    }
   ],
   "source": [
    "print (protein.first_residue, protein.last_residue)"
   ]
  },
  {
   "cell_type": "code",
   "execution_count": 14,
   "id": "7a6271e0-d2dd-4eed-b35c-3d945fda0ef2",
   "metadata": {},
   "outputs": [
    {
     "data": {
      "text/plain": [
       "1"
      ]
     },
     "execution_count": 14,
     "metadata": {},
     "output_type": "execute_result"
    }
   ],
   "source": [
    "protein.counter"
   ]
  },
  {
   "cell_type": "markdown",
   "id": "375edba7-717a-4574-81b2-4cbaf639a6f2",
   "metadata": {},
   "source": [
    "Get the indices for residues 50, 60, and 70"
   ]
  },
  {
   "cell_type": "code",
   "execution_count": 15,
   "id": "ac355a40-f181-4412-8c4c-760e523de141",
   "metadata": {},
   "outputs": [
    {
     "name": "stdout",
     "output_type": "stream",
     "text": [
      "Using the available dataframe\n"
     ]
    },
    {
     "data": {
      "text/plain": [
       "[array([124, 125]), array([155, 156, 157, 158, 159]), array([179, 180])]"
      ]
     },
     "execution_count": 15,
     "metadata": {},
     "output_type": "execute_result"
    }
   ],
   "source": [
    "protein.get_indices([50, 60, 70])"
   ]
  },
  {
   "cell_type": "markdown",
   "id": "f703c867-cb34-4d13-8252-d4f8a7b8236c",
   "metadata": {},
   "source": [
    "### Why `prolintpy` is easy to scale-up "
   ]
  },
  {
   "cell_type": "markdown",
   "id": "f9ea0a88-1d15-4716-9e22-e05892051c27",
   "metadata": {},
   "source": [
    "If the input system contains only one copy of only one protein type (as in this example) then `proteins` will be a list of only one element. This entails a little bit extra work to get the protein out of the list, but provides much more flexibility in handling more complex system setups. You can use the `counter` option alongside the length of the `proteins` list to extract information about proteins in the system dynamically.\n",
    "\n",
    "For instance, to get a DataFrame representation for each protein in the system dynamically (that is without knowing anything about the composition of the input system), we can do that very easily<br>\n",
    "One way of doing that is the following syntax: "
   ]
  },
  {
   "cell_type": "code",
   "execution_count": 16,
   "id": "a0717837-2fb2-4767-b077-ec9495c119f6",
   "metadata": {},
   "outputs": [],
   "source": [
    "def get_dataframes(proteins):\n",
    "    \"\"\"\n",
    "    Takes as input a prolintpy.Protein object and returns a list of DataFrame elements \n",
    "    for each copy of each protein in the system. \n",
    "    \"\"\"\n",
    "    dataframe_list = [protein.dataframe[protein_copy] for protein in proteins for protein_copy in range(protein.counter)]\n",
    "    return dataframe_list"
   ]
  },
  {
   "cell_type": "code",
   "execution_count": 17,
   "id": "1c5f0305-7ab7-4ea8-9934-7627cf5133e1",
   "metadata": {},
   "outputs": [
    {
     "data": {
      "text/plain": [
       "[      serial name element  resSeq resName  chainID segmentID\n",
       " 0          1   BB       B       1     ARG        0          \n",
       " 1          2  SC1       S       1     ARG        0          \n",
       " 2          3  SC2       S       1     ARG        0          \n",
       " 3          4   BB       B       2     GLN        0          \n",
       " 4          5  SC1       S       2     GLN        0          \n",
       " 5          6   BB       B       3     ARG        0          \n",
       " 6          7  SC1       S       3     ARG        0          \n",
       " 7          8  SC2       S       3     ARG        0          \n",
       " 8          9   BB       B       4     TYR        0          \n",
       " 9         10  SC1       S       4     TYR        0          \n",
       " 10        11  SC2       S       4     TYR        0          \n",
       " 11        12  SC3       S       4     TYR        0          \n",
       " 12        13   BB       B       5     MET        0          \n",
       " 13        14  SC1       S       5     MET        0          \n",
       " 14        15   BB       B       6     GLU        0          \n",
       " 15        16  SC1       S       6     GLU        0          \n",
       " 16        17   BB       B       7     LYS        0          \n",
       " 17        18  SC1       S       7     LYS        0          \n",
       " 18        19  SC2       S       7     LYS        0          \n",
       " 19        20   BB       B       8     THR        0          \n",
       " 20        21  SC1       S       8     THR        0          \n",
       " 21        22   BB       B       9     GLY        0          \n",
       " 22        23   BB       B      10     LYS        0          \n",
       " 23        24  SC1       S      10     LYS        0          \n",
       " 24        25  SC2       S      10     LYS        0          \n",
       " 25        26   BB       B      11     CYS        0          \n",
       " 26        27  SC1       S      11     CYS        0          \n",
       " 27        28   BB       B      12     ASN        0          \n",
       " 28        29  SC1       S      12     ASN        0          \n",
       " 29        30   BB       B      13     VAL        0          \n",
       " ...      ...  ...     ...     ...     ...      ...       ...\n",
       " 2926    2927  SC3       S    1269     TYR        0          \n",
       " 2927    2928   BB       B    1270     GLU        0          \n",
       " 2928    2929  SC1       S    1270     GLU        0          \n",
       " 2929    2930   BB       B    1271     THR        0          \n",
       " 2930    2931  SC1       S    1271     THR        0          \n",
       " 2931    2932   BB       B    1272     ASN        0          \n",
       " 2932    2933  SC1       S    1272     ASN        0          \n",
       " 2933    2934   BB       B    1273     THR        0          \n",
       " 2934    2935  SC1       S    1273     THR        0          \n",
       " 2935    2936   BB       B    1274     PRO        0          \n",
       " 2936    2937  SC1       S    1274     PRO        0          \n",
       " 2937    2938   BB       B    1275     SER        0          \n",
       " 2938    2939  SC1       S    1275     SER        0          \n",
       " 2939    2940   BB       B    1276     CYS        0          \n",
       " 2940    2941  SC1       S    1276     CYS        0          \n",
       " 2941    2942   BB       B    1277     CYS        0          \n",
       " 2942    2943  SC1       S    1277     CYS        0          \n",
       " 2943    2944   BB       B    1278     ALA        0          \n",
       " 2944    2945   BB       B    1279     LYS        0          \n",
       " 2945    2946  SC1       S    1279     LYS        0          \n",
       " 2946    2947  SC2       S    1279     LYS        0          \n",
       " 2947    2948   BB       B    1280     GLU        0          \n",
       " 2948    2949  SC1       S    1280     GLU        0          \n",
       " 2949    2950   BB       B    1281     LEU        0          \n",
       " 2950    2951  SC1       S    1281     LEU        0          \n",
       " 2951    2952   BB       B    1282     ALA        0          \n",
       " 2952    2953   BB       B    1283     GLU        0          \n",
       " 2953    2954  SC1       S    1283     GLU        0          \n",
       " 2954    2955   BB       B    1284     MET        0          \n",
       " 2955    2956  SC1       S    1284     MET        0          \n",
       " \n",
       " [2956 rows x 7 columns]]"
      ]
     },
     "execution_count": 17,
     "metadata": {},
     "output_type": "execute_result"
    }
   ],
   "source": [
    "# returns a list of DataFrame elements \n",
    "get_dataframes(proteins)"
   ]
  },
  {
   "cell_type": "markdown",
   "id": "30c36afa-ab35-4063-821b-21a85540802f",
   "metadata": {},
   "source": [
    " "
   ]
  },
  {
   "cell_type": "markdown",
   "id": "c990da44-bfa6-4fc1-8054-9de845c67a46",
   "metadata": {},
   "source": [
    " "
   ]
  },
  {
   "cell_type": "markdown",
   "id": "a0e6fd6a-2870-4201-b643-c7b4dd2ec897",
   "metadata": {},
   "source": [
    "## Section 2: Contact-based metrics"
   ]
  },
  {
   "cell_type": "markdown",
   "id": "f5353416-aa5b-4314-9463-3b1b3b33b040",
   "metadata": {},
   "source": [
    "Redefine topologies, but now we'll only select CHOL and POPS lipids"
   ]
  },
  {
   "cell_type": "code",
   "execution_count": 18,
   "id": "8674178c-ab7b-434b-9d5e-c97fa0655ba1",
   "metadata": {},
   "outputs": [],
   "source": [
    "resolution = \"martini\"\n",
    "combine_proteins = False\n",
    "lipids = pl.Lipids(t.topology, resolution=resolution, lipid_names=[\"CHOL\", \"POPS\"])\n",
    "proteins = pl.Proteins(t.topology, resolution=resolution).system_proteins(merge=combine_proteins)"
   ]
  },
  {
   "cell_type": "markdown",
   "id": "a38931f0-06c2-4ed4-bf33-6eac92319343",
   "metadata": {},
   "source": [
    "### Build a prolintpy.ComputeContacts object"
   ]
  },
  {
   "cell_type": "markdown",
   "id": "eeb880eb-49cb-44b1-a8c7-9056f83038c7",
   "metadata": {},
   "source": [
    "We use this object for all contact calculations"
   ]
  },
  {
   "cell_type": "code",
   "execution_count": 19,
   "id": "69f34ca9-7b84-4db9-a315-9bbefbc9ed19",
   "metadata": {},
   "outputs": [],
   "source": [
    "contacts = pl.ComputeContacts(t, proteins, lipids)"
   ]
  },
  {
   "cell_type": "code",
   "execution_count": 20,
   "id": "ee6fea9e-f11b-42d7-87d1-c095d8de00e7",
   "metadata": {},
   "outputs": [
    {
     "data": {
      "text/plain": [
       "<prolintpy.core.computecontacts.ComputeContacts at 0x7fbfc0015d90>"
      ]
     },
     "execution_count": 20,
     "metadata": {},
     "output_type": "execute_result"
    }
   ],
   "source": [
    "contacts"
   ]
  },
  {
   "cell_type": "markdown",
   "id": "4cd0c2a3-a30c-4236-ab7d-182355c367f0",
   "metadata": {},
   "source": [
    "Given a list of residues and a cutoff distance, calculate all neighboring lipids: "
   ]
  },
  {
   "cell_type": "code",
   "execution_count": 21,
   "id": "65e6018a-6760-4132-8615-0002c08f4e3a",
   "metadata": {},
   "outputs": [],
   "source": [
    "residues = [*range(85, 130)]\n",
    "cutoff = 0.5 # nm"
   ]
  },
  {
   "cell_type": "code",
   "execution_count": 22,
   "id": "44d1e503-3bae-46b4-aa76-1991aab7bfb7",
   "metadata": {},
   "outputs": [
    {
     "name": "stdout",
     "output_type": "stream",
     "text": [
      "Working on protein copy: 0\n"
     ]
    }
   ],
   "source": [
    "# We will calculate contacts with the list of residues defined above and store them in the result variable. \n",
    "# This variable will have all of the contact information we require. \n",
    "results = contacts.compute_neighbors(t, residues=residues, cutoff=cutoff, grouped=False)\n",
    "\n",
    "# The command below will calcualte contacts with all residues, but it may take a while longer to finish. \n",
    "# results = contacts.compute_neighbors(t, cutoff=cutoff, grouped=False)"
   ]
  },
  {
   "cell_type": "markdown",
   "id": "4f79484d-54e0-42ab-a363-e141c07c791d",
   "metadata": {},
   "source": [
    "`results` is a nested dictionary, encoding the following information hierarchy: <br>\n",
    "protein name > protein copy > residue ID > prolintpy.LPContacts object"
   ]
  },
  {
   "cell_type": "code",
   "execution_count": 23,
   "id": "a494c63e-c097-424f-aa13-31554edc325c",
   "metadata": {},
   "outputs": [
    {
     "data": {
      "text/plain": [
       "{'Protein0': {0: {85: <prolintpy.LPContacts for residue 85>,\n",
       "   86: <prolintpy.LPContacts for residue 86>,\n",
       "   87: <prolintpy.LPContacts for residue 87>,\n",
       "   88: <prolintpy.LPContacts for residue 88>,\n",
       "   89: <prolintpy.LPContacts for residue 89>,\n",
       "   90: <prolintpy.LPContacts for residue 90>,\n",
       "   91: <prolintpy.LPContacts for residue 91>,\n",
       "   92: <prolintpy.LPContacts for residue 92>,\n",
       "   93: <prolintpy.LPContacts for residue 93>,\n",
       "   94: <prolintpy.LPContacts for residue 94>,\n",
       "   95: <prolintpy.LPContacts for residue 95>,\n",
       "   96: <prolintpy.LPContacts for residue 96>,\n",
       "   97: <prolintpy.LPContacts for residue 97>,\n",
       "   98: <prolintpy.LPContacts for residue 98>,\n",
       "   99: <prolintpy.LPContacts for residue 99>,\n",
       "   100: <prolintpy.LPContacts for residue 100>,\n",
       "   101: <prolintpy.LPContacts for residue 101>,\n",
       "   102: <prolintpy.LPContacts for residue 102>,\n",
       "   103: <prolintpy.LPContacts for residue 103>,\n",
       "   104: <prolintpy.LPContacts for residue 104>,\n",
       "   105: <prolintpy.LPContacts for residue 105>,\n",
       "   106: <prolintpy.LPContacts for residue 106>,\n",
       "   107: <prolintpy.LPContacts for residue 107>,\n",
       "   108: <prolintpy.LPContacts for residue 108>,\n",
       "   109: <prolintpy.LPContacts for residue 109>,\n",
       "   110: <prolintpy.LPContacts for residue 110>,\n",
       "   111: <prolintpy.LPContacts for residue 111>,\n",
       "   112: <prolintpy.LPContacts for residue 112>,\n",
       "   113: <prolintpy.LPContacts for residue 113>,\n",
       "   114: <prolintpy.LPContacts for residue 114>,\n",
       "   115: <prolintpy.LPContacts for residue 115>,\n",
       "   116: <prolintpy.LPContacts for residue 116>,\n",
       "   117: <prolintpy.LPContacts for residue 117>,\n",
       "   118: <prolintpy.LPContacts for residue 118>,\n",
       "   119: <prolintpy.LPContacts for residue 119>,\n",
       "   120: <prolintpy.LPContacts for residue 120>,\n",
       "   121: <prolintpy.LPContacts for residue 121>,\n",
       "   122: <prolintpy.LPContacts for residue 122>,\n",
       "   123: <prolintpy.LPContacts for residue 123>,\n",
       "   124: <prolintpy.LPContacts for residue 124>,\n",
       "   125: <prolintpy.LPContacts for residue 125>,\n",
       "   126: <prolintpy.LPContacts for residue 126>,\n",
       "   127: <prolintpy.LPContacts for residue 127>,\n",
       "   128: <prolintpy.LPContacts for residue 128>,\n",
       "   129: <prolintpy.LPContacts for residue 129>}}}"
      ]
     },
     "execution_count": 23,
     "metadata": {},
     "output_type": "execute_result"
    }
   ],
   "source": [
    "results"
   ]
  },
  {
   "cell_type": "markdown",
   "id": "5168ebfe-e3c1-4af3-95f6-aaf4183a3c7c",
   "metadata": {},
   "source": [
    "Extract contact data for a particular residue"
   ]
  },
  {
   "cell_type": "code",
   "execution_count": 24,
   "id": "5d0f0681-968d-4da4-abb7-4f7e48b4bfda",
   "metadata": {},
   "outputs": [
    {
     "data": {
      "text/plain": [
       "<prolintpy.LPContacts for residue 85>"
      ]
     },
     "execution_count": 24,
     "metadata": {},
     "output_type": "execute_result"
    }
   ],
   "source": [
    "# Proteins are named ProteinN, where N is 0, 1, 2, ..., number of copies in the system. \n",
    "# In our system we only have one copy of one protein, so the default name given is: Protein0\n",
    "results['Protein0'][0][85]"
   ]
  },
  {
   "cell_type": "code",
   "execution_count": 25,
   "id": "4e441a01-72a6-420c-8d5f-1b8b91141a41",
   "metadata": {},
   "outputs": [],
   "source": [
    "contact_r88 = results['Protein0'][0][88]"
   ]
  },
  {
   "cell_type": "code",
   "execution_count": 26,
   "id": "7aaae952-9928-415b-8092-b4468313c3b7",
   "metadata": {},
   "outputs": [
    {
     "data": {
      "text/plain": [
       "<prolintpy.LPContacts for residue 88>"
      ]
     },
     "execution_count": 26,
     "metadata": {},
     "output_type": "execute_result"
    }
   ],
   "source": [
    "contact_r88"
   ]
  },
  {
   "cell_type": "markdown",
   "id": "37b2c6a2-eefa-4773-9a8b-0ca03e9ba0ca",
   "metadata": {},
   "source": [
    "Not all interactions are equal! Residue 88 interacts with only one cholesterol lipid during the length of the input trajectory. However, it forms several interactions with POPS lipids, even though the input test trajectory is quite short. <br>The output is a dictionary with lipids as keys and the contact duration as dictionary values. The time units here are the same as MDTraj. "
   ]
  },
  {
   "cell_type": "code",
   "execution_count": 27,
   "id": "5c11c85a-6a81-479a-8ca3-04984b73f2d4",
   "metadata": {},
   "outputs": [
    {
     "data": {
      "text/plain": [
       "{'POPS': [300000.0, 900000.0, 300000.0, 600000.0, 1200000.0, 300000.0],\n",
       " 'CHOL': [3900000.0]}"
      ]
     },
     "execution_count": 27,
     "metadata": {},
     "output_type": "execute_result"
    }
   ],
   "source": [
    "contact_r88.contacts"
   ]
  },
  {
   "cell_type": "markdown",
   "id": "9776de3a-f436-4d64-aa19-69a1b18d99bc",
   "metadata": {},
   "source": [
    "We can also retrieve the residue id of the lipids that form the interactions above. <br>\n",
    "This is very useful if we want to build custom metrics or just in general customize the workflow"
   ]
  },
  {
   "cell_type": "code",
   "execution_count": 28,
   "id": "81c0023f-dedc-4581-b801-8ddce456711b",
   "metadata": {},
   "outputs": [
    {
     "data": {
      "text/plain": [
       "{'POPS': array([1677, 1773, 1817, 1888, 1889, 1934]), 'CHOL': array([2951])}"
      ]
     },
     "execution_count": 28,
     "metadata": {},
     "output_type": "execute_result"
    }
   ],
   "source": [
    "contact_r88.lipids"
   ]
  },
  {
   "cell_type": "markdown",
   "id": "e01d4049-fee2-45cb-b1f0-47d278b34d55",
   "metadata": {},
   "source": [
    "Occupancy is a binary measure so we need to retrieve it separately"
   ]
  },
  {
   "cell_type": "code",
   "execution_count": 29,
   "id": "362bb45c-918f-4423-8555-1d2caced9ff8",
   "metadata": {},
   "outputs": [
    {
     "data": {
      "text/plain": [
       "{'POPS': array([1., 1., 1., 1., 0., 0., 1., 0., 1., 1., 1., 0., 1., 1., 1., 1.]),\n",
       " 'CHOL': array([1., 1., 0., 1., 1., 1., 1., 1., 1., 1., 1., 1., 1., 1., 0., 0.])}"
      ]
     },
     "execution_count": 29,
     "metadata": {},
     "output_type": "execute_result"
    }
   ],
   "source": [
    "contact_r88.occupancy"
   ]
  },
  {
   "cell_type": "markdown",
   "id": "e74b41d2-9865-43c4-9cfa-cd9f7559022f",
   "metadata": {},
   "source": [
    " "
   ]
  },
  {
   "cell_type": "markdown",
   "id": "660945d0-1097-4555-9ebe-845f7d5c637e",
   "metadata": {},
   "source": [
    "### Customizability "
   ]
  },
  {
   "cell_type": "markdown",
   "id": "3ac5a84b-7597-4016-8ba1-d4315b3d0255",
   "metadata": {},
   "source": [
    "Altogether, the `prolintpy` capabilities highlighted above make it clear how easy it is to customize the workflow to your use-case. This is because analysis is not a closed system, and `prolintpy` provides access \n",
    "to its internal data at every step of the way. You can use the `result` dictionary above and loop through the different options without worrying about any of the other features of `prolintpy`. \n",
    "\n",
    "Nevertheless, `prolintpy` provides several helper functions and features which make working with the contact informations above really easy"
   ]
  },
  {
   "cell_type": "markdown",
   "id": "e62c660b-826b-4210-aa63-924a61be6b7f",
   "metadata": {},
   "source": [
    "### Helper functions "
   ]
  },
  {
   "cell_type": "markdown",
   "id": "ce51f6e5-07c7-41e0-b47f-c9f15f096c55",
   "metadata": {},
   "source": [
    "Helper functions allow you to efficiently get data from the `results` dictionary defined above. "
   ]
  },
  {
   "cell_type": "markdown",
   "id": "c3caac60-c30d-430a-8726-2a8aa94e8b84",
   "metadata": {},
   "source": [
    "For instance, retrieve contact information for a residue with all lipids in the system"
   ]
  },
  {
   "cell_type": "code",
   "execution_count": 30,
   "id": "e6f6df27-ecb8-4293-a510-70b8132f4170",
   "metadata": {},
   "outputs": [
    {
     "data": {
      "text/plain": [
       "defaultdict(list,\n",
       "            {'POPS': [array([ 300000.,  900000.,  300000.,  600000., 1200000.,  300000.])],\n",
       "             'CHOL': [array([3900000.])]})"
      ]
     },
     "execution_count": 30,
     "metadata": {},
     "output_type": "execute_result"
    }
   ],
   "source": [
    "pl.retrieve_contacts(results, 88)"
   ]
  },
  {
   "cell_type": "code",
   "execution_count": 31,
   "id": "46bf353a-ff50-4db1-a1f4-dd4d14cf2d95",
   "metadata": {},
   "outputs": [
    {
     "data": {
      "text/plain": [
       "defaultdict(list,\n",
       "            {'POPS': [array([1., 1., 1., 1., 0., 0., 1., 0., 1., 1., 1., 0., 1., 1., 1., 1.])],\n",
       "             'CHOL': [array([1., 1., 0., 1., 1., 1., 1., 1., 1., 1., 1., 1., 1., 1., 0., 0.])]})"
      ]
     },
     "execution_count": 31,
     "metadata": {},
     "output_type": "execute_result"
    }
   ],
   "source": [
    "# If we want to retrieve occupancy values we can indicate that: \n",
    "pl.retrieve_contacts(results, 88, contacts='occupancy')"
   ]
  },
  {
   "cell_type": "markdown",
   "id": "5084ceb1-9ea3-486d-8679-c76d13390a92",
   "metadata": {},
   "source": [
    "Retrieve contact information for a specific residue-lipid pair"
   ]
  },
  {
   "cell_type": "code",
   "execution_count": 34,
   "id": "81d6a303-182c-4563-bffa-ce9f223ab239",
   "metadata": {},
   "outputs": [
    {
     "data": {
      "text/plain": [
       "array([3900000.])"
      ]
     },
     "execution_count": 34,
     "metadata": {},
     "output_type": "execute_result"
    }
   ],
   "source": [
    "pl.retrieve_contacts_flat(results, 88, lipid=\"CHOL\")"
   ]
  },
  {
   "cell_type": "code",
   "execution_count": 36,
   "id": "578db295-b3b3-47ec-9a4b-1774efa062fd",
   "metadata": {},
   "outputs": [
    {
     "data": {
      "text/plain": [
       "array([ 300000.,  900000.,  300000.,  600000., 1200000.,  300000.])"
      ]
     },
     "execution_count": 36,
     "metadata": {},
     "output_type": "execute_result"
    }
   ],
   "source": [
    "pl.retrieve_contacts_flat(results, 88, lipid='POPS')"
   ]
  },
  {
   "cell_type": "markdown",
   "id": "7b0a89a1-b262-4e02-a8d5-5be5d1e2b1f2",
   "metadata": {},
   "source": [
    " "
   ]
  },
  {
   "cell_type": "markdown",
   "id": "81525545-2675-44eb-a9f9-b9a76e3c89a0",
   "metadata": {},
   "source": [
    "### Build a pandas DataFrame"
   ]
  },
  {
   "cell_type": "markdown",
   "id": "70a06f02-0b0f-477c-a3bb-ac43d47696b7",
   "metadata": {},
   "source": [
    "pandas DataFrames are the most convenient way to manipulate contact information. <br>\n",
    "Building a DataFrame using `prolintpy` is a straightforward process. "
   ]
  },
  {
   "cell_type": "code",
   "execution_count": 37,
   "id": "597b2136-3ba1-4d60-95bc-d86b5bdd5f6c",
   "metadata": {},
   "outputs": [],
   "source": [
    "df = pl.contacts_dataframe(results, proteins, t, radius=cutoff)"
   ]
  },
  {
   "cell_type": "code",
   "execution_count": 38,
   "id": "c560f98e-cd18-4484-86e3-bfe2bb0fdcc3",
   "metadata": {},
   "outputs": [
    {
     "data": {
      "text/html": [
       "<div>\n",
       "<style scoped>\n",
       "    .dataframe tbody tr th:only-of-type {\n",
       "        vertical-align: middle;\n",
       "    }\n",
       "\n",
       "    .dataframe tbody tr th {\n",
       "        vertical-align: top;\n",
       "    }\n",
       "\n",
       "    .dataframe thead th {\n",
       "        text-align: right;\n",
       "    }\n",
       "</style>\n",
       "<table border=\"1\" class=\"dataframe\">\n",
       "  <thead>\n",
       "    <tr style=\"text-align: right;\">\n",
       "      <th></th>\n",
       "      <th>Mean_Duration</th>\n",
       "      <th>Longest_Duration</th>\n",
       "      <th>Sum_of_all_Contacts</th>\n",
       "      <th>Lipid_Number</th>\n",
       "      <th>Normalized_Lipid_Number</th>\n",
       "      <th>Occupancy</th>\n",
       "      <th>Protein</th>\n",
       "      <th>Lipids</th>\n",
       "      <th>Radius</th>\n",
       "      <th>ResID</th>\n",
       "      <th>ResName</th>\n",
       "    </tr>\n",
       "  </thead>\n",
       "  <tbody>\n",
       "    <tr>\n",
       "      <th>0</th>\n",
       "      <td>0.0</td>\n",
       "      <td>0.0</td>\n",
       "      <td>0.0</td>\n",
       "      <td>0.0000</td>\n",
       "      <td>0.0000</td>\n",
       "      <td>0.000000</td>\n",
       "      <td>Protein0</td>\n",
       "      <td>CHOL</td>\n",
       "      <td>0.5</td>\n",
       "      <td>85</td>\n",
       "      <td>ARG</td>\n",
       "    </tr>\n",
       "    <tr>\n",
       "      <th>1</th>\n",
       "      <td>0.0</td>\n",
       "      <td>0.0</td>\n",
       "      <td>0.0</td>\n",
       "      <td>0.0000</td>\n",
       "      <td>0.0000</td>\n",
       "      <td>0.000000</td>\n",
       "      <td>Protein0</td>\n",
       "      <td>CHOL</td>\n",
       "      <td>0.5</td>\n",
       "      <td>86</td>\n",
       "      <td>GLN</td>\n",
       "    </tr>\n",
       "    <tr>\n",
       "      <th>2</th>\n",
       "      <td>0.3</td>\n",
       "      <td>0.3</td>\n",
       "      <td>1.2</td>\n",
       "      <td>0.2500</td>\n",
       "      <td>0.2500</td>\n",
       "      <td>23.529412</td>\n",
       "      <td>Protein0</td>\n",
       "      <td>CHOL</td>\n",
       "      <td>0.5</td>\n",
       "      <td>87</td>\n",
       "      <td>ARG</td>\n",
       "    </tr>\n",
       "    <tr>\n",
       "      <th>3</th>\n",
       "      <td>3.9</td>\n",
       "      <td>3.9</td>\n",
       "      <td>3.9</td>\n",
       "      <td>0.8125</td>\n",
       "      <td>0.8125</td>\n",
       "      <td>76.470588</td>\n",
       "      <td>Protein0</td>\n",
       "      <td>CHOL</td>\n",
       "      <td>0.5</td>\n",
       "      <td>88</td>\n",
       "      <td>TYR</td>\n",
       "    </tr>\n",
       "    <tr>\n",
       "      <th>4</th>\n",
       "      <td>0.0</td>\n",
       "      <td>0.0</td>\n",
       "      <td>0.0</td>\n",
       "      <td>0.0000</td>\n",
       "      <td>0.0000</td>\n",
       "      <td>0.000000</td>\n",
       "      <td>Protein0</td>\n",
       "      <td>CHOL</td>\n",
       "      <td>0.5</td>\n",
       "      <td>89</td>\n",
       "      <td>MET</td>\n",
       "    </tr>\n",
       "  </tbody>\n",
       "</table>\n",
       "</div>"
      ],
      "text/plain": [
       "   Mean_Duration  Longest_Duration  Sum_of_all_Contacts  Lipid_Number  \\\n",
       "0            0.0               0.0                  0.0        0.0000   \n",
       "1            0.0               0.0                  0.0        0.0000   \n",
       "2            0.3               0.3                  1.2        0.2500   \n",
       "3            3.9               3.9                  3.9        0.8125   \n",
       "4            0.0               0.0                  0.0        0.0000   \n",
       "\n",
       "   Normalized_Lipid_Number  Occupancy   Protein Lipids  Radius  ResID ResName  \n",
       "0                   0.0000   0.000000  Protein0   CHOL     0.5     85     ARG  \n",
       "1                   0.0000   0.000000  Protein0   CHOL     0.5     86     GLN  \n",
       "2                   0.2500  23.529412  Protein0   CHOL     0.5     87     ARG  \n",
       "3                   0.8125  76.470588  Protein0   CHOL     0.5     88     TYR  \n",
       "4                   0.0000   0.000000  Protein0   CHOL     0.5     89     MET  "
      ]
     },
     "execution_count": 38,
     "metadata": {},
     "output_type": "execute_result"
    }
   ],
   "source": [
    "df.head()"
   ]
  },
  {
   "cell_type": "markdown",
   "id": "ad5928f0-8f92-4115-996e-ae73626501aa",
   "metadata": {},
   "source": [
    "Sort by the most interacting residues in terms of the Longest_Duration metric"
   ]
  },
  {
   "cell_type": "code",
   "execution_count": 39,
   "id": "0cd8bade-f3a7-4181-808b-72587ef66044",
   "metadata": {},
   "outputs": [
    {
     "data": {
      "text/html": [
       "<div>\n",
       "<style scoped>\n",
       "    .dataframe tbody tr th:only-of-type {\n",
       "        vertical-align: middle;\n",
       "    }\n",
       "\n",
       "    .dataframe tbody tr th {\n",
       "        vertical-align: top;\n",
       "    }\n",
       "\n",
       "    .dataframe thead th {\n",
       "        text-align: right;\n",
       "    }\n",
       "</style>\n",
       "<table border=\"1\" class=\"dataframe\">\n",
       "  <thead>\n",
       "    <tr style=\"text-align: right;\">\n",
       "      <th></th>\n",
       "      <th>Mean_Duration</th>\n",
       "      <th>Longest_Duration</th>\n",
       "      <th>Sum_of_all_Contacts</th>\n",
       "      <th>Lipid_Number</th>\n",
       "      <th>Normalized_Lipid_Number</th>\n",
       "      <th>Occupancy</th>\n",
       "      <th>Protein</th>\n",
       "      <th>Lipids</th>\n",
       "      <th>Radius</th>\n",
       "      <th>ResID</th>\n",
       "      <th>ResName</th>\n",
       "    </tr>\n",
       "  </thead>\n",
       "  <tbody>\n",
       "    <tr>\n",
       "      <th>6</th>\n",
       "      <td>1.70</td>\n",
       "      <td>4.5</td>\n",
       "      <td>5.1</td>\n",
       "      <td>1.0625</td>\n",
       "      <td>1.0625</td>\n",
       "      <td>88.235294</td>\n",
       "      <td>Protein0</td>\n",
       "      <td>CHOL</td>\n",
       "      <td>0.5</td>\n",
       "      <td>91</td>\n",
       "      <td>LYS</td>\n",
       "    </tr>\n",
       "    <tr>\n",
       "      <th>3</th>\n",
       "      <td>3.90</td>\n",
       "      <td>3.9</td>\n",
       "      <td>3.9</td>\n",
       "      <td>0.8125</td>\n",
       "      <td>0.8125</td>\n",
       "      <td>76.470588</td>\n",
       "      <td>Protein0</td>\n",
       "      <td>CHOL</td>\n",
       "      <td>0.5</td>\n",
       "      <td>88</td>\n",
       "      <td>TYR</td>\n",
       "    </tr>\n",
       "    <tr>\n",
       "      <th>43</th>\n",
       "      <td>1.95</td>\n",
       "      <td>3.6</td>\n",
       "      <td>3.9</td>\n",
       "      <td>0.8125</td>\n",
       "      <td>0.8125</td>\n",
       "      <td>70.588235</td>\n",
       "      <td>Protein0</td>\n",
       "      <td>CHOL</td>\n",
       "      <td>0.5</td>\n",
       "      <td>128</td>\n",
       "      <td>PHE</td>\n",
       "    </tr>\n",
       "    <tr>\n",
       "      <th>36</th>\n",
       "      <td>1.50</td>\n",
       "      <td>3.0</td>\n",
       "      <td>4.5</td>\n",
       "      <td>0.9375</td>\n",
       "      <td>0.9375</td>\n",
       "      <td>64.705882</td>\n",
       "      <td>Protein0</td>\n",
       "      <td>CHOL</td>\n",
       "      <td>0.5</td>\n",
       "      <td>121</td>\n",
       "      <td>TRP</td>\n",
       "    </tr>\n",
       "    <tr>\n",
       "      <th>40</th>\n",
       "      <td>1.95</td>\n",
       "      <td>3.0</td>\n",
       "      <td>3.9</td>\n",
       "      <td>0.8125</td>\n",
       "      <td>0.8125</td>\n",
       "      <td>58.823529</td>\n",
       "      <td>Protein0</td>\n",
       "      <td>CHOL</td>\n",
       "      <td>0.5</td>\n",
       "      <td>125</td>\n",
       "      <td>LEU</td>\n",
       "    </tr>\n",
       "  </tbody>\n",
       "</table>\n",
       "</div>"
      ],
      "text/plain": [
       "    Mean_Duration  Longest_Duration  Sum_of_all_Contacts  Lipid_Number  \\\n",
       "6            1.70               4.5                  5.1        1.0625   \n",
       "3            3.90               3.9                  3.9        0.8125   \n",
       "43           1.95               3.6                  3.9        0.8125   \n",
       "36           1.50               3.0                  4.5        0.9375   \n",
       "40           1.95               3.0                  3.9        0.8125   \n",
       "\n",
       "    Normalized_Lipid_Number  Occupancy   Protein Lipids  Radius  ResID ResName  \n",
       "6                    1.0625  88.235294  Protein0   CHOL     0.5     91     LYS  \n",
       "3                    0.8125  76.470588  Protein0   CHOL     0.5     88     TYR  \n",
       "43                   0.8125  70.588235  Protein0   CHOL     0.5    128     PHE  \n",
       "36                   0.9375  64.705882  Protein0   CHOL     0.5    121     TRP  \n",
       "40                   0.8125  58.823529  Protein0   CHOL     0.5    125     LEU  "
      ]
     },
     "execution_count": 39,
     "metadata": {},
     "output_type": "execute_result"
    }
   ],
   "source": [
    "df.sort_values('Longest_Duration', ascending=False).head()"
   ]
  },
  {
   "cell_type": "markdown",
   "id": "eb8c9b4e-0d7f-4d80-acb9-8a82d3e076c1",
   "metadata": {},
   "source": [
    "Get the residue ids and indices of the top 5 residues interacting with cholesterol as measured by the Longest_Duration metric"
   ]
  },
  {
   "cell_type": "code",
   "execution_count": 40,
   "id": "6d0265ff-5095-4d2f-bac1-2f7d5f5bb08f",
   "metadata": {},
   "outputs": [
    {
     "name": "stdout",
     "output_type": "stream",
     "text": [
      "Most interacting residues are:  [91, 88, 128, 121, 125, 124, 117, 118, 122, 114]\n",
      "~~~~~~~~~~~~~~~~~~~~~~~~~~~~~~~~~~~~~~~~~~~~~~~~~~~~~~~~~~~~~~~~~~~~~~~~~~~~~~~~"
     ]
    }
   ],
   "source": [
    "top_residues = df[df.Lipids == \"CHOL\"].sort_values('Longest_Duration', ascending=False).ResID.to_list()[:10]\n",
    "print (\"Most interacting residues are: \", top_residues, end=\"\\n\" + '~' * 80)"
   ]
  },
  {
   "cell_type": "code",
   "execution_count": 41,
   "id": "df1f2224-378e-49ce-979c-2ef21d40450d",
   "metadata": {},
   "outputs": [
    {
     "data": {
      "text/plain": [
       "['Residue 91 with indices: [225 226 227 228]',\n",
       " 'Residue 88 with indices: [220 221]',\n",
       " 'Residue 128 with indices: [304 305]',\n",
       " 'Residue 121 with indices: [292 293]',\n",
       " 'Residue 125 with indices: [299 300]',\n",
       " 'Residue 124 with indices: [297 298]',\n",
       " 'Residue 117 with indices: [284 285]',\n",
       " 'Residue 118 with indices: [286 287]',\n",
       " 'Residue 122 with indices: [294 295]',\n",
       " 'Residue 114 with indices: [279 280]']"
      ]
     },
     "execution_count": 41,
     "metadata": {},
     "output_type": "execute_result"
    }
   ],
   "source": [
    "[f'Residue {res} with indices: {proteins[0].get_indices([res], suppress=True)[0]}' for res in top_residues]"
   ]
  },
  {
   "cell_type": "markdown",
   "id": "392484b9-3955-4b69-b7dc-1f1e7499c0f1",
   "metadata": {},
   "source": [
    "## Section 3: Visualization "
   ]
  },
  {
   "cell_type": "code",
   "execution_count": 42,
   "id": "334ed118-ec8e-402d-9054-fe39733a06a4",
   "metadata": {},
   "outputs": [
    {
     "data": {
      "text/html": [
       "\n",
       "    <div class=\"bk-root\">\n",
       "        <a href=\"https://bokeh.org\" target=\"_blank\" class=\"bk-logo bk-logo-small bk-logo-notebook\"></a>\n",
       "        <span id=\"1001\">Loading BokehJS ...</span>\n",
       "    </div>"
      ]
     },
     "metadata": {},
     "output_type": "display_data"
    },
    {
     "data": {
      "application/javascript": [
       "\n",
       "(function(root) {\n",
       "  function now() {\n",
       "    return new Date();\n",
       "  }\n",
       "\n",
       "  var force = true;\n",
       "\n",
       "  if (typeof root._bokeh_onload_callbacks === \"undefined\" || force === true) {\n",
       "    root._bokeh_onload_callbacks = [];\n",
       "    root._bokeh_is_loading = undefined;\n",
       "  }\n",
       "\n",
       "  var JS_MIME_TYPE = 'application/javascript';\n",
       "  var HTML_MIME_TYPE = 'text/html';\n",
       "  var EXEC_MIME_TYPE = 'application/vnd.bokehjs_exec.v0+json';\n",
       "  var CLASS_NAME = 'output_bokeh rendered_html';\n",
       "\n",
       "  /**\n",
       "   * Render data to the DOM node\n",
       "   */\n",
       "  function render(props, node) {\n",
       "    var script = document.createElement(\"script\");\n",
       "    node.appendChild(script);\n",
       "  }\n",
       "\n",
       "  /**\n",
       "   * Handle when an output is cleared or removed\n",
       "   */\n",
       "  function handleClearOutput(event, handle) {\n",
       "    var cell = handle.cell;\n",
       "\n",
       "    var id = cell.output_area._bokeh_element_id;\n",
       "    var server_id = cell.output_area._bokeh_server_id;\n",
       "    // Clean up Bokeh references\n",
       "    if (id != null && id in Bokeh.index) {\n",
       "      Bokeh.index[id].model.document.clear();\n",
       "      delete Bokeh.index[id];\n",
       "    }\n",
       "\n",
       "    if (server_id !== undefined) {\n",
       "      // Clean up Bokeh references\n",
       "      var cmd = \"from bokeh.io.state import curstate; print(curstate().uuid_to_server['\" + server_id + \"'].get_sessions()[0].document.roots[0]._id)\";\n",
       "      cell.notebook.kernel.execute(cmd, {\n",
       "        iopub: {\n",
       "          output: function(msg) {\n",
       "            var id = msg.content.text.trim();\n",
       "            if (id in Bokeh.index) {\n",
       "              Bokeh.index[id].model.document.clear();\n",
       "              delete Bokeh.index[id];\n",
       "            }\n",
       "          }\n",
       "        }\n",
       "      });\n",
       "      // Destroy server and session\n",
       "      var cmd = \"import bokeh.io.notebook as ion; ion.destroy_server('\" + server_id + \"')\";\n",
       "      cell.notebook.kernel.execute(cmd);\n",
       "    }\n",
       "  }\n",
       "\n",
       "  /**\n",
       "   * Handle when a new output is added\n",
       "   */\n",
       "  function handleAddOutput(event, handle) {\n",
       "    var output_area = handle.output_area;\n",
       "    var output = handle.output;\n",
       "\n",
       "    // limit handleAddOutput to display_data with EXEC_MIME_TYPE content only\n",
       "    if ((output.output_type != \"display_data\") || (!output.data.hasOwnProperty(EXEC_MIME_TYPE))) {\n",
       "      return\n",
       "    }\n",
       "\n",
       "    var toinsert = output_area.element.find(\".\" + CLASS_NAME.split(' ')[0]);\n",
       "\n",
       "    if (output.metadata[EXEC_MIME_TYPE][\"id\"] !== undefined) {\n",
       "      toinsert[toinsert.length - 1].firstChild.textContent = output.data[JS_MIME_TYPE];\n",
       "      // store reference to embed id on output_area\n",
       "      output_area._bokeh_element_id = output.metadata[EXEC_MIME_TYPE][\"id\"];\n",
       "    }\n",
       "    if (output.metadata[EXEC_MIME_TYPE][\"server_id\"] !== undefined) {\n",
       "      var bk_div = document.createElement(\"div\");\n",
       "      bk_div.innerHTML = output.data[HTML_MIME_TYPE];\n",
       "      var script_attrs = bk_div.children[0].attributes;\n",
       "      for (var i = 0; i < script_attrs.length; i++) {\n",
       "        toinsert[toinsert.length - 1].firstChild.setAttribute(script_attrs[i].name, script_attrs[i].value);\n",
       "      }\n",
       "      // store reference to server id on output_area\n",
       "      output_area._bokeh_server_id = output.metadata[EXEC_MIME_TYPE][\"server_id\"];\n",
       "    }\n",
       "  }\n",
       "\n",
       "  function register_renderer(events, OutputArea) {\n",
       "\n",
       "    function append_mime(data, metadata, element) {\n",
       "      // create a DOM node to render to\n",
       "      var toinsert = this.create_output_subarea(\n",
       "        metadata,\n",
       "        CLASS_NAME,\n",
       "        EXEC_MIME_TYPE\n",
       "      );\n",
       "      this.keyboard_manager.register_events(toinsert);\n",
       "      // Render to node\n",
       "      var props = {data: data, metadata: metadata[EXEC_MIME_TYPE]};\n",
       "      render(props, toinsert[toinsert.length - 1]);\n",
       "      element.append(toinsert);\n",
       "      return toinsert\n",
       "    }\n",
       "\n",
       "    /* Handle when an output is cleared or removed */\n",
       "    events.on('clear_output.CodeCell', handleClearOutput);\n",
       "    events.on('delete.Cell', handleClearOutput);\n",
       "\n",
       "    /* Handle when a new output is added */\n",
       "    events.on('output_added.OutputArea', handleAddOutput);\n",
       "\n",
       "    /**\n",
       "     * Register the mime type and append_mime function with output_area\n",
       "     */\n",
       "    OutputArea.prototype.register_mime_type(EXEC_MIME_TYPE, append_mime, {\n",
       "      /* Is output safe? */\n",
       "      safe: true,\n",
       "      /* Index of renderer in `output_area.display_order` */\n",
       "      index: 0\n",
       "    });\n",
       "  }\n",
       "\n",
       "  // register the mime type if in Jupyter Notebook environment and previously unregistered\n",
       "  if (root.Jupyter !== undefined) {\n",
       "    var events = require('base/js/events');\n",
       "    var OutputArea = require('notebook/js/outputarea').OutputArea;\n",
       "\n",
       "    if (OutputArea.prototype.mime_types().indexOf(EXEC_MIME_TYPE) == -1) {\n",
       "      register_renderer(events, OutputArea);\n",
       "    }\n",
       "  }\n",
       "\n",
       "  \n",
       "  if (typeof (root._bokeh_timeout) === \"undefined\" || force === true) {\n",
       "    root._bokeh_timeout = Date.now() + 5000;\n",
       "    root._bokeh_failed_load = false;\n",
       "  }\n",
       "\n",
       "  var NB_LOAD_WARNING = {'data': {'text/html':\n",
       "     \"<div style='background-color: #fdd'>\\n\"+\n",
       "     \"<p>\\n\"+\n",
       "     \"BokehJS does not appear to have successfully loaded. If loading BokehJS from CDN, this \\n\"+\n",
       "     \"may be due to a slow or bad network connection. Possible fixes:\\n\"+\n",
       "     \"</p>\\n\"+\n",
       "     \"<ul>\\n\"+\n",
       "     \"<li>re-rerun `output_notebook()` to attempt to load from CDN again, or</li>\\n\"+\n",
       "     \"<li>use INLINE resources instead, as so:</li>\\n\"+\n",
       "     \"</ul>\\n\"+\n",
       "     \"<code>\\n\"+\n",
       "     \"from bokeh.resources import INLINE\\n\"+\n",
       "     \"output_notebook(resources=INLINE)\\n\"+\n",
       "     \"</code>\\n\"+\n",
       "     \"</div>\"}};\n",
       "\n",
       "  function display_loaded() {\n",
       "    var el = document.getElementById(\"1001\");\n",
       "    if (el != null) {\n",
       "      el.textContent = \"BokehJS is loading...\";\n",
       "    }\n",
       "    if (root.Bokeh !== undefined) {\n",
       "      if (el != null) {\n",
       "        el.textContent = \"BokehJS \" + root.Bokeh.version + \" successfully loaded.\";\n",
       "      }\n",
       "    } else if (Date.now() < root._bokeh_timeout) {\n",
       "      setTimeout(display_loaded, 100)\n",
       "    }\n",
       "  }\n",
       "\n",
       "\n",
       "  function run_callbacks() {\n",
       "    try {\n",
       "      root._bokeh_onload_callbacks.forEach(function(callback) {\n",
       "        if (callback != null)\n",
       "          callback();\n",
       "      });\n",
       "    } finally {\n",
       "      delete root._bokeh_onload_callbacks\n",
       "    }\n",
       "    console.debug(\"Bokeh: all callbacks have finished\");\n",
       "  }\n",
       "\n",
       "  function load_libs(css_urls, js_urls, callback) {\n",
       "    if (css_urls == null) css_urls = [];\n",
       "    if (js_urls == null) js_urls = [];\n",
       "\n",
       "    root._bokeh_onload_callbacks.push(callback);\n",
       "    if (root._bokeh_is_loading > 0) {\n",
       "      console.debug(\"Bokeh: BokehJS is being loaded, scheduling callback at\", now());\n",
       "      return null;\n",
       "    }\n",
       "    if (js_urls == null || js_urls.length === 0) {\n",
       "      run_callbacks();\n",
       "      return null;\n",
       "    }\n",
       "    console.debug(\"Bokeh: BokehJS not loaded, scheduling load and callback at\", now());\n",
       "    root._bokeh_is_loading = css_urls.length + js_urls.length;\n",
       "\n",
       "    function on_load() {\n",
       "      root._bokeh_is_loading--;\n",
       "      if (root._bokeh_is_loading === 0) {\n",
       "        console.debug(\"Bokeh: all BokehJS libraries/stylesheets loaded\");\n",
       "        run_callbacks()\n",
       "      }\n",
       "    }\n",
       "\n",
       "    function on_error() {\n",
       "      console.error(\"failed to load \" + url);\n",
       "    }\n",
       "\n",
       "    for (var i = 0; i < css_urls.length; i++) {\n",
       "      var url = css_urls[i];\n",
       "      const element = document.createElement(\"link\");\n",
       "      element.onload = on_load;\n",
       "      element.onerror = on_error;\n",
       "      element.rel = \"stylesheet\";\n",
       "      element.type = \"text/css\";\n",
       "      element.href = url;\n",
       "      console.debug(\"Bokeh: injecting link tag for BokehJS stylesheet: \", url);\n",
       "      document.body.appendChild(element);\n",
       "    }\n",
       "\n",
       "    for (var i = 0; i < js_urls.length; i++) {\n",
       "      var url = js_urls[i];\n",
       "      var element = document.createElement('script');\n",
       "      element.onload = on_load;\n",
       "      element.onerror = on_error;\n",
       "      element.async = false;\n",
       "      element.src = url;\n",
       "      console.debug(\"Bokeh: injecting script tag for BokehJS library: \", url);\n",
       "      document.head.appendChild(element);\n",
       "    }\n",
       "  };var element = document.getElementById(\"1001\");\n",
       "  if (element == null) {\n",
       "    console.error(\"Bokeh: ERROR: autoload.js configured with elementid '1001' but no matching script tag was found. \")\n",
       "    return false;\n",
       "  }\n",
       "\n",
       "  function inject_raw_css(css) {\n",
       "    const element = document.createElement(\"style\");\n",
       "    element.appendChild(document.createTextNode(css));\n",
       "    document.body.appendChild(element);\n",
       "  }\n",
       "\n",
       "  \n",
       "  var js_urls = [\"https://cdn.pydata.org/bokeh/release/bokeh-1.4.0.min.js\", \"https://cdn.pydata.org/bokeh/release/bokeh-widgets-1.4.0.min.js\", \"https://cdn.pydata.org/bokeh/release/bokeh-tables-1.4.0.min.js\", \"https://cdn.pydata.org/bokeh/release/bokeh-gl-1.4.0.min.js\"];\n",
       "  var css_urls = [];\n",
       "  \n",
       "\n",
       "  var inline_js = [\n",
       "    function(Bokeh) {\n",
       "      Bokeh.set_log_level(\"info\");\n",
       "    },\n",
       "    function(Bokeh) {\n",
       "    \n",
       "    \n",
       "    }\n",
       "  ];\n",
       "\n",
       "  function run_inline_js() {\n",
       "    \n",
       "    if (root.Bokeh !== undefined || force === true) {\n",
       "      \n",
       "    for (var i = 0; i < inline_js.length; i++) {\n",
       "      inline_js[i].call(root, root.Bokeh);\n",
       "    }\n",
       "    if (force === true) {\n",
       "        display_loaded();\n",
       "      }} else if (Date.now() < root._bokeh_timeout) {\n",
       "      setTimeout(run_inline_js, 100);\n",
       "    } else if (!root._bokeh_failed_load) {\n",
       "      console.log(\"Bokeh: BokehJS failed to load within specified timeout.\");\n",
       "      root._bokeh_failed_load = true;\n",
       "    } else if (force !== true) {\n",
       "      var cell = $(document.getElementById(\"1001\")).parents('.cell').data().cell;\n",
       "      cell.output_area.append_execute_result(NB_LOAD_WARNING)\n",
       "    }\n",
       "\n",
       "  }\n",
       "\n",
       "  if (root._bokeh_is_loading === 0) {\n",
       "    console.debug(\"Bokeh: BokehJS loaded, going straight to plotting\");\n",
       "    run_inline_js();\n",
       "  } else {\n",
       "    load_libs(css_urls, js_urls, function() {\n",
       "      console.debug(\"Bokeh: BokehJS plotting callback run at\", now());\n",
       "      run_inline_js();\n",
       "    });\n",
       "  }\n",
       "}(window));"
      ],
      "application/vnd.bokehjs_load.v0+json": "\n(function(root) {\n  function now() {\n    return new Date();\n  }\n\n  var force = true;\n\n  if (typeof root._bokeh_onload_callbacks === \"undefined\" || force === true) {\n    root._bokeh_onload_callbacks = [];\n    root._bokeh_is_loading = undefined;\n  }\n\n  \n\n  \n  if (typeof (root._bokeh_timeout) === \"undefined\" || force === true) {\n    root._bokeh_timeout = Date.now() + 5000;\n    root._bokeh_failed_load = false;\n  }\n\n  var NB_LOAD_WARNING = {'data': {'text/html':\n     \"<div style='background-color: #fdd'>\\n\"+\n     \"<p>\\n\"+\n     \"BokehJS does not appear to have successfully loaded. If loading BokehJS from CDN, this \\n\"+\n     \"may be due to a slow or bad network connection. Possible fixes:\\n\"+\n     \"</p>\\n\"+\n     \"<ul>\\n\"+\n     \"<li>re-rerun `output_notebook()` to attempt to load from CDN again, or</li>\\n\"+\n     \"<li>use INLINE resources instead, as so:</li>\\n\"+\n     \"</ul>\\n\"+\n     \"<code>\\n\"+\n     \"from bokeh.resources import INLINE\\n\"+\n     \"output_notebook(resources=INLINE)\\n\"+\n     \"</code>\\n\"+\n     \"</div>\"}};\n\n  function display_loaded() {\n    var el = document.getElementById(\"1001\");\n    if (el != null) {\n      el.textContent = \"BokehJS is loading...\";\n    }\n    if (root.Bokeh !== undefined) {\n      if (el != null) {\n        el.textContent = \"BokehJS \" + root.Bokeh.version + \" successfully loaded.\";\n      }\n    } else if (Date.now() < root._bokeh_timeout) {\n      setTimeout(display_loaded, 100)\n    }\n  }\n\n\n  function run_callbacks() {\n    try {\n      root._bokeh_onload_callbacks.forEach(function(callback) {\n        if (callback != null)\n          callback();\n      });\n    } finally {\n      delete root._bokeh_onload_callbacks\n    }\n    console.debug(\"Bokeh: all callbacks have finished\");\n  }\n\n  function load_libs(css_urls, js_urls, callback) {\n    if (css_urls == null) css_urls = [];\n    if (js_urls == null) js_urls = [];\n\n    root._bokeh_onload_callbacks.push(callback);\n    if (root._bokeh_is_loading > 0) {\n      console.debug(\"Bokeh: BokehJS is being loaded, scheduling callback at\", now());\n      return null;\n    }\n    if (js_urls == null || js_urls.length === 0) {\n      run_callbacks();\n      return null;\n    }\n    console.debug(\"Bokeh: BokehJS not loaded, scheduling load and callback at\", now());\n    root._bokeh_is_loading = css_urls.length + js_urls.length;\n\n    function on_load() {\n      root._bokeh_is_loading--;\n      if (root._bokeh_is_loading === 0) {\n        console.debug(\"Bokeh: all BokehJS libraries/stylesheets loaded\");\n        run_callbacks()\n      }\n    }\n\n    function on_error() {\n      console.error(\"failed to load \" + url);\n    }\n\n    for (var i = 0; i < css_urls.length; i++) {\n      var url = css_urls[i];\n      const element = document.createElement(\"link\");\n      element.onload = on_load;\n      element.onerror = on_error;\n      element.rel = \"stylesheet\";\n      element.type = \"text/css\";\n      element.href = url;\n      console.debug(\"Bokeh: injecting link tag for BokehJS stylesheet: \", url);\n      document.body.appendChild(element);\n    }\n\n    for (var i = 0; i < js_urls.length; i++) {\n      var url = js_urls[i];\n      var element = document.createElement('script');\n      element.onload = on_load;\n      element.onerror = on_error;\n      element.async = false;\n      element.src = url;\n      console.debug(\"Bokeh: injecting script tag for BokehJS library: \", url);\n      document.head.appendChild(element);\n    }\n  };var element = document.getElementById(\"1001\");\n  if (element == null) {\n    console.error(\"Bokeh: ERROR: autoload.js configured with elementid '1001' but no matching script tag was found. \")\n    return false;\n  }\n\n  function inject_raw_css(css) {\n    const element = document.createElement(\"style\");\n    element.appendChild(document.createTextNode(css));\n    document.body.appendChild(element);\n  }\n\n  \n  var js_urls = [\"https://cdn.pydata.org/bokeh/release/bokeh-1.4.0.min.js\", \"https://cdn.pydata.org/bokeh/release/bokeh-widgets-1.4.0.min.js\", \"https://cdn.pydata.org/bokeh/release/bokeh-tables-1.4.0.min.js\", \"https://cdn.pydata.org/bokeh/release/bokeh-gl-1.4.0.min.js\"];\n  var css_urls = [];\n  \n\n  var inline_js = [\n    function(Bokeh) {\n      Bokeh.set_log_level(\"info\");\n    },\n    function(Bokeh) {\n    \n    \n    }\n  ];\n\n  function run_inline_js() {\n    \n    if (root.Bokeh !== undefined || force === true) {\n      \n    for (var i = 0; i < inline_js.length; i++) {\n      inline_js[i].call(root, root.Bokeh);\n    }\n    if (force === true) {\n        display_loaded();\n      }} else if (Date.now() < root._bokeh_timeout) {\n      setTimeout(run_inline_js, 100);\n    } else if (!root._bokeh_failed_load) {\n      console.log(\"Bokeh: BokehJS failed to load within specified timeout.\");\n      root._bokeh_failed_load = true;\n    } else if (force !== true) {\n      var cell = $(document.getElementById(\"1001\")).parents('.cell').data().cell;\n      cell.output_area.append_execute_result(NB_LOAD_WARNING)\n    }\n\n  }\n\n  if (root._bokeh_is_loading === 0) {\n    console.debug(\"Bokeh: BokehJS loaded, going straight to plotting\");\n    run_inline_js();\n  } else {\n    load_libs(css_urls, js_urls, function() {\n      console.debug(\"Bokeh: BokehJS plotting callback run at\", now());\n      run_inline_js();\n    });\n  }\n}(window));"
     },
     "metadata": {},
     "output_type": "display_data"
    }
   ],
   "source": [
    "from bokeh.io import output_notebook\n",
    "output_notebook()"
   ]
  },
  {
   "cell_type": "markdown",
   "id": "fec3e2f7-ed60-45f3-85ea-992fdcd8e904",
   "metadata": {},
   "source": [
    "## Scatter Plot"
   ]
  },
  {
   "cell_type": "markdown",
   "id": "ac7b0f0c-60a0-4ecd-a6a2-742a81e94856",
   "metadata": {},
   "source": [
    "Once you have build a pandas DataFrame from the calculated contacts (by, for instance, running the contacts_dataframe() function), you can provide it as input to the appropriate prolintpy visualization apps:"
   ]
  },
  {
   "cell_type": "code",
   "execution_count": 43,
   "id": "8457961f-afea-41f7-9ed0-91d030a999c0",
   "metadata": {},
   "outputs": [
    {
     "data": {
      "text/html": [
       "\n",
       "    <div class=\"bk-root\">\n",
       "        <a href=\"https://bokeh.org\" target=\"_blank\" class=\"bk-logo bk-logo-small bk-logo-notebook\"></a>\n",
       "        <span id=\"1002\">Loading BokehJS ...</span>\n",
       "    </div>"
      ]
     },
     "metadata": {},
     "output_type": "display_data"
    },
    {
     "data": {
      "application/javascript": [
       "\n",
       "(function(root) {\n",
       "  function now() {\n",
       "    return new Date();\n",
       "  }\n",
       "\n",
       "  var force = true;\n",
       "\n",
       "  if (typeof root._bokeh_onload_callbacks === \"undefined\" || force === true) {\n",
       "    root._bokeh_onload_callbacks = [];\n",
       "    root._bokeh_is_loading = undefined;\n",
       "  }\n",
       "\n",
       "  var JS_MIME_TYPE = 'application/javascript';\n",
       "  var HTML_MIME_TYPE = 'text/html';\n",
       "  var EXEC_MIME_TYPE = 'application/vnd.bokehjs_exec.v0+json';\n",
       "  var CLASS_NAME = 'output_bokeh rendered_html';\n",
       "\n",
       "  /**\n",
       "   * Render data to the DOM node\n",
       "   */\n",
       "  function render(props, node) {\n",
       "    var script = document.createElement(\"script\");\n",
       "    node.appendChild(script);\n",
       "  }\n",
       "\n",
       "  /**\n",
       "   * Handle when an output is cleared or removed\n",
       "   */\n",
       "  function handleClearOutput(event, handle) {\n",
       "    var cell = handle.cell;\n",
       "\n",
       "    var id = cell.output_area._bokeh_element_id;\n",
       "    var server_id = cell.output_area._bokeh_server_id;\n",
       "    // Clean up Bokeh references\n",
       "    if (id != null && id in Bokeh.index) {\n",
       "      Bokeh.index[id].model.document.clear();\n",
       "      delete Bokeh.index[id];\n",
       "    }\n",
       "\n",
       "    if (server_id !== undefined) {\n",
       "      // Clean up Bokeh references\n",
       "      var cmd = \"from bokeh.io.state import curstate; print(curstate().uuid_to_server['\" + server_id + \"'].get_sessions()[0].document.roots[0]._id)\";\n",
       "      cell.notebook.kernel.execute(cmd, {\n",
       "        iopub: {\n",
       "          output: function(msg) {\n",
       "            var id = msg.content.text.trim();\n",
       "            if (id in Bokeh.index) {\n",
       "              Bokeh.index[id].model.document.clear();\n",
       "              delete Bokeh.index[id];\n",
       "            }\n",
       "          }\n",
       "        }\n",
       "      });\n",
       "      // Destroy server and session\n",
       "      var cmd = \"import bokeh.io.notebook as ion; ion.destroy_server('\" + server_id + \"')\";\n",
       "      cell.notebook.kernel.execute(cmd);\n",
       "    }\n",
       "  }\n",
       "\n",
       "  /**\n",
       "   * Handle when a new output is added\n",
       "   */\n",
       "  function handleAddOutput(event, handle) {\n",
       "    var output_area = handle.output_area;\n",
       "    var output = handle.output;\n",
       "\n",
       "    // limit handleAddOutput to display_data with EXEC_MIME_TYPE content only\n",
       "    if ((output.output_type != \"display_data\") || (!output.data.hasOwnProperty(EXEC_MIME_TYPE))) {\n",
       "      return\n",
       "    }\n",
       "\n",
       "    var toinsert = output_area.element.find(\".\" + CLASS_NAME.split(' ')[0]);\n",
       "\n",
       "    if (output.metadata[EXEC_MIME_TYPE][\"id\"] !== undefined) {\n",
       "      toinsert[toinsert.length - 1].firstChild.textContent = output.data[JS_MIME_TYPE];\n",
       "      // store reference to embed id on output_area\n",
       "      output_area._bokeh_element_id = output.metadata[EXEC_MIME_TYPE][\"id\"];\n",
       "    }\n",
       "    if (output.metadata[EXEC_MIME_TYPE][\"server_id\"] !== undefined) {\n",
       "      var bk_div = document.createElement(\"div\");\n",
       "      bk_div.innerHTML = output.data[HTML_MIME_TYPE];\n",
       "      var script_attrs = bk_div.children[0].attributes;\n",
       "      for (var i = 0; i < script_attrs.length; i++) {\n",
       "        toinsert[toinsert.length - 1].firstChild.setAttribute(script_attrs[i].name, script_attrs[i].value);\n",
       "      }\n",
       "      // store reference to server id on output_area\n",
       "      output_area._bokeh_server_id = output.metadata[EXEC_MIME_TYPE][\"server_id\"];\n",
       "    }\n",
       "  }\n",
       "\n",
       "  function register_renderer(events, OutputArea) {\n",
       "\n",
       "    function append_mime(data, metadata, element) {\n",
       "      // create a DOM node to render to\n",
       "      var toinsert = this.create_output_subarea(\n",
       "        metadata,\n",
       "        CLASS_NAME,\n",
       "        EXEC_MIME_TYPE\n",
       "      );\n",
       "      this.keyboard_manager.register_events(toinsert);\n",
       "      // Render to node\n",
       "      var props = {data: data, metadata: metadata[EXEC_MIME_TYPE]};\n",
       "      render(props, toinsert[toinsert.length - 1]);\n",
       "      element.append(toinsert);\n",
       "      return toinsert\n",
       "    }\n",
       "\n",
       "    /* Handle when an output is cleared or removed */\n",
       "    events.on('clear_output.CodeCell', handleClearOutput);\n",
       "    events.on('delete.Cell', handleClearOutput);\n",
       "\n",
       "    /* Handle when a new output is added */\n",
       "    events.on('output_added.OutputArea', handleAddOutput);\n",
       "\n",
       "    /**\n",
       "     * Register the mime type and append_mime function with output_area\n",
       "     */\n",
       "    OutputArea.prototype.register_mime_type(EXEC_MIME_TYPE, append_mime, {\n",
       "      /* Is output safe? */\n",
       "      safe: true,\n",
       "      /* Index of renderer in `output_area.display_order` */\n",
       "      index: 0\n",
       "    });\n",
       "  }\n",
       "\n",
       "  // register the mime type if in Jupyter Notebook environment and previously unregistered\n",
       "  if (root.Jupyter !== undefined) {\n",
       "    var events = require('base/js/events');\n",
       "    var OutputArea = require('notebook/js/outputarea').OutputArea;\n",
       "\n",
       "    if (OutputArea.prototype.mime_types().indexOf(EXEC_MIME_TYPE) == -1) {\n",
       "      register_renderer(events, OutputArea);\n",
       "    }\n",
       "  }\n",
       "\n",
       "  \n",
       "  if (typeof (root._bokeh_timeout) === \"undefined\" || force === true) {\n",
       "    root._bokeh_timeout = Date.now() + 5000;\n",
       "    root._bokeh_failed_load = false;\n",
       "  }\n",
       "\n",
       "  var NB_LOAD_WARNING = {'data': {'text/html':\n",
       "     \"<div style='background-color: #fdd'>\\n\"+\n",
       "     \"<p>\\n\"+\n",
       "     \"BokehJS does not appear to have successfully loaded. If loading BokehJS from CDN, this \\n\"+\n",
       "     \"may be due to a slow or bad network connection. Possible fixes:\\n\"+\n",
       "     \"</p>\\n\"+\n",
       "     \"<ul>\\n\"+\n",
       "     \"<li>re-rerun `output_notebook()` to attempt to load from CDN again, or</li>\\n\"+\n",
       "     \"<li>use INLINE resources instead, as so:</li>\\n\"+\n",
       "     \"</ul>\\n\"+\n",
       "     \"<code>\\n\"+\n",
       "     \"from bokeh.resources import INLINE\\n\"+\n",
       "     \"output_notebook(resources=INLINE)\\n\"+\n",
       "     \"</code>\\n\"+\n",
       "     \"</div>\"}};\n",
       "\n",
       "  function display_loaded() {\n",
       "    var el = document.getElementById(\"1002\");\n",
       "    if (el != null) {\n",
       "      el.textContent = \"BokehJS is loading...\";\n",
       "    }\n",
       "    if (root.Bokeh !== undefined) {\n",
       "      if (el != null) {\n",
       "        el.textContent = \"BokehJS \" + root.Bokeh.version + \" successfully loaded.\";\n",
       "      }\n",
       "    } else if (Date.now() < root._bokeh_timeout) {\n",
       "      setTimeout(display_loaded, 100)\n",
       "    }\n",
       "  }\n",
       "\n",
       "\n",
       "  function run_callbacks() {\n",
       "    try {\n",
       "      root._bokeh_onload_callbacks.forEach(function(callback) {\n",
       "        if (callback != null)\n",
       "          callback();\n",
       "      });\n",
       "    } finally {\n",
       "      delete root._bokeh_onload_callbacks\n",
       "    }\n",
       "    console.debug(\"Bokeh: all callbacks have finished\");\n",
       "  }\n",
       "\n",
       "  function load_libs(css_urls, js_urls, callback) {\n",
       "    if (css_urls == null) css_urls = [];\n",
       "    if (js_urls == null) js_urls = [];\n",
       "\n",
       "    root._bokeh_onload_callbacks.push(callback);\n",
       "    if (root._bokeh_is_loading > 0) {\n",
       "      console.debug(\"Bokeh: BokehJS is being loaded, scheduling callback at\", now());\n",
       "      return null;\n",
       "    }\n",
       "    if (js_urls == null || js_urls.length === 0) {\n",
       "      run_callbacks();\n",
       "      return null;\n",
       "    }\n",
       "    console.debug(\"Bokeh: BokehJS not loaded, scheduling load and callback at\", now());\n",
       "    root._bokeh_is_loading = css_urls.length + js_urls.length;\n",
       "\n",
       "    function on_load() {\n",
       "      root._bokeh_is_loading--;\n",
       "      if (root._bokeh_is_loading === 0) {\n",
       "        console.debug(\"Bokeh: all BokehJS libraries/stylesheets loaded\");\n",
       "        run_callbacks()\n",
       "      }\n",
       "    }\n",
       "\n",
       "    function on_error() {\n",
       "      console.error(\"failed to load \" + url);\n",
       "    }\n",
       "\n",
       "    for (var i = 0; i < css_urls.length; i++) {\n",
       "      var url = css_urls[i];\n",
       "      const element = document.createElement(\"link\");\n",
       "      element.onload = on_load;\n",
       "      element.onerror = on_error;\n",
       "      element.rel = \"stylesheet\";\n",
       "      element.type = \"text/css\";\n",
       "      element.href = url;\n",
       "      console.debug(\"Bokeh: injecting link tag for BokehJS stylesheet: \", url);\n",
       "      document.body.appendChild(element);\n",
       "    }\n",
       "\n",
       "    for (var i = 0; i < js_urls.length; i++) {\n",
       "      var url = js_urls[i];\n",
       "      var element = document.createElement('script');\n",
       "      element.onload = on_load;\n",
       "      element.onerror = on_error;\n",
       "      element.async = false;\n",
       "      element.src = url;\n",
       "      console.debug(\"Bokeh: injecting script tag for BokehJS library: \", url);\n",
       "      document.head.appendChild(element);\n",
       "    }\n",
       "  };var element = document.getElementById(\"1002\");\n",
       "  if (element == null) {\n",
       "    console.error(\"Bokeh: ERROR: autoload.js configured with elementid '1002' but no matching script tag was found. \")\n",
       "    return false;\n",
       "  }\n",
       "\n",
       "  function inject_raw_css(css) {\n",
       "    const element = document.createElement(\"style\");\n",
       "    element.appendChild(document.createTextNode(css));\n",
       "    document.body.appendChild(element);\n",
       "  }\n",
       "\n",
       "  \n",
       "  var js_urls = [\"https://cdn.pydata.org/bokeh/release/bokeh-1.4.0.min.js\", \"https://cdn.pydata.org/bokeh/release/bokeh-widgets-1.4.0.min.js\", \"https://cdn.pydata.org/bokeh/release/bokeh-tables-1.4.0.min.js\", \"https://cdn.pydata.org/bokeh/release/bokeh-gl-1.4.0.min.js\"];\n",
       "  var css_urls = [];\n",
       "  \n",
       "\n",
       "  var inline_js = [\n",
       "    function(Bokeh) {\n",
       "      Bokeh.set_log_level(\"info\");\n",
       "    },\n",
       "    function(Bokeh) {\n",
       "    \n",
       "    \n",
       "    }\n",
       "  ];\n",
       "\n",
       "  function run_inline_js() {\n",
       "    \n",
       "    if (root.Bokeh !== undefined || force === true) {\n",
       "      \n",
       "    for (var i = 0; i < inline_js.length; i++) {\n",
       "      inline_js[i].call(root, root.Bokeh);\n",
       "    }\n",
       "    if (force === true) {\n",
       "        display_loaded();\n",
       "      }} else if (Date.now() < root._bokeh_timeout) {\n",
       "      setTimeout(run_inline_js, 100);\n",
       "    } else if (!root._bokeh_failed_load) {\n",
       "      console.log(\"Bokeh: BokehJS failed to load within specified timeout.\");\n",
       "      root._bokeh_failed_load = true;\n",
       "    } else if (force !== true) {\n",
       "      var cell = $(document.getElementById(\"1002\")).parents('.cell').data().cell;\n",
       "      cell.output_area.append_execute_result(NB_LOAD_WARNING)\n",
       "    }\n",
       "\n",
       "  }\n",
       "\n",
       "  if (root._bokeh_is_loading === 0) {\n",
       "    console.debug(\"Bokeh: BokehJS loaded, going straight to plotting\");\n",
       "    run_inline_js();\n",
       "  } else {\n",
       "    load_libs(css_urls, js_urls, function() {\n",
       "      console.debug(\"Bokeh: BokehJS plotting callback run at\", now());\n",
       "      run_inline_js();\n",
       "    });\n",
       "  }\n",
       "}(window));"
      ],
      "application/vnd.bokehjs_load.v0+json": "\n(function(root) {\n  function now() {\n    return new Date();\n  }\n\n  var force = true;\n\n  if (typeof root._bokeh_onload_callbacks === \"undefined\" || force === true) {\n    root._bokeh_onload_callbacks = [];\n    root._bokeh_is_loading = undefined;\n  }\n\n  \n\n  \n  if (typeof (root._bokeh_timeout) === \"undefined\" || force === true) {\n    root._bokeh_timeout = Date.now() + 5000;\n    root._bokeh_failed_load = false;\n  }\n\n  var NB_LOAD_WARNING = {'data': {'text/html':\n     \"<div style='background-color: #fdd'>\\n\"+\n     \"<p>\\n\"+\n     \"BokehJS does not appear to have successfully loaded. If loading BokehJS from CDN, this \\n\"+\n     \"may be due to a slow or bad network connection. Possible fixes:\\n\"+\n     \"</p>\\n\"+\n     \"<ul>\\n\"+\n     \"<li>re-rerun `output_notebook()` to attempt to load from CDN again, or</li>\\n\"+\n     \"<li>use INLINE resources instead, as so:</li>\\n\"+\n     \"</ul>\\n\"+\n     \"<code>\\n\"+\n     \"from bokeh.resources import INLINE\\n\"+\n     \"output_notebook(resources=INLINE)\\n\"+\n     \"</code>\\n\"+\n     \"</div>\"}};\n\n  function display_loaded() {\n    var el = document.getElementById(\"1002\");\n    if (el != null) {\n      el.textContent = \"BokehJS is loading...\";\n    }\n    if (root.Bokeh !== undefined) {\n      if (el != null) {\n        el.textContent = \"BokehJS \" + root.Bokeh.version + \" successfully loaded.\";\n      }\n    } else if (Date.now() < root._bokeh_timeout) {\n      setTimeout(display_loaded, 100)\n    }\n  }\n\n\n  function run_callbacks() {\n    try {\n      root._bokeh_onload_callbacks.forEach(function(callback) {\n        if (callback != null)\n          callback();\n      });\n    } finally {\n      delete root._bokeh_onload_callbacks\n    }\n    console.debug(\"Bokeh: all callbacks have finished\");\n  }\n\n  function load_libs(css_urls, js_urls, callback) {\n    if (css_urls == null) css_urls = [];\n    if (js_urls == null) js_urls = [];\n\n    root._bokeh_onload_callbacks.push(callback);\n    if (root._bokeh_is_loading > 0) {\n      console.debug(\"Bokeh: BokehJS is being loaded, scheduling callback at\", now());\n      return null;\n    }\n    if (js_urls == null || js_urls.length === 0) {\n      run_callbacks();\n      return null;\n    }\n    console.debug(\"Bokeh: BokehJS not loaded, scheduling load and callback at\", now());\n    root._bokeh_is_loading = css_urls.length + js_urls.length;\n\n    function on_load() {\n      root._bokeh_is_loading--;\n      if (root._bokeh_is_loading === 0) {\n        console.debug(\"Bokeh: all BokehJS libraries/stylesheets loaded\");\n        run_callbacks()\n      }\n    }\n\n    function on_error() {\n      console.error(\"failed to load \" + url);\n    }\n\n    for (var i = 0; i < css_urls.length; i++) {\n      var url = css_urls[i];\n      const element = document.createElement(\"link\");\n      element.onload = on_load;\n      element.onerror = on_error;\n      element.rel = \"stylesheet\";\n      element.type = \"text/css\";\n      element.href = url;\n      console.debug(\"Bokeh: injecting link tag for BokehJS stylesheet: \", url);\n      document.body.appendChild(element);\n    }\n\n    for (var i = 0; i < js_urls.length; i++) {\n      var url = js_urls[i];\n      var element = document.createElement('script');\n      element.onload = on_load;\n      element.onerror = on_error;\n      element.async = false;\n      element.src = url;\n      console.debug(\"Bokeh: injecting script tag for BokehJS library: \", url);\n      document.head.appendChild(element);\n    }\n  };var element = document.getElementById(\"1002\");\n  if (element == null) {\n    console.error(\"Bokeh: ERROR: autoload.js configured with elementid '1002' but no matching script tag was found. \")\n    return false;\n  }\n\n  function inject_raw_css(css) {\n    const element = document.createElement(\"style\");\n    element.appendChild(document.createTextNode(css));\n    document.body.appendChild(element);\n  }\n\n  \n  var js_urls = [\"https://cdn.pydata.org/bokeh/release/bokeh-1.4.0.min.js\", \"https://cdn.pydata.org/bokeh/release/bokeh-widgets-1.4.0.min.js\", \"https://cdn.pydata.org/bokeh/release/bokeh-tables-1.4.0.min.js\", \"https://cdn.pydata.org/bokeh/release/bokeh-gl-1.4.0.min.js\"];\n  var css_urls = [];\n  \n\n  var inline_js = [\n    function(Bokeh) {\n      Bokeh.set_log_level(\"info\");\n    },\n    function(Bokeh) {\n    \n    \n    }\n  ];\n\n  function run_inline_js() {\n    \n    if (root.Bokeh !== undefined || force === true) {\n      \n    for (var i = 0; i < inline_js.length; i++) {\n      inline_js[i].call(root, root.Bokeh);\n    }\n    if (force === true) {\n        display_loaded();\n      }} else if (Date.now() < root._bokeh_timeout) {\n      setTimeout(run_inline_js, 100);\n    } else if (!root._bokeh_failed_load) {\n      console.log(\"Bokeh: BokehJS failed to load within specified timeout.\");\n      root._bokeh_failed_load = true;\n    } else if (force !== true) {\n      var cell = $(document.getElementById(\"1002\")).parents('.cell').data().cell;\n      cell.output_area.append_execute_result(NB_LOAD_WARNING)\n    }\n\n  }\n\n  if (root._bokeh_is_loading === 0) {\n    console.debug(\"Bokeh: BokehJS loaded, going straight to plotting\");\n    run_inline_js();\n  } else {\n    load_libs(css_urls, js_urls, function() {\n      console.debug(\"Bokeh: BokehJS plotting callback run at\", now());\n      run_inline_js();\n    });\n  }\n}(window));"
     },
     "metadata": {},
     "output_type": "display_data"
    },
    {
     "data": {
      "application/vnd.bokehjs_exec.v0+json": "",
      "text/html": [
       "\n",
       "<script src=\"http://localhost:54433/autoload.js?bokeh-autoload-element=1003&bokeh-absolute-url=http://localhost:54433&resources=none\" id=\"1003\"></script>"
      ]
     },
     "metadata": {
      "application/vnd.bokehjs_exec.v0+json": {
       "server_id": "e0708d0b2075485f9db88fb851620584"
      }
     },
     "output_type": "display_data"
    }
   ],
   "source": [
    "pl.show_points(df, size=10)"
   ]
  },
  {
   "cell_type": "markdown",
   "id": "fc09367e-f6f1-4dc0-9071-069fd5800648",
   "metadata": {},
   "source": [
    " "
   ]
  },
  {
   "cell_type": "markdown",
   "id": "39998d3a-4621-42a5-9c17-108c28aabfda",
   "metadata": {},
   "source": [
    "## Distance Calculations & Visualization"
   ]
  },
  {
   "cell_type": "markdown",
   "id": "ea355ede-c8cd-411e-bffd-72ecd9299277",
   "metadata": {},
   "source": [
    "A very important (perhaps the most important?) calculation that is commonly done in lipid-protein interaction studies is measuring the distance between a residue and a lipid as a function of simulation time. This gives you a clear idea if the lipid is interacting preferentially with a residue or not. prolintpy provides two different ways to get distance information on lipid-protein interactions. The first method, presented in this section, is automated and relies on the prior calculation of contact-based metrics.\n",
    "\n",
    "The way it works is that it goes through the calculated metrics, sorts them, and gets the top-ranking residues and lipids. It then goes over each residue and lipid combination and gets the best/strongest contact (that is, the contact that is maintained most strongly between the specific residue and lipid)."
   ]
  },
  {
   "cell_type": "code",
   "execution_count": 44,
   "id": "d58fd081-9793-4f11-8619-f21f48f6a64c",
   "metadata": {},
   "outputs": [],
   "source": [
    "dist = contacts.compute_distances(t, proteins[0], [*range(85, 91)], 'POPS', 'PO4', percentile_co=0.05, distance_co=0.7)"
   ]
  },
  {
   "cell_type": "code",
   "execution_count": 45,
   "id": "1d8fa54e-e443-42de-ae6c-b5e12a81a1fa",
   "metadata": {},
   "outputs": [
    {
     "data": {
      "text/html": [
       "\n",
       "    <div class=\"bk-root\">\n",
       "        <a href=\"https://bokeh.org\" target=\"_blank\" class=\"bk-logo bk-logo-small bk-logo-notebook\"></a>\n",
       "        <span id=\"1119\">Loading BokehJS ...</span>\n",
       "    </div>"
      ]
     },
     "metadata": {},
     "output_type": "display_data"
    },
    {
     "data": {
      "application/javascript": [
       "\n",
       "(function(root) {\n",
       "  function now() {\n",
       "    return new Date();\n",
       "  }\n",
       "\n",
       "  var force = true;\n",
       "\n",
       "  if (typeof root._bokeh_onload_callbacks === \"undefined\" || force === true) {\n",
       "    root._bokeh_onload_callbacks = [];\n",
       "    root._bokeh_is_loading = undefined;\n",
       "  }\n",
       "\n",
       "  var JS_MIME_TYPE = 'application/javascript';\n",
       "  var HTML_MIME_TYPE = 'text/html';\n",
       "  var EXEC_MIME_TYPE = 'application/vnd.bokehjs_exec.v0+json';\n",
       "  var CLASS_NAME = 'output_bokeh rendered_html';\n",
       "\n",
       "  /**\n",
       "   * Render data to the DOM node\n",
       "   */\n",
       "  function render(props, node) {\n",
       "    var script = document.createElement(\"script\");\n",
       "    node.appendChild(script);\n",
       "  }\n",
       "\n",
       "  /**\n",
       "   * Handle when an output is cleared or removed\n",
       "   */\n",
       "  function handleClearOutput(event, handle) {\n",
       "    var cell = handle.cell;\n",
       "\n",
       "    var id = cell.output_area._bokeh_element_id;\n",
       "    var server_id = cell.output_area._bokeh_server_id;\n",
       "    // Clean up Bokeh references\n",
       "    if (id != null && id in Bokeh.index) {\n",
       "      Bokeh.index[id].model.document.clear();\n",
       "      delete Bokeh.index[id];\n",
       "    }\n",
       "\n",
       "    if (server_id !== undefined) {\n",
       "      // Clean up Bokeh references\n",
       "      var cmd = \"from bokeh.io.state import curstate; print(curstate().uuid_to_server['\" + server_id + \"'].get_sessions()[0].document.roots[0]._id)\";\n",
       "      cell.notebook.kernel.execute(cmd, {\n",
       "        iopub: {\n",
       "          output: function(msg) {\n",
       "            var id = msg.content.text.trim();\n",
       "            if (id in Bokeh.index) {\n",
       "              Bokeh.index[id].model.document.clear();\n",
       "              delete Bokeh.index[id];\n",
       "            }\n",
       "          }\n",
       "        }\n",
       "      });\n",
       "      // Destroy server and session\n",
       "      var cmd = \"import bokeh.io.notebook as ion; ion.destroy_server('\" + server_id + \"')\";\n",
       "      cell.notebook.kernel.execute(cmd);\n",
       "    }\n",
       "  }\n",
       "\n",
       "  /**\n",
       "   * Handle when a new output is added\n",
       "   */\n",
       "  function handleAddOutput(event, handle) {\n",
       "    var output_area = handle.output_area;\n",
       "    var output = handle.output;\n",
       "\n",
       "    // limit handleAddOutput to display_data with EXEC_MIME_TYPE content only\n",
       "    if ((output.output_type != \"display_data\") || (!output.data.hasOwnProperty(EXEC_MIME_TYPE))) {\n",
       "      return\n",
       "    }\n",
       "\n",
       "    var toinsert = output_area.element.find(\".\" + CLASS_NAME.split(' ')[0]);\n",
       "\n",
       "    if (output.metadata[EXEC_MIME_TYPE][\"id\"] !== undefined) {\n",
       "      toinsert[toinsert.length - 1].firstChild.textContent = output.data[JS_MIME_TYPE];\n",
       "      // store reference to embed id on output_area\n",
       "      output_area._bokeh_element_id = output.metadata[EXEC_MIME_TYPE][\"id\"];\n",
       "    }\n",
       "    if (output.metadata[EXEC_MIME_TYPE][\"server_id\"] !== undefined) {\n",
       "      var bk_div = document.createElement(\"div\");\n",
       "      bk_div.innerHTML = output.data[HTML_MIME_TYPE];\n",
       "      var script_attrs = bk_div.children[0].attributes;\n",
       "      for (var i = 0; i < script_attrs.length; i++) {\n",
       "        toinsert[toinsert.length - 1].firstChild.setAttribute(script_attrs[i].name, script_attrs[i].value);\n",
       "      }\n",
       "      // store reference to server id on output_area\n",
       "      output_area._bokeh_server_id = output.metadata[EXEC_MIME_TYPE][\"server_id\"];\n",
       "    }\n",
       "  }\n",
       "\n",
       "  function register_renderer(events, OutputArea) {\n",
       "\n",
       "    function append_mime(data, metadata, element) {\n",
       "      // create a DOM node to render to\n",
       "      var toinsert = this.create_output_subarea(\n",
       "        metadata,\n",
       "        CLASS_NAME,\n",
       "        EXEC_MIME_TYPE\n",
       "      );\n",
       "      this.keyboard_manager.register_events(toinsert);\n",
       "      // Render to node\n",
       "      var props = {data: data, metadata: metadata[EXEC_MIME_TYPE]};\n",
       "      render(props, toinsert[toinsert.length - 1]);\n",
       "      element.append(toinsert);\n",
       "      return toinsert\n",
       "    }\n",
       "\n",
       "    /* Handle when an output is cleared or removed */\n",
       "    events.on('clear_output.CodeCell', handleClearOutput);\n",
       "    events.on('delete.Cell', handleClearOutput);\n",
       "\n",
       "    /* Handle when a new output is added */\n",
       "    events.on('output_added.OutputArea', handleAddOutput);\n",
       "\n",
       "    /**\n",
       "     * Register the mime type and append_mime function with output_area\n",
       "     */\n",
       "    OutputArea.prototype.register_mime_type(EXEC_MIME_TYPE, append_mime, {\n",
       "      /* Is output safe? */\n",
       "      safe: true,\n",
       "      /* Index of renderer in `output_area.display_order` */\n",
       "      index: 0\n",
       "    });\n",
       "  }\n",
       "\n",
       "  // register the mime type if in Jupyter Notebook environment and previously unregistered\n",
       "  if (root.Jupyter !== undefined) {\n",
       "    var events = require('base/js/events');\n",
       "    var OutputArea = require('notebook/js/outputarea').OutputArea;\n",
       "\n",
       "    if (OutputArea.prototype.mime_types().indexOf(EXEC_MIME_TYPE) == -1) {\n",
       "      register_renderer(events, OutputArea);\n",
       "    }\n",
       "  }\n",
       "\n",
       "  \n",
       "  if (typeof (root._bokeh_timeout) === \"undefined\" || force === true) {\n",
       "    root._bokeh_timeout = Date.now() + 5000;\n",
       "    root._bokeh_failed_load = false;\n",
       "  }\n",
       "\n",
       "  var NB_LOAD_WARNING = {'data': {'text/html':\n",
       "     \"<div style='background-color: #fdd'>\\n\"+\n",
       "     \"<p>\\n\"+\n",
       "     \"BokehJS does not appear to have successfully loaded. If loading BokehJS from CDN, this \\n\"+\n",
       "     \"may be due to a slow or bad network connection. Possible fixes:\\n\"+\n",
       "     \"</p>\\n\"+\n",
       "     \"<ul>\\n\"+\n",
       "     \"<li>re-rerun `output_notebook()` to attempt to load from CDN again, or</li>\\n\"+\n",
       "     \"<li>use INLINE resources instead, as so:</li>\\n\"+\n",
       "     \"</ul>\\n\"+\n",
       "     \"<code>\\n\"+\n",
       "     \"from bokeh.resources import INLINE\\n\"+\n",
       "     \"output_notebook(resources=INLINE)\\n\"+\n",
       "     \"</code>\\n\"+\n",
       "     \"</div>\"}};\n",
       "\n",
       "  function display_loaded() {\n",
       "    var el = document.getElementById(\"1119\");\n",
       "    if (el != null) {\n",
       "      el.textContent = \"BokehJS is loading...\";\n",
       "    }\n",
       "    if (root.Bokeh !== undefined) {\n",
       "      if (el != null) {\n",
       "        el.textContent = \"BokehJS \" + root.Bokeh.version + \" successfully loaded.\";\n",
       "      }\n",
       "    } else if (Date.now() < root._bokeh_timeout) {\n",
       "      setTimeout(display_loaded, 100)\n",
       "    }\n",
       "  }\n",
       "\n",
       "\n",
       "  function run_callbacks() {\n",
       "    try {\n",
       "      root._bokeh_onload_callbacks.forEach(function(callback) {\n",
       "        if (callback != null)\n",
       "          callback();\n",
       "      });\n",
       "    } finally {\n",
       "      delete root._bokeh_onload_callbacks\n",
       "    }\n",
       "    console.debug(\"Bokeh: all callbacks have finished\");\n",
       "  }\n",
       "\n",
       "  function load_libs(css_urls, js_urls, callback) {\n",
       "    if (css_urls == null) css_urls = [];\n",
       "    if (js_urls == null) js_urls = [];\n",
       "\n",
       "    root._bokeh_onload_callbacks.push(callback);\n",
       "    if (root._bokeh_is_loading > 0) {\n",
       "      console.debug(\"Bokeh: BokehJS is being loaded, scheduling callback at\", now());\n",
       "      return null;\n",
       "    }\n",
       "    if (js_urls == null || js_urls.length === 0) {\n",
       "      run_callbacks();\n",
       "      return null;\n",
       "    }\n",
       "    console.debug(\"Bokeh: BokehJS not loaded, scheduling load and callback at\", now());\n",
       "    root._bokeh_is_loading = css_urls.length + js_urls.length;\n",
       "\n",
       "    function on_load() {\n",
       "      root._bokeh_is_loading--;\n",
       "      if (root._bokeh_is_loading === 0) {\n",
       "        console.debug(\"Bokeh: all BokehJS libraries/stylesheets loaded\");\n",
       "        run_callbacks()\n",
       "      }\n",
       "    }\n",
       "\n",
       "    function on_error() {\n",
       "      console.error(\"failed to load \" + url);\n",
       "    }\n",
       "\n",
       "    for (var i = 0; i < css_urls.length; i++) {\n",
       "      var url = css_urls[i];\n",
       "      const element = document.createElement(\"link\");\n",
       "      element.onload = on_load;\n",
       "      element.onerror = on_error;\n",
       "      element.rel = \"stylesheet\";\n",
       "      element.type = \"text/css\";\n",
       "      element.href = url;\n",
       "      console.debug(\"Bokeh: injecting link tag for BokehJS stylesheet: \", url);\n",
       "      document.body.appendChild(element);\n",
       "    }\n",
       "\n",
       "    for (var i = 0; i < js_urls.length; i++) {\n",
       "      var url = js_urls[i];\n",
       "      var element = document.createElement('script');\n",
       "      element.onload = on_load;\n",
       "      element.onerror = on_error;\n",
       "      element.async = false;\n",
       "      element.src = url;\n",
       "      console.debug(\"Bokeh: injecting script tag for BokehJS library: \", url);\n",
       "      document.head.appendChild(element);\n",
       "    }\n",
       "  };var element = document.getElementById(\"1119\");\n",
       "  if (element == null) {\n",
       "    console.error(\"Bokeh: ERROR: autoload.js configured with elementid '1119' but no matching script tag was found. \")\n",
       "    return false;\n",
       "  }\n",
       "\n",
       "  function inject_raw_css(css) {\n",
       "    const element = document.createElement(\"style\");\n",
       "    element.appendChild(document.createTextNode(css));\n",
       "    document.body.appendChild(element);\n",
       "  }\n",
       "\n",
       "  \n",
       "  var js_urls = [\"https://cdn.pydata.org/bokeh/release/bokeh-1.4.0.min.js\", \"https://cdn.pydata.org/bokeh/release/bokeh-widgets-1.4.0.min.js\", \"https://cdn.pydata.org/bokeh/release/bokeh-tables-1.4.0.min.js\", \"https://cdn.pydata.org/bokeh/release/bokeh-gl-1.4.0.min.js\"];\n",
       "  var css_urls = [];\n",
       "  \n",
       "\n",
       "  var inline_js = [\n",
       "    function(Bokeh) {\n",
       "      Bokeh.set_log_level(\"info\");\n",
       "    },\n",
       "    function(Bokeh) {\n",
       "    \n",
       "    \n",
       "    }\n",
       "  ];\n",
       "\n",
       "  function run_inline_js() {\n",
       "    \n",
       "    if (root.Bokeh !== undefined || force === true) {\n",
       "      \n",
       "    for (var i = 0; i < inline_js.length; i++) {\n",
       "      inline_js[i].call(root, root.Bokeh);\n",
       "    }\n",
       "    if (force === true) {\n",
       "        display_loaded();\n",
       "      }} else if (Date.now() < root._bokeh_timeout) {\n",
       "      setTimeout(run_inline_js, 100);\n",
       "    } else if (!root._bokeh_failed_load) {\n",
       "      console.log(\"Bokeh: BokehJS failed to load within specified timeout.\");\n",
       "      root._bokeh_failed_load = true;\n",
       "    } else if (force !== true) {\n",
       "      var cell = $(document.getElementById(\"1119\")).parents('.cell').data().cell;\n",
       "      cell.output_area.append_execute_result(NB_LOAD_WARNING)\n",
       "    }\n",
       "\n",
       "  }\n",
       "\n",
       "  if (root._bokeh_is_loading === 0) {\n",
       "    console.debug(\"Bokeh: BokehJS loaded, going straight to plotting\");\n",
       "    run_inline_js();\n",
       "  } else {\n",
       "    load_libs(css_urls, js_urls, function() {\n",
       "      console.debug(\"Bokeh: BokehJS plotting callback run at\", now());\n",
       "      run_inline_js();\n",
       "    });\n",
       "  }\n",
       "}(window));"
      ],
      "application/vnd.bokehjs_load.v0+json": "\n(function(root) {\n  function now() {\n    return new Date();\n  }\n\n  var force = true;\n\n  if (typeof root._bokeh_onload_callbacks === \"undefined\" || force === true) {\n    root._bokeh_onload_callbacks = [];\n    root._bokeh_is_loading = undefined;\n  }\n\n  \n\n  \n  if (typeof (root._bokeh_timeout) === \"undefined\" || force === true) {\n    root._bokeh_timeout = Date.now() + 5000;\n    root._bokeh_failed_load = false;\n  }\n\n  var NB_LOAD_WARNING = {'data': {'text/html':\n     \"<div style='background-color: #fdd'>\\n\"+\n     \"<p>\\n\"+\n     \"BokehJS does not appear to have successfully loaded. If loading BokehJS from CDN, this \\n\"+\n     \"may be due to a slow or bad network connection. Possible fixes:\\n\"+\n     \"</p>\\n\"+\n     \"<ul>\\n\"+\n     \"<li>re-rerun `output_notebook()` to attempt to load from CDN again, or</li>\\n\"+\n     \"<li>use INLINE resources instead, as so:</li>\\n\"+\n     \"</ul>\\n\"+\n     \"<code>\\n\"+\n     \"from bokeh.resources import INLINE\\n\"+\n     \"output_notebook(resources=INLINE)\\n\"+\n     \"</code>\\n\"+\n     \"</div>\"}};\n\n  function display_loaded() {\n    var el = document.getElementById(\"1119\");\n    if (el != null) {\n      el.textContent = \"BokehJS is loading...\";\n    }\n    if (root.Bokeh !== undefined) {\n      if (el != null) {\n        el.textContent = \"BokehJS \" + root.Bokeh.version + \" successfully loaded.\";\n      }\n    } else if (Date.now() < root._bokeh_timeout) {\n      setTimeout(display_loaded, 100)\n    }\n  }\n\n\n  function run_callbacks() {\n    try {\n      root._bokeh_onload_callbacks.forEach(function(callback) {\n        if (callback != null)\n          callback();\n      });\n    } finally {\n      delete root._bokeh_onload_callbacks\n    }\n    console.debug(\"Bokeh: all callbacks have finished\");\n  }\n\n  function load_libs(css_urls, js_urls, callback) {\n    if (css_urls == null) css_urls = [];\n    if (js_urls == null) js_urls = [];\n\n    root._bokeh_onload_callbacks.push(callback);\n    if (root._bokeh_is_loading > 0) {\n      console.debug(\"Bokeh: BokehJS is being loaded, scheduling callback at\", now());\n      return null;\n    }\n    if (js_urls == null || js_urls.length === 0) {\n      run_callbacks();\n      return null;\n    }\n    console.debug(\"Bokeh: BokehJS not loaded, scheduling load and callback at\", now());\n    root._bokeh_is_loading = css_urls.length + js_urls.length;\n\n    function on_load() {\n      root._bokeh_is_loading--;\n      if (root._bokeh_is_loading === 0) {\n        console.debug(\"Bokeh: all BokehJS libraries/stylesheets loaded\");\n        run_callbacks()\n      }\n    }\n\n    function on_error() {\n      console.error(\"failed to load \" + url);\n    }\n\n    for (var i = 0; i < css_urls.length; i++) {\n      var url = css_urls[i];\n      const element = document.createElement(\"link\");\n      element.onload = on_load;\n      element.onerror = on_error;\n      element.rel = \"stylesheet\";\n      element.type = \"text/css\";\n      element.href = url;\n      console.debug(\"Bokeh: injecting link tag for BokehJS stylesheet: \", url);\n      document.body.appendChild(element);\n    }\n\n    for (var i = 0; i < js_urls.length; i++) {\n      var url = js_urls[i];\n      var element = document.createElement('script');\n      element.onload = on_load;\n      element.onerror = on_error;\n      element.async = false;\n      element.src = url;\n      console.debug(\"Bokeh: injecting script tag for BokehJS library: \", url);\n      document.head.appendChild(element);\n    }\n  };var element = document.getElementById(\"1119\");\n  if (element == null) {\n    console.error(\"Bokeh: ERROR: autoload.js configured with elementid '1119' but no matching script tag was found. \")\n    return false;\n  }\n\n  function inject_raw_css(css) {\n    const element = document.createElement(\"style\");\n    element.appendChild(document.createTextNode(css));\n    document.body.appendChild(element);\n  }\n\n  \n  var js_urls = [\"https://cdn.pydata.org/bokeh/release/bokeh-1.4.0.min.js\", \"https://cdn.pydata.org/bokeh/release/bokeh-widgets-1.4.0.min.js\", \"https://cdn.pydata.org/bokeh/release/bokeh-tables-1.4.0.min.js\", \"https://cdn.pydata.org/bokeh/release/bokeh-gl-1.4.0.min.js\"];\n  var css_urls = [];\n  \n\n  var inline_js = [\n    function(Bokeh) {\n      Bokeh.set_log_level(\"info\");\n    },\n    function(Bokeh) {\n    \n    \n    }\n  ];\n\n  function run_inline_js() {\n    \n    if (root.Bokeh !== undefined || force === true) {\n      \n    for (var i = 0; i < inline_js.length; i++) {\n      inline_js[i].call(root, root.Bokeh);\n    }\n    if (force === true) {\n        display_loaded();\n      }} else if (Date.now() < root._bokeh_timeout) {\n      setTimeout(run_inline_js, 100);\n    } else if (!root._bokeh_failed_load) {\n      console.log(\"Bokeh: BokehJS failed to load within specified timeout.\");\n      root._bokeh_failed_load = true;\n    } else if (force !== true) {\n      var cell = $(document.getElementById(\"1119\")).parents('.cell').data().cell;\n      cell.output_area.append_execute_result(NB_LOAD_WARNING)\n    }\n\n  }\n\n  if (root._bokeh_is_loading === 0) {\n    console.debug(\"Bokeh: BokehJS loaded, going straight to plotting\");\n    run_inline_js();\n  } else {\n    load_libs(css_urls, js_urls, function() {\n      console.debug(\"Bokeh: BokehJS plotting callback run at\", now());\n      run_inline_js();\n    });\n  }\n}(window));"
     },
     "metadata": {},
     "output_type": "display_data"
    },
    {
     "data": {
      "application/vnd.bokehjs_exec.v0+json": "",
      "text/html": [
       "\n",
       "<script src=\"http://localhost:54436/autoload.js?bokeh-autoload-element=1120&bokeh-absolute-url=http://localhost:54436&resources=none\" id=\"1120\"></script>"
      ]
     },
     "metadata": {
      "application/vnd.bokehjs_exec.v0+json": {
       "server_id": "af3dd7104f2b4f4d90bcb9a3e8b93fbd"
      }
     },
     "output_type": "display_data"
    }
   ],
   "source": [
    "pl.show_distances(dist)"
   ]
  },
  {
   "cell_type": "markdown",
   "id": "4e4151ee-caf9-4228-a87d-62f7eec1d1b8",
   "metadata": {},
   "source": [
    " "
   ]
  },
  {
   "cell_type": "markdown",
   "id": "bc35967f-5055-432f-ae35-a631a827ab02",
   "metadata": {},
   "source": [
    "The second way `prolintpy` calculates and visualizes distances is by not relying on any prior calcualted metrics. Instead, you simply supply the protein\n",
    "and list of residues along with threshold arguments, and `prolintpy` will then calculate distance measurements.\n",
    "\n",
    "Given a list of input residues,\n",
    "this function will loop through all the lipids in the system and display distances with best ranking lipids. Ranking is decided\n",
    "based on the following parameters:\n",
    "\n",
    "| Argument      | Default | Description                                                                                                              |\n",
    "| ------------- | ------- | ------------------------------------------------------------------------------------------------------------------------ |\n",
    "| distance_co   | 0.7     | A cutoff distance (nm) that a lipid must satisfy for `percentile_co` frames of the trajectory.                           |\n",
    "| percentile_co | 0.05    | The percentage of the trajectory (measured in frames) that a lipid must be within the `distance_co` for it to be stored. |\n",
    "\n",
    "Here is an example application:"
   ]
  },
  {
   "cell_type": "code",
   "execution_count": 46,
   "id": "63ff9b20-6c7a-46a4-a7c6-828c4d1aa795",
   "metadata": {},
   "outputs": [],
   "source": [
    "from prolintpy.core.computecontacts import retrieve_distances"
   ]
  },
  {
   "cell_type": "markdown",
   "id": "28d9a3fb-1491-41ed-8d60-f24a2ccad6ab",
   "metadata": {},
   "source": [
    "We first build a dictionary of lipids and residues that are interacting preferably and then we compute the distances between them. <br>\n",
    "You can use the `top_nr` argument to indicate how many top ranking results you want to consider. \n",
    "\n",
    "This application is more computationally expensive since it requires the prior calculation of contact-based metrics, but it is much better in extracting good contacts. <br>\n",
    "It also does not require any threshold definitions or manual input of lipid and residue ids. "
   ]
  },
  {
   "cell_type": "code",
   "execution_count": 47,
   "id": "cb1dab91-f851-4432-b502-fb4a5ec6d858",
   "metadata": {},
   "outputs": [],
   "source": [
    "distances_dict, SYSTEM_LIPIDS, lipids_found = retrieve_distances(df, group_lipids=False, resolution=resolution, lipids=lipids, top_nr=30)\n",
    "distances = contacts.compute_lipid_distances(t, proteins[0], distances_dict, SYSTEM_LIPIDS, lipids_found)"
   ]
  },
  {
   "cell_type": "code",
   "execution_count": 48,
   "id": "e529a37f-8d70-4da3-9133-e795c2a8c325",
   "metadata": {},
   "outputs": [
    {
     "data": {
      "text/html": [
       "\n",
       "    <div class=\"bk-root\">\n",
       "        <a href=\"https://bokeh.org\" target=\"_blank\" class=\"bk-logo bk-logo-small bk-logo-notebook\"></a>\n",
       "        <span id=\"1258\">Loading BokehJS ...</span>\n",
       "    </div>"
      ]
     },
     "metadata": {},
     "output_type": "display_data"
    },
    {
     "data": {
      "application/javascript": [
       "\n",
       "(function(root) {\n",
       "  function now() {\n",
       "    return new Date();\n",
       "  }\n",
       "\n",
       "  var force = true;\n",
       "\n",
       "  if (typeof root._bokeh_onload_callbacks === \"undefined\" || force === true) {\n",
       "    root._bokeh_onload_callbacks = [];\n",
       "    root._bokeh_is_loading = undefined;\n",
       "  }\n",
       "\n",
       "  var JS_MIME_TYPE = 'application/javascript';\n",
       "  var HTML_MIME_TYPE = 'text/html';\n",
       "  var EXEC_MIME_TYPE = 'application/vnd.bokehjs_exec.v0+json';\n",
       "  var CLASS_NAME = 'output_bokeh rendered_html';\n",
       "\n",
       "  /**\n",
       "   * Render data to the DOM node\n",
       "   */\n",
       "  function render(props, node) {\n",
       "    var script = document.createElement(\"script\");\n",
       "    node.appendChild(script);\n",
       "  }\n",
       "\n",
       "  /**\n",
       "   * Handle when an output is cleared or removed\n",
       "   */\n",
       "  function handleClearOutput(event, handle) {\n",
       "    var cell = handle.cell;\n",
       "\n",
       "    var id = cell.output_area._bokeh_element_id;\n",
       "    var server_id = cell.output_area._bokeh_server_id;\n",
       "    // Clean up Bokeh references\n",
       "    if (id != null && id in Bokeh.index) {\n",
       "      Bokeh.index[id].model.document.clear();\n",
       "      delete Bokeh.index[id];\n",
       "    }\n",
       "\n",
       "    if (server_id !== undefined) {\n",
       "      // Clean up Bokeh references\n",
       "      var cmd = \"from bokeh.io.state import curstate; print(curstate().uuid_to_server['\" + server_id + \"'].get_sessions()[0].document.roots[0]._id)\";\n",
       "      cell.notebook.kernel.execute(cmd, {\n",
       "        iopub: {\n",
       "          output: function(msg) {\n",
       "            var id = msg.content.text.trim();\n",
       "            if (id in Bokeh.index) {\n",
       "              Bokeh.index[id].model.document.clear();\n",
       "              delete Bokeh.index[id];\n",
       "            }\n",
       "          }\n",
       "        }\n",
       "      });\n",
       "      // Destroy server and session\n",
       "      var cmd = \"import bokeh.io.notebook as ion; ion.destroy_server('\" + server_id + \"')\";\n",
       "      cell.notebook.kernel.execute(cmd);\n",
       "    }\n",
       "  }\n",
       "\n",
       "  /**\n",
       "   * Handle when a new output is added\n",
       "   */\n",
       "  function handleAddOutput(event, handle) {\n",
       "    var output_area = handle.output_area;\n",
       "    var output = handle.output;\n",
       "\n",
       "    // limit handleAddOutput to display_data with EXEC_MIME_TYPE content only\n",
       "    if ((output.output_type != \"display_data\") || (!output.data.hasOwnProperty(EXEC_MIME_TYPE))) {\n",
       "      return\n",
       "    }\n",
       "\n",
       "    var toinsert = output_area.element.find(\".\" + CLASS_NAME.split(' ')[0]);\n",
       "\n",
       "    if (output.metadata[EXEC_MIME_TYPE][\"id\"] !== undefined) {\n",
       "      toinsert[toinsert.length - 1].firstChild.textContent = output.data[JS_MIME_TYPE];\n",
       "      // store reference to embed id on output_area\n",
       "      output_area._bokeh_element_id = output.metadata[EXEC_MIME_TYPE][\"id\"];\n",
       "    }\n",
       "    if (output.metadata[EXEC_MIME_TYPE][\"server_id\"] !== undefined) {\n",
       "      var bk_div = document.createElement(\"div\");\n",
       "      bk_div.innerHTML = output.data[HTML_MIME_TYPE];\n",
       "      var script_attrs = bk_div.children[0].attributes;\n",
       "      for (var i = 0; i < script_attrs.length; i++) {\n",
       "        toinsert[toinsert.length - 1].firstChild.setAttribute(script_attrs[i].name, script_attrs[i].value);\n",
       "      }\n",
       "      // store reference to server id on output_area\n",
       "      output_area._bokeh_server_id = output.metadata[EXEC_MIME_TYPE][\"server_id\"];\n",
       "    }\n",
       "  }\n",
       "\n",
       "  function register_renderer(events, OutputArea) {\n",
       "\n",
       "    function append_mime(data, metadata, element) {\n",
       "      // create a DOM node to render to\n",
       "      var toinsert = this.create_output_subarea(\n",
       "        metadata,\n",
       "        CLASS_NAME,\n",
       "        EXEC_MIME_TYPE\n",
       "      );\n",
       "      this.keyboard_manager.register_events(toinsert);\n",
       "      // Render to node\n",
       "      var props = {data: data, metadata: metadata[EXEC_MIME_TYPE]};\n",
       "      render(props, toinsert[toinsert.length - 1]);\n",
       "      element.append(toinsert);\n",
       "      return toinsert\n",
       "    }\n",
       "\n",
       "    /* Handle when an output is cleared or removed */\n",
       "    events.on('clear_output.CodeCell', handleClearOutput);\n",
       "    events.on('delete.Cell', handleClearOutput);\n",
       "\n",
       "    /* Handle when a new output is added */\n",
       "    events.on('output_added.OutputArea', handleAddOutput);\n",
       "\n",
       "    /**\n",
       "     * Register the mime type and append_mime function with output_area\n",
       "     */\n",
       "    OutputArea.prototype.register_mime_type(EXEC_MIME_TYPE, append_mime, {\n",
       "      /* Is output safe? */\n",
       "      safe: true,\n",
       "      /* Index of renderer in `output_area.display_order` */\n",
       "      index: 0\n",
       "    });\n",
       "  }\n",
       "\n",
       "  // register the mime type if in Jupyter Notebook environment and previously unregistered\n",
       "  if (root.Jupyter !== undefined) {\n",
       "    var events = require('base/js/events');\n",
       "    var OutputArea = require('notebook/js/outputarea').OutputArea;\n",
       "\n",
       "    if (OutputArea.prototype.mime_types().indexOf(EXEC_MIME_TYPE) == -1) {\n",
       "      register_renderer(events, OutputArea);\n",
       "    }\n",
       "  }\n",
       "\n",
       "  \n",
       "  if (typeof (root._bokeh_timeout) === \"undefined\" || force === true) {\n",
       "    root._bokeh_timeout = Date.now() + 5000;\n",
       "    root._bokeh_failed_load = false;\n",
       "  }\n",
       "\n",
       "  var NB_LOAD_WARNING = {'data': {'text/html':\n",
       "     \"<div style='background-color: #fdd'>\\n\"+\n",
       "     \"<p>\\n\"+\n",
       "     \"BokehJS does not appear to have successfully loaded. If loading BokehJS from CDN, this \\n\"+\n",
       "     \"may be due to a slow or bad network connection. Possible fixes:\\n\"+\n",
       "     \"</p>\\n\"+\n",
       "     \"<ul>\\n\"+\n",
       "     \"<li>re-rerun `output_notebook()` to attempt to load from CDN again, or</li>\\n\"+\n",
       "     \"<li>use INLINE resources instead, as so:</li>\\n\"+\n",
       "     \"</ul>\\n\"+\n",
       "     \"<code>\\n\"+\n",
       "     \"from bokeh.resources import INLINE\\n\"+\n",
       "     \"output_notebook(resources=INLINE)\\n\"+\n",
       "     \"</code>\\n\"+\n",
       "     \"</div>\"}};\n",
       "\n",
       "  function display_loaded() {\n",
       "    var el = document.getElementById(\"1258\");\n",
       "    if (el != null) {\n",
       "      el.textContent = \"BokehJS is loading...\";\n",
       "    }\n",
       "    if (root.Bokeh !== undefined) {\n",
       "      if (el != null) {\n",
       "        el.textContent = \"BokehJS \" + root.Bokeh.version + \" successfully loaded.\";\n",
       "      }\n",
       "    } else if (Date.now() < root._bokeh_timeout) {\n",
       "      setTimeout(display_loaded, 100)\n",
       "    }\n",
       "  }\n",
       "\n",
       "\n",
       "  function run_callbacks() {\n",
       "    try {\n",
       "      root._bokeh_onload_callbacks.forEach(function(callback) {\n",
       "        if (callback != null)\n",
       "          callback();\n",
       "      });\n",
       "    } finally {\n",
       "      delete root._bokeh_onload_callbacks\n",
       "    }\n",
       "    console.debug(\"Bokeh: all callbacks have finished\");\n",
       "  }\n",
       "\n",
       "  function load_libs(css_urls, js_urls, callback) {\n",
       "    if (css_urls == null) css_urls = [];\n",
       "    if (js_urls == null) js_urls = [];\n",
       "\n",
       "    root._bokeh_onload_callbacks.push(callback);\n",
       "    if (root._bokeh_is_loading > 0) {\n",
       "      console.debug(\"Bokeh: BokehJS is being loaded, scheduling callback at\", now());\n",
       "      return null;\n",
       "    }\n",
       "    if (js_urls == null || js_urls.length === 0) {\n",
       "      run_callbacks();\n",
       "      return null;\n",
       "    }\n",
       "    console.debug(\"Bokeh: BokehJS not loaded, scheduling load and callback at\", now());\n",
       "    root._bokeh_is_loading = css_urls.length + js_urls.length;\n",
       "\n",
       "    function on_load() {\n",
       "      root._bokeh_is_loading--;\n",
       "      if (root._bokeh_is_loading === 0) {\n",
       "        console.debug(\"Bokeh: all BokehJS libraries/stylesheets loaded\");\n",
       "        run_callbacks()\n",
       "      }\n",
       "    }\n",
       "\n",
       "    function on_error() {\n",
       "      console.error(\"failed to load \" + url);\n",
       "    }\n",
       "\n",
       "    for (var i = 0; i < css_urls.length; i++) {\n",
       "      var url = css_urls[i];\n",
       "      const element = document.createElement(\"link\");\n",
       "      element.onload = on_load;\n",
       "      element.onerror = on_error;\n",
       "      element.rel = \"stylesheet\";\n",
       "      element.type = \"text/css\";\n",
       "      element.href = url;\n",
       "      console.debug(\"Bokeh: injecting link tag for BokehJS stylesheet: \", url);\n",
       "      document.body.appendChild(element);\n",
       "    }\n",
       "\n",
       "    for (var i = 0; i < js_urls.length; i++) {\n",
       "      var url = js_urls[i];\n",
       "      var element = document.createElement('script');\n",
       "      element.onload = on_load;\n",
       "      element.onerror = on_error;\n",
       "      element.async = false;\n",
       "      element.src = url;\n",
       "      console.debug(\"Bokeh: injecting script tag for BokehJS library: \", url);\n",
       "      document.head.appendChild(element);\n",
       "    }\n",
       "  };var element = document.getElementById(\"1258\");\n",
       "  if (element == null) {\n",
       "    console.error(\"Bokeh: ERROR: autoload.js configured with elementid '1258' but no matching script tag was found. \")\n",
       "    return false;\n",
       "  }\n",
       "\n",
       "  function inject_raw_css(css) {\n",
       "    const element = document.createElement(\"style\");\n",
       "    element.appendChild(document.createTextNode(css));\n",
       "    document.body.appendChild(element);\n",
       "  }\n",
       "\n",
       "  \n",
       "  var js_urls = [\"https://cdn.pydata.org/bokeh/release/bokeh-1.4.0.min.js\", \"https://cdn.pydata.org/bokeh/release/bokeh-widgets-1.4.0.min.js\", \"https://cdn.pydata.org/bokeh/release/bokeh-tables-1.4.0.min.js\", \"https://cdn.pydata.org/bokeh/release/bokeh-gl-1.4.0.min.js\"];\n",
       "  var css_urls = [];\n",
       "  \n",
       "\n",
       "  var inline_js = [\n",
       "    function(Bokeh) {\n",
       "      Bokeh.set_log_level(\"info\");\n",
       "    },\n",
       "    function(Bokeh) {\n",
       "    \n",
       "    \n",
       "    }\n",
       "  ];\n",
       "\n",
       "  function run_inline_js() {\n",
       "    \n",
       "    if (root.Bokeh !== undefined || force === true) {\n",
       "      \n",
       "    for (var i = 0; i < inline_js.length; i++) {\n",
       "      inline_js[i].call(root, root.Bokeh);\n",
       "    }\n",
       "    if (force === true) {\n",
       "        display_loaded();\n",
       "      }} else if (Date.now() < root._bokeh_timeout) {\n",
       "      setTimeout(run_inline_js, 100);\n",
       "    } else if (!root._bokeh_failed_load) {\n",
       "      console.log(\"Bokeh: BokehJS failed to load within specified timeout.\");\n",
       "      root._bokeh_failed_load = true;\n",
       "    } else if (force !== true) {\n",
       "      var cell = $(document.getElementById(\"1258\")).parents('.cell').data().cell;\n",
       "      cell.output_area.append_execute_result(NB_LOAD_WARNING)\n",
       "    }\n",
       "\n",
       "  }\n",
       "\n",
       "  if (root._bokeh_is_loading === 0) {\n",
       "    console.debug(\"Bokeh: BokehJS loaded, going straight to plotting\");\n",
       "    run_inline_js();\n",
       "  } else {\n",
       "    load_libs(css_urls, js_urls, function() {\n",
       "      console.debug(\"Bokeh: BokehJS plotting callback run at\", now());\n",
       "      run_inline_js();\n",
       "    });\n",
       "  }\n",
       "}(window));"
      ],
      "application/vnd.bokehjs_load.v0+json": "\n(function(root) {\n  function now() {\n    return new Date();\n  }\n\n  var force = true;\n\n  if (typeof root._bokeh_onload_callbacks === \"undefined\" || force === true) {\n    root._bokeh_onload_callbacks = [];\n    root._bokeh_is_loading = undefined;\n  }\n\n  \n\n  \n  if (typeof (root._bokeh_timeout) === \"undefined\" || force === true) {\n    root._bokeh_timeout = Date.now() + 5000;\n    root._bokeh_failed_load = false;\n  }\n\n  var NB_LOAD_WARNING = {'data': {'text/html':\n     \"<div style='background-color: #fdd'>\\n\"+\n     \"<p>\\n\"+\n     \"BokehJS does not appear to have successfully loaded. If loading BokehJS from CDN, this \\n\"+\n     \"may be due to a slow or bad network connection. Possible fixes:\\n\"+\n     \"</p>\\n\"+\n     \"<ul>\\n\"+\n     \"<li>re-rerun `output_notebook()` to attempt to load from CDN again, or</li>\\n\"+\n     \"<li>use INLINE resources instead, as so:</li>\\n\"+\n     \"</ul>\\n\"+\n     \"<code>\\n\"+\n     \"from bokeh.resources import INLINE\\n\"+\n     \"output_notebook(resources=INLINE)\\n\"+\n     \"</code>\\n\"+\n     \"</div>\"}};\n\n  function display_loaded() {\n    var el = document.getElementById(\"1258\");\n    if (el != null) {\n      el.textContent = \"BokehJS is loading...\";\n    }\n    if (root.Bokeh !== undefined) {\n      if (el != null) {\n        el.textContent = \"BokehJS \" + root.Bokeh.version + \" successfully loaded.\";\n      }\n    } else if (Date.now() < root._bokeh_timeout) {\n      setTimeout(display_loaded, 100)\n    }\n  }\n\n\n  function run_callbacks() {\n    try {\n      root._bokeh_onload_callbacks.forEach(function(callback) {\n        if (callback != null)\n          callback();\n      });\n    } finally {\n      delete root._bokeh_onload_callbacks\n    }\n    console.debug(\"Bokeh: all callbacks have finished\");\n  }\n\n  function load_libs(css_urls, js_urls, callback) {\n    if (css_urls == null) css_urls = [];\n    if (js_urls == null) js_urls = [];\n\n    root._bokeh_onload_callbacks.push(callback);\n    if (root._bokeh_is_loading > 0) {\n      console.debug(\"Bokeh: BokehJS is being loaded, scheduling callback at\", now());\n      return null;\n    }\n    if (js_urls == null || js_urls.length === 0) {\n      run_callbacks();\n      return null;\n    }\n    console.debug(\"Bokeh: BokehJS not loaded, scheduling load and callback at\", now());\n    root._bokeh_is_loading = css_urls.length + js_urls.length;\n\n    function on_load() {\n      root._bokeh_is_loading--;\n      if (root._bokeh_is_loading === 0) {\n        console.debug(\"Bokeh: all BokehJS libraries/stylesheets loaded\");\n        run_callbacks()\n      }\n    }\n\n    function on_error() {\n      console.error(\"failed to load \" + url);\n    }\n\n    for (var i = 0; i < css_urls.length; i++) {\n      var url = css_urls[i];\n      const element = document.createElement(\"link\");\n      element.onload = on_load;\n      element.onerror = on_error;\n      element.rel = \"stylesheet\";\n      element.type = \"text/css\";\n      element.href = url;\n      console.debug(\"Bokeh: injecting link tag for BokehJS stylesheet: \", url);\n      document.body.appendChild(element);\n    }\n\n    for (var i = 0; i < js_urls.length; i++) {\n      var url = js_urls[i];\n      var element = document.createElement('script');\n      element.onload = on_load;\n      element.onerror = on_error;\n      element.async = false;\n      element.src = url;\n      console.debug(\"Bokeh: injecting script tag for BokehJS library: \", url);\n      document.head.appendChild(element);\n    }\n  };var element = document.getElementById(\"1258\");\n  if (element == null) {\n    console.error(\"Bokeh: ERROR: autoload.js configured with elementid '1258' but no matching script tag was found. \")\n    return false;\n  }\n\n  function inject_raw_css(css) {\n    const element = document.createElement(\"style\");\n    element.appendChild(document.createTextNode(css));\n    document.body.appendChild(element);\n  }\n\n  \n  var js_urls = [\"https://cdn.pydata.org/bokeh/release/bokeh-1.4.0.min.js\", \"https://cdn.pydata.org/bokeh/release/bokeh-widgets-1.4.0.min.js\", \"https://cdn.pydata.org/bokeh/release/bokeh-tables-1.4.0.min.js\", \"https://cdn.pydata.org/bokeh/release/bokeh-gl-1.4.0.min.js\"];\n  var css_urls = [];\n  \n\n  var inline_js = [\n    function(Bokeh) {\n      Bokeh.set_log_level(\"info\");\n    },\n    function(Bokeh) {\n    \n    \n    }\n  ];\n\n  function run_inline_js() {\n    \n    if (root.Bokeh !== undefined || force === true) {\n      \n    for (var i = 0; i < inline_js.length; i++) {\n      inline_js[i].call(root, root.Bokeh);\n    }\n    if (force === true) {\n        display_loaded();\n      }} else if (Date.now() < root._bokeh_timeout) {\n      setTimeout(run_inline_js, 100);\n    } else if (!root._bokeh_failed_load) {\n      console.log(\"Bokeh: BokehJS failed to load within specified timeout.\");\n      root._bokeh_failed_load = true;\n    } else if (force !== true) {\n      var cell = $(document.getElementById(\"1258\")).parents('.cell').data().cell;\n      cell.output_area.append_execute_result(NB_LOAD_WARNING)\n    }\n\n  }\n\n  if (root._bokeh_is_loading === 0) {\n    console.debug(\"Bokeh: BokehJS loaded, going straight to plotting\");\n    run_inline_js();\n  } else {\n    load_libs(css_urls, js_urls, function() {\n      console.debug(\"Bokeh: BokehJS plotting callback run at\", now());\n      run_inline_js();\n    });\n  }\n}(window));"
     },
     "metadata": {},
     "output_type": "display_data"
    },
    {
     "data": {
      "application/vnd.bokehjs_exec.v0+json": "",
      "text/html": [
       "\n",
       "<script src=\"http://localhost:54440/autoload.js?bokeh-autoload-element=1259&bokeh-absolute-url=http://localhost:54440&resources=none\" id=\"1259\"></script>"
      ]
     },
     "metadata": {
      "application/vnd.bokehjs_exec.v0+json": {
       "server_id": "b8227d0fe6674cd88155296f35a20860"
      }
     },
     "output_type": "display_data"
    }
   ],
   "source": [
    "pl.show_metric_distances(distances)"
   ]
  },
  {
   "cell_type": "markdown",
   "id": "ab587726-2f72-467a-b93b-fa3a0f37f61a",
   "metadata": {},
   "source": [
    " "
   ]
  },
  {
   "cell_type": "markdown",
   "id": "e6ae8f87-e22b-49cb-8512-989355b0b6b1",
   "metadata": {},
   "source": [
    "## Contact Projection"
   ]
  },
  {
   "cell_type": "markdown",
   "id": "0379e44b-0241-44f8-b85b-40e2d79c3123",
   "metadata": {},
   "source": [
    "May need to execute: ```jupyter-nbextension enable nglview --py --sys-prefix```\n",
    "if visualization does not show"
   ]
  },
  {
   "cell_type": "code",
   "execution_count": 49,
   "id": "7839e9f1-943e-4c80-b935-8d83ca5bdaec",
   "metadata": {},
   "outputs": [
    {
     "data": {
      "application/vnd.jupyter.widget-view+json": {
       "model_id": "14e7bc3928a24f8aaa99398ae6823256",
       "version_major": 2,
       "version_minor": 0
      },
      "text/plain": [
       "NGLWidget()"
      ]
     },
     "metadata": {},
     "output_type": "display_data"
    }
   ],
   "source": [
    "# if you have multiple cutoffs then you also need to filter the dataframe using one of the cutoffs. \n",
    "contact_values = df[df.Lipids == \"CHOL\"].Longest_Duration.to_list()\n",
    "\n",
    "# residue_list is only required when working with a subset of protein residues. \n",
    "residues = df[df.Lipids == \"CHOL\"].ResID.to_list()\n",
    "\n",
    "pl.show_contact_projection(t, bf=contact_values, protein=proteins[0], residue_list=residues, ngl_repr='spacefill', cmap=\"Reds\")"
   ]
  },
  {
   "cell_type": "markdown",
   "id": "01771c01-802d-43e8-874a-6f4d7b4035c9",
   "metadata": {},
   "source": [
    " "
   ]
  },
  {
   "cell_type": "markdown",
   "id": "40fb125f-38a5-4a39-b642-609cfb745b28",
   "metadata": {},
   "source": [
    "# What else? "
   ]
  },
  {
   "cell_type": "markdown",
   "id": "9713635f-59b8-4706-b1c9-90a95279e79c",
   "metadata": {},
   "source": [
    "`prolintpy` supports other application which are not shown here. They are part of the `prolintpy.vis` module. \n",
    "`prolintpy` is part of ProLint, a framework to automate analysis and visualization of lipid-protein interactions. <br>\n",
    "\n",
    "#### Source Code & Documentation\n",
    "The source code is available here: https://github.com/ProLint/prolintpy <br>\n",
    "The documentation is available here: https://prolint.github.io/prolintpy <br>\n",
    "The webserver and its documentation: https://prolint.ca <br>\n",
    "The source code of the webserver: https://github.com/ProLint/ProLint <br>\n",
    "\n",
    " "
   ]
  },
  {
   "cell_type": "markdown",
   "id": "a04e24c1-e9bb-478b-921d-55f3c8e4d33b",
   "metadata": {},
   "source": [
    "## Exercise"
   ]
  },
  {
   "cell_type": "markdown",
   "id": "12c615ca-eab9-4944-a413-760aa8f6d9fa",
   "metadata": {},
   "source": [
    "Test the above commands using a system that contains multiple proteins in different number of copies/replicates. <br>\n",
    "The test files `test_data_2.xtc`  and `test_data_2.gro` contain a system that has four copies/replicates of one protein type, with 60+ different lipid types (see image below). "
   ]
  },
  {
   "cell_type": "markdown",
   "id": "eeb6f57e-f24e-439d-b889-9e792cd58243",
   "metadata": {},
   "source": [
    "<!-- ![title](images/sys_1_front.png)  -->\n",
    "<img src=\"images/sys_2.png\" alt=\"system_front\" style=\"width:1200px;\"/>"
   ]
  },
  {
   "cell_type": "code",
   "execution_count": null,
   "id": "f7c5fffc-6f8d-46c2-b95e-faaa64975aea",
   "metadata": {},
   "outputs": [],
   "source": [
    "t = md.load('./data/test_data_2.xtc', top='./data/test_data_2.gro')"
   ]
  },
  {
   "cell_type": "markdown",
   "id": "169c1b1b-4124-4a0a-b002-18b6c8908ba4",
   "metadata": {},
   "source": [
    " "
   ]
  }
 ],
 "metadata": {
  "kernelspec": {
   "display_name": "Python 3 (ipykernel)",
   "language": "python",
   "name": "python3"
  },
  "language_info": {
   "codemirror_mode": {
    "name": "ipython",
    "version": 3
   },
   "file_extension": ".py",
   "mimetype": "text/x-python",
   "name": "python",
   "nbconvert_exporter": "python",
   "pygments_lexer": "ipython3",
   "version": "3.7.11"
  }
 },
 "nbformat": 4,
 "nbformat_minor": 5
}
